{
 "cells": [
  {
   "cell_type": "markdown",
   "metadata": {},
   "source": [
    "# 기초 회귀 분석"
   ]
  },
  {
   "cell_type": "markdown",
   "metadata": {},
   "source": [
    "[공공데이터 포털](https://www.data.go.kr/index.do)  \n",
    "[국가데이터 포털](http://kosis.kr/index/index.do;jsessionid=scj4MBBcLckIlSdvyCGUz5NbVjZw1iImrtabzwXaOV87aNPoV2evvfX059UazXWa.STAT_WAS2_servlet_engine1)   \n",
    "[통계청](http://kostat.go.kr/portal/korea/index.action)   \n",
    "[Kaggle Datasets](https://www.kaggle.com/datasets)"
   ]
  },
  {
   "cell_type": "markdown",
   "metadata": {},
   "source": [
    "<a id= '0'></a>"
   ]
  },
  {
   "cell_type": "markdown",
   "metadata": {},
   "source": [
    "## Table of contents    \n",
    "1. [키와 몸무게의 상관 관계](#1)   \n",
    "2. [실습: 보스톤 집값 예측 모델](#2)  \n",
    "3. [Multiple Regression](#3)\n",
    "4. [실습: winearoma 데이터셋](#4)\n",
    "5. [데이터 시각화](#5)\n",
    "6. [Train test set split and evaluation](#6)\n",
    "7. [실습: winearoma 데이터셋에 대해 train과 test 에러 계산하기](#7)   \n",
    "8. [Cross validation 이용](#8)"
   ]
  },
  {
   "cell_type": "markdown",
   "metadata": {},
   "source": [
    "<a id= '1'></a>"
   ]
  },
  {
   "cell_type": "markdown",
   "metadata": {},
   "source": [
    "## [키와 몸무게의 상관 관계](#0)"
   ]
  },
  {
   "cell_type": "markdown",
   "metadata": {},
   "source": [
    "### 필요한 library 임포트"
   ]
  },
  {
   "cell_type": "code",
   "execution_count": 1,
   "metadata": {},
   "outputs": [],
   "source": [
    "# 필요한 library 임포트\n",
    "import numpy as np\n",
    "import pandas as pd\n",
    "from sklearn.linear_model import LinearRegression\n",
    "from sklearn.metrics import mean_squared_error\n",
    "import matplotlib.pyplot as plt\n",
    "import seaborn as sns\n",
    "\n",
    "import statsmodels.api as sm"
   ]
  },
  {
   "cell_type": "code",
   "execution_count": 2,
   "metadata": {},
   "outputs": [],
   "source": [
    "import warnings\n",
    "\n",
    "warnings.filterwarnings(action='ignore')\n",
    "# warnings.filterwarnings(action='default')"
   ]
  },
  {
   "cell_type": "markdown",
   "metadata": {},
   "source": [
    "### 데이터 불러오기 및 전처리"
   ]
  },
  {
   "cell_type": "code",
   "execution_count": 3,
   "metadata": {},
   "outputs": [],
   "source": [
    "df = pd.read_csv('./student.csv', engine = 'python')"
   ]
  },
  {
   "cell_type": "code",
   "execution_count": 4,
   "metadata": {},
   "outputs": [
    {
     "data": {
      "text/html": [
       "<div>\n",
       "<style scoped>\n",
       "    .dataframe tbody tr th:only-of-type {\n",
       "        vertical-align: middle;\n",
       "    }\n",
       "\n",
       "    .dataframe tbody tr th {\n",
       "        vertical-align: top;\n",
       "    }\n",
       "\n",
       "    .dataframe thead th {\n",
       "        text-align: right;\n",
       "    }\n",
       "</style>\n",
       "<table border=\"1\" class=\"dataframe\">\n",
       "  <thead>\n",
       "    <tr style=\"text-align: right;\">\n",
       "      <th></th>\n",
       "      <th>ID</th>\n",
       "      <th>최종가중치</th>\n",
       "      <th>학교ID</th>\n",
       "      <th>도시규모</th>\n",
       "      <th>도시규모별분석용</th>\n",
       "      <th>학년도</th>\n",
       "      <th>광역시도</th>\n",
       "      <th>시도별</th>\n",
       "      <th>학교급별</th>\n",
       "      <th>학교명</th>\n",
       "      <th>...</th>\n",
       "      <th>키</th>\n",
       "      <th>몸무게</th>\n",
       "      <th>혈당식전mgdl</th>\n",
       "      <th>총콜레스테롤mgdl</th>\n",
       "      <th>ASTUL</th>\n",
       "      <th>ALTUL</th>\n",
       "      <th>혈색소gdl</th>\n",
       "      <th>간염검사</th>\n",
       "      <th>수축기</th>\n",
       "      <th>이완기</th>\n",
       "    </tr>\n",
       "  </thead>\n",
       "  <tbody>\n",
       "    <tr>\n",
       "      <th>0</th>\n",
       "      <td>Aa011남10101</td>\n",
       "      <td>169.550665</td>\n",
       "      <td>Aa01</td>\n",
       "      <td>대도시/중소도시</td>\n",
       "      <td>특별/광역시</td>\n",
       "      <td>2015</td>\n",
       "      <td>서울</td>\n",
       "      <td>서울특별시교육청</td>\n",
       "      <td>1</td>\n",
       "      <td>서울대도초등학교</td>\n",
       "      <td>...</td>\n",
       "      <td>125.8</td>\n",
       "      <td>27.3</td>\n",
       "      <td>NaN</td>\n",
       "      <td>NaN</td>\n",
       "      <td>NaN</td>\n",
       "      <td>NaN</td>\n",
       "      <td>NaN</td>\n",
       "      <td>NaN</td>\n",
       "      <td>77.0</td>\n",
       "      <td>58.0</td>\n",
       "    </tr>\n",
       "    <tr>\n",
       "      <th>1</th>\n",
       "      <td>Aa011남10102</td>\n",
       "      <td>169.550665</td>\n",
       "      <td>Aa01</td>\n",
       "      <td>대도시/중소도시</td>\n",
       "      <td>특별/광역시</td>\n",
       "      <td>2015</td>\n",
       "      <td>서울</td>\n",
       "      <td>서울특별시교육청</td>\n",
       "      <td>1</td>\n",
       "      <td>서울대도초등학교</td>\n",
       "      <td>...</td>\n",
       "      <td>124.3</td>\n",
       "      <td>25.4</td>\n",
       "      <td>NaN</td>\n",
       "      <td>NaN</td>\n",
       "      <td>NaN</td>\n",
       "      <td>NaN</td>\n",
       "      <td>NaN</td>\n",
       "      <td>NaN</td>\n",
       "      <td>83.0</td>\n",
       "      <td>51.0</td>\n",
       "    </tr>\n",
       "    <tr>\n",
       "      <th>2</th>\n",
       "      <td>Aa011남10103</td>\n",
       "      <td>169.550665</td>\n",
       "      <td>Aa01</td>\n",
       "      <td>대도시/중소도시</td>\n",
       "      <td>특별/광역시</td>\n",
       "      <td>2015</td>\n",
       "      <td>서울</td>\n",
       "      <td>서울특별시교육청</td>\n",
       "      <td>1</td>\n",
       "      <td>서울대도초등학교</td>\n",
       "      <td>...</td>\n",
       "      <td>119.2</td>\n",
       "      <td>23.5</td>\n",
       "      <td>NaN</td>\n",
       "      <td>NaN</td>\n",
       "      <td>NaN</td>\n",
       "      <td>NaN</td>\n",
       "      <td>NaN</td>\n",
       "      <td>NaN</td>\n",
       "      <td>103.0</td>\n",
       "      <td>65.0</td>\n",
       "    </tr>\n",
       "    <tr>\n",
       "      <th>3</th>\n",
       "      <td>Aa011남10104</td>\n",
       "      <td>169.550665</td>\n",
       "      <td>Aa01</td>\n",
       "      <td>대도시/중소도시</td>\n",
       "      <td>특별/광역시</td>\n",
       "      <td>2015</td>\n",
       "      <td>서울</td>\n",
       "      <td>서울특별시교육청</td>\n",
       "      <td>1</td>\n",
       "      <td>서울대도초등학교</td>\n",
       "      <td>...</td>\n",
       "      <td>115.0</td>\n",
       "      <td>20.0</td>\n",
       "      <td>NaN</td>\n",
       "      <td>NaN</td>\n",
       "      <td>NaN</td>\n",
       "      <td>NaN</td>\n",
       "      <td>NaN</td>\n",
       "      <td>NaN</td>\n",
       "      <td>92.0</td>\n",
       "      <td>66.0</td>\n",
       "    </tr>\n",
       "    <tr>\n",
       "      <th>4</th>\n",
       "      <td>Aa011남10105</td>\n",
       "      <td>169.550665</td>\n",
       "      <td>Aa01</td>\n",
       "      <td>대도시/중소도시</td>\n",
       "      <td>특별/광역시</td>\n",
       "      <td>2015</td>\n",
       "      <td>서울</td>\n",
       "      <td>서울특별시교육청</td>\n",
       "      <td>1</td>\n",
       "      <td>서울대도초등학교</td>\n",
       "      <td>...</td>\n",
       "      <td>120.0</td>\n",
       "      <td>33.5</td>\n",
       "      <td>NaN</td>\n",
       "      <td>NaN</td>\n",
       "      <td>NaN</td>\n",
       "      <td>NaN</td>\n",
       "      <td>NaN</td>\n",
       "      <td>NaN</td>\n",
       "      <td>102.0</td>\n",
       "      <td>59.0</td>\n",
       "    </tr>\n",
       "  </tbody>\n",
       "</table>\n",
       "<p>5 rows × 25 columns</p>\n",
       "</div>"
      ],
      "text/plain": [
       "            ID       최종가중치  학교ID      도시규모 도시규모별분석용   학년도 광역시도       시도별  \\\n",
       "0  Aa011남10101  169.550665  Aa01  대도시/중소도시   특별/광역시  2015   서울  서울특별시교육청   \n",
       "1  Aa011남10102  169.550665  Aa01  대도시/중소도시   특별/광역시  2015   서울  서울특별시교육청   \n",
       "2  Aa011남10103  169.550665  Aa01  대도시/중소도시   특별/광역시  2015   서울  서울특별시교육청   \n",
       "3  Aa011남10104  169.550665  Aa01  대도시/중소도시   특별/광역시  2015   서울  서울특별시교육청   \n",
       "4  Aa011남10105  169.550665  Aa01  대도시/중소도시   특별/광역시  2015   서울  서울특별시교육청   \n",
       "\n",
       "   학교급별       학교명  ...      키   몸무게  혈당식전mgdl 총콜레스테롤mgdl  ASTUL  ALTUL  \\\n",
       "0     1  서울대도초등학교  ...  125.8  27.3       NaN        NaN    NaN    NaN   \n",
       "1     1  서울대도초등학교  ...  124.3  25.4       NaN        NaN    NaN    NaN   \n",
       "2     1  서울대도초등학교  ...  119.2  23.5       NaN        NaN    NaN    NaN   \n",
       "3     1  서울대도초등학교  ...  115.0  20.0       NaN        NaN    NaN    NaN   \n",
       "4     1  서울대도초등학교  ...  120.0  33.5       NaN        NaN    NaN    NaN   \n",
       "\n",
       "   혈색소gdl  간염검사    수축기   이완기  \n",
       "0     NaN   NaN   77.0  58.0  \n",
       "1     NaN   NaN   83.0  51.0  \n",
       "2     NaN   NaN  103.0  65.0  \n",
       "3     NaN   NaN   92.0  66.0  \n",
       "4     NaN   NaN  102.0  59.0  \n",
       "\n",
       "[5 rows x 25 columns]"
      ]
     },
     "execution_count": 4,
     "metadata": {},
     "output_type": "execute_result"
    }
   ],
   "source": [
    "df.head()"
   ]
  },
  {
   "cell_type": "code",
   "execution_count": 5,
   "metadata": {},
   "outputs": [
    {
     "name": "stdout",
     "output_type": "stream",
     "text": [
      "<class 'pandas.core.frame.DataFrame'>\n",
      "RangeIndex: 9686 entries, 0 to 9685\n",
      "Data columns (total 25 columns):\n",
      " #   Column      Non-Null Count  Dtype  \n",
      "---  ------      --------------  -----  \n",
      " 0   ID          9686 non-null   object \n",
      " 1   최종가중치       9686 non-null   float64\n",
      " 2   학교ID        9686 non-null   object \n",
      " 3   도시규모        9686 non-null   object \n",
      " 4   도시규모별분석용    9686 non-null   object \n",
      " 5   학년도         9686 non-null   int64  \n",
      " 6   광역시도        9686 non-null   object \n",
      " 7   시도별         9686 non-null   object \n",
      " 8   학교급별        9686 non-null   int64  \n",
      " 9   학교명         9686 non-null   object \n",
      " 10  공학여부        9686 non-null   object \n",
      " 11  학년          9686 non-null   int64  \n",
      " 12  반           9686 non-null   int64  \n",
      " 13  성별          9686 non-null   object \n",
      " 14  건강검진일       9686 non-null   int64  \n",
      " 15  키           9686 non-null   float64\n",
      " 16  몸무게         9682 non-null   float64\n",
      " 17  혈당식전mgdl    338 non-null    float64\n",
      " 18  총콜레스테롤mgdl  339 non-null    float64\n",
      " 19  ASTUL       336 non-null    float64\n",
      " 20  ALTUL       337 non-null    float64\n",
      " 21  혈색소gdl      578 non-null    float64\n",
      " 22  간염검사        831 non-null    object \n",
      " 23  수축기         3025 non-null   float64\n",
      " 24  이완기         3025 non-null   float64\n",
      "dtypes: float64(10), int64(5), object(10)\n",
      "memory usage: 1.8+ MB\n"
     ]
    }
   ],
   "source": [
    "df.info()"
   ]
  },
  {
   "cell_type": "code",
   "execution_count": 6,
   "metadata": {},
   "outputs": [
    {
     "data": {
      "text/html": [
       "<div>\n",
       "<style scoped>\n",
       "    .dataframe tbody tr th:only-of-type {\n",
       "        vertical-align: middle;\n",
       "    }\n",
       "\n",
       "    .dataframe tbody tr th {\n",
       "        vertical-align: top;\n",
       "    }\n",
       "\n",
       "    .dataframe thead th {\n",
       "        text-align: right;\n",
       "    }\n",
       "</style>\n",
       "<table border=\"1\" class=\"dataframe\">\n",
       "  <thead>\n",
       "    <tr style=\"text-align: right;\">\n",
       "      <th></th>\n",
       "      <th>최종가중치</th>\n",
       "      <th>학년도</th>\n",
       "      <th>학교급별</th>\n",
       "      <th>학년</th>\n",
       "      <th>반</th>\n",
       "      <th>건강검진일</th>\n",
       "      <th>키</th>\n",
       "      <th>몸무게</th>\n",
       "      <th>혈당식전mgdl</th>\n",
       "      <th>총콜레스테롤mgdl</th>\n",
       "      <th>ASTUL</th>\n",
       "      <th>ALTUL</th>\n",
       "      <th>혈색소gdl</th>\n",
       "      <th>수축기</th>\n",
       "      <th>이완기</th>\n",
       "    </tr>\n",
       "  </thead>\n",
       "  <tbody>\n",
       "    <tr>\n",
       "      <th>count</th>\n",
       "      <td>9686.000000</td>\n",
       "      <td>9686.0</td>\n",
       "      <td>9686.000000</td>\n",
       "      <td>9686.000000</td>\n",
       "      <td>9686.000000</td>\n",
       "      <td>9.686000e+03</td>\n",
       "      <td>9686.000000</td>\n",
       "      <td>9682.000000</td>\n",
       "      <td>338.00000</td>\n",
       "      <td>339.000000</td>\n",
       "      <td>336.000000</td>\n",
       "      <td>337.000000</td>\n",
       "      <td>578.000000</td>\n",
       "      <td>3025.000000</td>\n",
       "      <td>3025.000000</td>\n",
       "    </tr>\n",
       "    <tr>\n",
       "      <th>mean</th>\n",
       "      <td>104.894487</td>\n",
       "      <td>2015.0</td>\n",
       "      <td>1.995767</td>\n",
       "      <td>2.567933</td>\n",
       "      <td>2.659096</td>\n",
       "      <td>2.015047e+07</td>\n",
       "      <td>154.564444</td>\n",
       "      <td>50.207591</td>\n",
       "      <td>92.14497</td>\n",
       "      <td>173.516519</td>\n",
       "      <td>27.824405</td>\n",
       "      <td>30.311573</td>\n",
       "      <td>12.976990</td>\n",
       "      <td>104.830083</td>\n",
       "      <td>62.987438</td>\n",
       "    </tr>\n",
       "    <tr>\n",
       "      <th>std</th>\n",
       "      <td>39.376988</td>\n",
       "      <td>0.0</td>\n",
       "      <td>0.856499</td>\n",
       "      <td>1.414243</td>\n",
       "      <td>2.601067</td>\n",
       "      <td>1.014788e+02</td>\n",
       "      <td>16.968590</td>\n",
       "      <td>17.075953</td>\n",
       "      <td>10.49571</td>\n",
       "      <td>32.567571</td>\n",
       "      <td>19.327395</td>\n",
       "      <td>32.191960</td>\n",
       "      <td>1.092454</td>\n",
       "      <td>12.661348</td>\n",
       "      <td>7.948402</td>\n",
       "    </tr>\n",
       "    <tr>\n",
       "      <th>min</th>\n",
       "      <td>23.325794</td>\n",
       "      <td>2015.0</td>\n",
       "      <td>1.000000</td>\n",
       "      <td>1.000000</td>\n",
       "      <td>1.000000</td>\n",
       "      <td>2.015023e+07</td>\n",
       "      <td>107.700000</td>\n",
       "      <td>15.900000</td>\n",
       "      <td>65.00000</td>\n",
       "      <td>102.000000</td>\n",
       "      <td>11.000000</td>\n",
       "      <td>8.000000</td>\n",
       "      <td>9.000000</td>\n",
       "      <td>65.000000</td>\n",
       "      <td>23.000000</td>\n",
       "    </tr>\n",
       "    <tr>\n",
       "      <th>25%</th>\n",
       "      <td>76.966829</td>\n",
       "      <td>2015.0</td>\n",
       "      <td>1.000000</td>\n",
       "      <td>1.000000</td>\n",
       "      <td>1.000000</td>\n",
       "      <td>2.015041e+07</td>\n",
       "      <td>142.000000</td>\n",
       "      <td>37.200000</td>\n",
       "      <td>85.00000</td>\n",
       "      <td>148.500000</td>\n",
       "      <td>19.000000</td>\n",
       "      <td>14.000000</td>\n",
       "      <td>12.400000</td>\n",
       "      <td>98.000000</td>\n",
       "      <td>60.000000</td>\n",
       "    </tr>\n",
       "    <tr>\n",
       "      <th>50%</th>\n",
       "      <td>99.963287</td>\n",
       "      <td>2015.0</td>\n",
       "      <td>2.000000</td>\n",
       "      <td>2.000000</td>\n",
       "      <td>1.000000</td>\n",
       "      <td>2.015043e+07</td>\n",
       "      <td>158.700000</td>\n",
       "      <td>50.700000</td>\n",
       "      <td>91.00000</td>\n",
       "      <td>170.000000</td>\n",
       "      <td>24.000000</td>\n",
       "      <td>20.000000</td>\n",
       "      <td>13.200000</td>\n",
       "      <td>105.000000</td>\n",
       "      <td>62.000000</td>\n",
       "    </tr>\n",
       "    <tr>\n",
       "      <th>75%</th>\n",
       "      <td>133.231158</td>\n",
       "      <td>2015.0</td>\n",
       "      <td>3.000000</td>\n",
       "      <td>3.000000</td>\n",
       "      <td>3.000000</td>\n",
       "      <td>2.015051e+07</td>\n",
       "      <td>167.200000</td>\n",
       "      <td>60.600000</td>\n",
       "      <td>99.00000</td>\n",
       "      <td>191.000000</td>\n",
       "      <td>30.000000</td>\n",
       "      <td>32.000000</td>\n",
       "      <td>13.675000</td>\n",
       "      <td>112.000000</td>\n",
       "      <td>69.000000</td>\n",
       "    </tr>\n",
       "    <tr>\n",
       "      <th>max</th>\n",
       "      <td>248.300844</td>\n",
       "      <td>2015.0</td>\n",
       "      <td>3.000000</td>\n",
       "      <td>6.000000</td>\n",
       "      <td>15.000000</td>\n",
       "      <td>2.015091e+07</td>\n",
       "      <td>194.200000</td>\n",
       "      <td>130.700000</td>\n",
       "      <td>132.00000</td>\n",
       "      <td>300.000000</td>\n",
       "      <td>186.000000</td>\n",
       "      <td>272.000000</td>\n",
       "      <td>15.700000</td>\n",
       "      <td>180.000000</td>\n",
       "      <td>98.000000</td>\n",
       "    </tr>\n",
       "  </tbody>\n",
       "</table>\n",
       "</div>"
      ],
      "text/plain": [
       "             최종가중치     학년도         학교급별           학년            반  \\\n",
       "count  9686.000000  9686.0  9686.000000  9686.000000  9686.000000   \n",
       "mean    104.894487  2015.0     1.995767     2.567933     2.659096   \n",
       "std      39.376988     0.0     0.856499     1.414243     2.601067   \n",
       "min      23.325794  2015.0     1.000000     1.000000     1.000000   \n",
       "25%      76.966829  2015.0     1.000000     1.000000     1.000000   \n",
       "50%      99.963287  2015.0     2.000000     2.000000     1.000000   \n",
       "75%     133.231158  2015.0     3.000000     3.000000     3.000000   \n",
       "max     248.300844  2015.0     3.000000     6.000000    15.000000   \n",
       "\n",
       "              건강검진일            키          몸무게   혈당식전mgdl  총콜레스테롤mgdl  \\\n",
       "count  9.686000e+03  9686.000000  9682.000000  338.00000  339.000000   \n",
       "mean   2.015047e+07   154.564444    50.207591   92.14497  173.516519   \n",
       "std    1.014788e+02    16.968590    17.075953   10.49571   32.567571   \n",
       "min    2.015023e+07   107.700000    15.900000   65.00000  102.000000   \n",
       "25%    2.015041e+07   142.000000    37.200000   85.00000  148.500000   \n",
       "50%    2.015043e+07   158.700000    50.700000   91.00000  170.000000   \n",
       "75%    2.015051e+07   167.200000    60.600000   99.00000  191.000000   \n",
       "max    2.015091e+07   194.200000   130.700000  132.00000  300.000000   \n",
       "\n",
       "            ASTUL       ALTUL      혈색소gdl          수축기          이완기  \n",
       "count  336.000000  337.000000  578.000000  3025.000000  3025.000000  \n",
       "mean    27.824405   30.311573   12.976990   104.830083    62.987438  \n",
       "std     19.327395   32.191960    1.092454    12.661348     7.948402  \n",
       "min     11.000000    8.000000    9.000000    65.000000    23.000000  \n",
       "25%     19.000000   14.000000   12.400000    98.000000    60.000000  \n",
       "50%     24.000000   20.000000   13.200000   105.000000    62.000000  \n",
       "75%     30.000000   32.000000   13.675000   112.000000    69.000000  \n",
       "max    186.000000  272.000000   15.700000   180.000000    98.000000  "
      ]
     },
     "execution_count": 6,
     "metadata": {},
     "output_type": "execute_result"
    }
   ],
   "source": [
    "df.describe()"
   ]
  },
  {
   "cell_type": "markdown",
   "metadata": {},
   "source": [
    "### 키, 몸무게를 제외한 나머지 columns 지우기"
   ]
  },
  {
   "cell_type": "code",
   "execution_count": 7,
   "metadata": {},
   "outputs": [],
   "source": [
    "data = df.loc[:,['키','몸무게']]"
   ]
  },
  {
   "cell_type": "code",
   "execution_count": 8,
   "metadata": {},
   "outputs": [
    {
     "data": {
      "text/html": [
       "<div>\n",
       "<style scoped>\n",
       "    .dataframe tbody tr th:only-of-type {\n",
       "        vertical-align: middle;\n",
       "    }\n",
       "\n",
       "    .dataframe tbody tr th {\n",
       "        vertical-align: top;\n",
       "    }\n",
       "\n",
       "    .dataframe thead th {\n",
       "        text-align: right;\n",
       "    }\n",
       "</style>\n",
       "<table border=\"1\" class=\"dataframe\">\n",
       "  <thead>\n",
       "    <tr style=\"text-align: right;\">\n",
       "      <th></th>\n",
       "      <th>키</th>\n",
       "      <th>몸무게</th>\n",
       "    </tr>\n",
       "  </thead>\n",
       "  <tbody>\n",
       "    <tr>\n",
       "      <th>0</th>\n",
       "      <td>125.8</td>\n",
       "      <td>27.3</td>\n",
       "    </tr>\n",
       "    <tr>\n",
       "      <th>1</th>\n",
       "      <td>124.3</td>\n",
       "      <td>25.4</td>\n",
       "    </tr>\n",
       "    <tr>\n",
       "      <th>2</th>\n",
       "      <td>119.2</td>\n",
       "      <td>23.5</td>\n",
       "    </tr>\n",
       "    <tr>\n",
       "      <th>3</th>\n",
       "      <td>115.0</td>\n",
       "      <td>20.0</td>\n",
       "    </tr>\n",
       "    <tr>\n",
       "      <th>4</th>\n",
       "      <td>120.0</td>\n",
       "      <td>33.5</td>\n",
       "    </tr>\n",
       "  </tbody>\n",
       "</table>\n",
       "</div>"
      ],
      "text/plain": [
       "       키   몸무게\n",
       "0  125.8  27.3\n",
       "1  124.3  25.4\n",
       "2  119.2  23.5\n",
       "3  115.0  20.0\n",
       "4  120.0  33.5"
      ]
     },
     "execution_count": 8,
     "metadata": {},
     "output_type": "execute_result"
    }
   ],
   "source": [
    "data.head()"
   ]
  },
  {
   "cell_type": "code",
   "execution_count": 9,
   "metadata": {},
   "outputs": [
    {
     "data": {
      "text/plain": [
       "키      0\n",
       "몸무게    4\n",
       "dtype: int64"
      ]
     },
     "execution_count": 9,
     "metadata": {},
     "output_type": "execute_result"
    }
   ],
   "source": [
    "data.isnull().sum()"
   ]
  },
  {
   "cell_type": "code",
   "execution_count": 10,
   "metadata": {},
   "outputs": [
    {
     "name": "stdout",
     "output_type": "stream",
     "text": [
      "키      0\n",
      "몸무게    0\n",
      "dtype: int64\n"
     ]
    }
   ],
   "source": [
    "data.dropna(inplace=True)\n",
    "print(data.isnull().sum())"
   ]
  },
  {
   "cell_type": "code",
   "execution_count": 11,
   "metadata": {},
   "outputs": [],
   "source": [
    "height = data['키']\n",
    "weight = data['몸무게']"
   ]
  },
  {
   "cell_type": "code",
   "execution_count": 12,
   "metadata": {},
   "outputs": [
    {
     "data": {
      "image/png": "[encoded data removed]",
      "text/plain": [
       "<Figure size 432x288 with 1 Axes>"
      ]
     },
     "metadata": {
      "needs_background": "light"
     },
     "output_type": "display_data"
    }
   ],
   "source": [
    "plt.plot(height, weight, 'o')\n",
    "plt.title('height-weight graph')\n",
    "plt.xlabel('height(cm)')\n",
    "plt.ylabel('weight(kg)')\n",
    "plt.show()"
   ]
  },
  {
   "cell_type": "markdown",
   "metadata": {},
   "source": [
    "## Linear regression using statsmodels.api"
   ]
  },
  {
   "cell_type": "code",
   "execution_count": 13,
   "metadata": {},
   "outputs": [
    {
     "data": {
      "text/html": [
       "<div>\n",
       "<style scoped>\n",
       "    .dataframe tbody tr th:only-of-type {\n",
       "        vertical-align: middle;\n",
       "    }\n",
       "\n",
       "    .dataframe tbody tr th {\n",
       "        vertical-align: top;\n",
       "    }\n",
       "\n",
       "    .dataframe thead th {\n",
       "        text-align: right;\n",
       "    }\n",
       "</style>\n",
       "<table border=\"1\" class=\"dataframe\">\n",
       "  <thead>\n",
       "    <tr style=\"text-align: right;\">\n",
       "      <th></th>\n",
       "      <th>const</th>\n",
       "      <th>키</th>\n",
       "    </tr>\n",
       "  </thead>\n",
       "  <tbody>\n",
       "    <tr>\n",
       "      <th>0</th>\n",
       "      <td>1.0</td>\n",
       "      <td>125.8</td>\n",
       "    </tr>\n",
       "    <tr>\n",
       "      <th>1</th>\n",
       "      <td>1.0</td>\n",
       "      <td>124.3</td>\n",
       "    </tr>\n",
       "    <tr>\n",
       "      <th>2</th>\n",
       "      <td>1.0</td>\n",
       "      <td>119.2</td>\n",
       "    </tr>\n",
       "    <tr>\n",
       "      <th>3</th>\n",
       "      <td>1.0</td>\n",
       "      <td>115.0</td>\n",
       "    </tr>\n",
       "    <tr>\n",
       "      <th>4</th>\n",
       "      <td>1.0</td>\n",
       "      <td>120.0</td>\n",
       "    </tr>\n",
       "  </tbody>\n",
       "</table>\n",
       "</div>"
      ],
      "text/plain": [
       "   const      키\n",
       "0    1.0  125.8\n",
       "1    1.0  124.3\n",
       "2    1.0  119.2\n",
       "3    1.0  115.0\n",
       "4    1.0  120.0"
      ]
     },
     "execution_count": 13,
     "metadata": {},
     "output_type": "execute_result"
    }
   ],
   "source": [
    "# ols 사용\n",
    "# ordinary least squares\n",
    "\n",
    "# stats 모델에서 bias를 사용하려면 constant를 추가해서 모델링을 해줘야 함.\n",
    "height1 = sm.add_constant(height, has_constant='add')\n",
    "height1.head(5)"
   ]
  },
  {
   "cell_type": "code",
   "execution_count": 14,
   "metadata": {},
   "outputs": [
    {
     "data": {
      "text/html": [
       "<table class=\"simpletable\">\n",
       "<caption>OLS Regression Results</caption>\n",
       "<tr>\n",
       "  <th>Dep. Variable:</th>           <td>몸무게</td>       <th>  R-squared:         </th> <td>   0.721</td> \n",
       "</tr>\n",
       "<tr>\n",
       "  <th>Model:</th>                   <td>OLS</td>       <th>  Adj. R-squared:    </th> <td>   0.721</td> \n",
       "</tr>\n",
       "<tr>\n",
       "  <th>Method:</th>             <td>Least Squares</td>  <th>  F-statistic:       </th> <td>2.499e+04</td>\n",
       "</tr>\n",
       "<tr>\n",
       "  <th>Date:</th>             <td>Tue, 20 Jul 2021</td> <th>  Prob (F-statistic):</th>  <td>  0.00</td>  \n",
       "</tr>\n",
       "<tr>\n",
       "  <th>Time:</th>                 <td>13:11:56</td>     <th>  Log-Likelihood:    </th> <td> -35036.</td> \n",
       "</tr>\n",
       "<tr>\n",
       "  <th>No. Observations:</th>      <td>  9682</td>      <th>  AIC:               </th> <td>7.008e+04</td>\n",
       "</tr>\n",
       "<tr>\n",
       "  <th>Df Residuals:</th>          <td>  9680</td>      <th>  BIC:               </th> <td>7.009e+04</td>\n",
       "</tr>\n",
       "<tr>\n",
       "  <th>Df Model:</th>              <td>     1</td>      <th>                     </th>     <td> </td>    \n",
       "</tr>\n",
       "<tr>\n",
       "  <th>Covariance Type:</th>      <td>nonrobust</td>    <th>                     </th>     <td> </td>    \n",
       "</tr>\n",
       "</table>\n",
       "<table class=\"simpletable\">\n",
       "<tr>\n",
       "    <td></td>       <th>coef</th>     <th>std err</th>      <th>t</th>      <th>P>|t|</th>  <th>[0.025</th>    <th>0.975]</th>  \n",
       "</tr>\n",
       "<tr>\n",
       "  <th>const</th> <td>  -81.8267</td> <td>    0.840</td> <td>  -97.388</td> <td> 0.000</td> <td>  -83.474</td> <td>  -80.180</td>\n",
       "</tr>\n",
       "<tr>\n",
       "  <th>키</th>     <td>    0.8542</td> <td>    0.005</td> <td>  158.088</td> <td> 0.000</td> <td>    0.844</td> <td>    0.865</td>\n",
       "</tr>\n",
       "</table>\n",
       "<table class=\"simpletable\">\n",
       "<tr>\n",
       "  <th>Omnibus:</th>       <td>2123.133</td> <th>  Durbin-Watson:     </th> <td>   1.850</td>\n",
       "</tr>\n",
       "<tr>\n",
       "  <th>Prob(Omnibus):</th>  <td> 0.000</td>  <th>  Jarque-Bera (JB):  </th> <td>5777.039</td>\n",
       "</tr>\n",
       "<tr>\n",
       "  <th>Skew:</th>           <td> 1.169</td>  <th>  Prob(JB):          </th> <td>    0.00</td>\n",
       "</tr>\n",
       "<tr>\n",
       "  <th>Kurtosis:</th>       <td> 5.975</td>  <th>  Cond. No.          </th> <td>1.42e+03</td>\n",
       "</tr>\n",
       "</table><br/><br/>Warnings:<br/>[1] Standard Errors assume that the covariance matrix of the errors is correctly specified.<br/>[2] The condition number is large, 1.42e+03. This might indicate that there are<br/>strong multicollinearity or other numerical problems."
      ],
      "text/plain": [
       "<class 'statsmodels.iolib.summary.Summary'>\n",
       "\"\"\"\n",
       "                            OLS Regression Results                            \n",
       "==============================================================================\n",
       "Dep. Variable:                    몸무게   R-squared:                       0.721\n",
       "Model:                            OLS   Adj. R-squared:                  0.721\n",
       "Method:                 Least Squares   F-statistic:                 2.499e+04\n",
       "Date:                Tue, 20 Jul 2021   Prob (F-statistic):               0.00\n",
       "Time:                        13:11:56   Log-Likelihood:                -35036.\n",
       "No. Observations:                9682   AIC:                         7.008e+04\n",
       "Df Residuals:                    9680   BIC:                         7.009e+04\n",
       "Df Model:                           1                                         \n",
       "Covariance Type:            nonrobust                                         \n",
       "==============================================================================\n",
       "                 coef    std err          t      P>|t|      [0.025      0.975]\n",
       "------------------------------------------------------------------------------\n",
       "const        -81.8267      0.840    -97.388      0.000     -83.474     -80.180\n",
       "키              0.8542      0.005    158.088      0.000       0.844       0.865\n",
       "==============================================================================\n",
       "Omnibus:                     2123.133   Durbin-Watson:                   1.850\n",
       "Prob(Omnibus):                  0.000   Jarque-Bera (JB):             5777.039\n",
       "Skew:                           1.169   Prob(JB):                         0.00\n",
       "Kurtosis:                       5.975   Cond. No.                     1.42e+03\n",
       "==============================================================================\n",
       "\n",
       "Warnings:\n",
       "[1] Standard Errors assume that the covariance matrix of the errors is correctly specified.\n",
       "[2] The condition number is large, 1.42e+03. This might indicate that there are\n",
       "strong multicollinearity or other numerical problems.\n",
       "\"\"\""
      ]
     },
     "execution_count": 14,
     "metadata": {},
     "output_type": "execute_result"
    }
   ],
   "source": [
    "lm = sm.OLS(weight, height1)#ordinary Linear Square\n",
    "results = lm.fit()#회귀계수가 추정됨\n",
    "results.summary()"
   ]
  },
  {
   "cell_type": "markdown",
   "metadata": {},
   "source": [
    "### 결과 해석   \n",
    "1. $weight = -81.8267 + 0.8542 \\times height$   \n",
    "2. $R^2 = 0.72$   \n",
    "3. $p-values = 0$"
   ]
  },
  {
   "cell_type": "markdown",
   "metadata": {},
   "source": [
    "### Linear regression using scikit-learn"
   ]
  },
  {
   "cell_type": "code",
   "execution_count": 15,
   "metadata": {},
   "outputs": [],
   "source": [
    "rl = LinearRegression()"
   ]
  },
  {
   "cell_type": "code",
   "execution_count": 17,
   "metadata": {},
   "outputs": [
    {
     "name": "stdout",
     "output_type": "stream",
     "text": [
      "모델 학습에 에러 발생!\n",
      "(9682,)\n"
     ]
    }
   ],
   "source": [
    "try:\n",
    "    rl.fit(height, weight) \n",
    "except:\n",
    "    print('모델 학습에 에러 발생!')\n",
    "    print(height.values.shape)"
   ]
  },
  {
   "cell_type": "code",
   "execution_count": 24,
   "metadata": {},
   "outputs": [
    {
     "data": {
      "text/plain": [
       "0       125.8\n",
       "1       124.3\n",
       "2       119.2\n",
       "3       115.0\n",
       "4       120.0\n",
       "        ...  \n",
       "9681    176.1\n",
       "9682    174.1\n",
       "9683    169.5\n",
       "9684    159.2\n",
       "9685    162.0\n",
       "Name: 키, Length: 9682, dtype: float64"
      ]
     },
     "execution_count": 24,
     "metadata": {},
     "output_type": "execute_result"
    }
   ],
   "source": [
    "height"
   ]
  },
  {
   "cell_type": "code",
   "execution_count": 25,
   "metadata": {},
   "outputs": [
    {
     "data": {
      "text/plain": [
       "array([[125.8],\n",
       "       [124.3],\n",
       "       [119.2],\n",
       "       ...,\n",
       "       [169.5],\n",
       "       [159.2],\n",
       "       [162. ]])"
      ]
     },
     "execution_count": 25,
     "metadata": {},
     "output_type": "execute_result"
    }
   ],
   "source": [
    "height.values[:,np.newaxis]#차원하나가 더  증가함->2차원\n",
    "height.to_numpy()[:,np.newaxis]\n",
    "height.values.reshape(-1,1)"
   ]
  },
  {
   "cell_type": "code",
   "execution_count": 39,
   "metadata": {},
   "outputs": [
    {
     "data": {
      "text/plain": [
       "0       27.3\n",
       "1       25.4\n",
       "2       23.5\n",
       "3       20.0\n",
       "4       33.5\n",
       "        ... \n",
       "9681    50.4\n",
       "9682    88.8\n",
       "9683    63.2\n",
       "9684    52.9\n",
       "9685    67.7\n",
       "Name: 몸무게, Length: 9682, dtype: float64"
      ]
     },
     "execution_count": 39,
     "metadata": {},
     "output_type": "execute_result"
    }
   ],
   "source": [
    "weight"
   ]
  },
  {
   "cell_type": "code",
   "execution_count": 27,
   "metadata": {},
   "outputs": [
    {
     "data": {
      "text/plain": [
       "LinearRegression()"
      ]
     },
     "execution_count": 27,
     "metadata": {},
     "output_type": "execute_result"
    }
   ],
   "source": [
    "# X데이터가 2차원 array형태여야 하기 때문에 height의 차원을 추가해줌.\n",
    "rl.fit(height.values[:,np.newaxis], weight) \n",
    "# 또는 rl.fit(height.to_numpy()[:,np.newaxis],weight)\n",
    "# 또는 rl.fit(height.values.reshape(-1,1), weight) 사용 가능."
   ]
  },
  {
   "cell_type": "code",
   "execution_count": 28,
   "metadata": {},
   "outputs": [
    {
     "name": "stdout",
     "output_type": "stream",
     "text": [
      "기울기:  0.8542323795602202\n",
      "절편: -81.82669252685574\n"
     ]
    }
   ],
   "source": [
    "print('기울기: ',rl.coef_[0])\n",
    "print('절편:', rl.intercept_)"
   ]
  },
  {
   "cell_type": "code",
   "execution_count": 30,
   "metadata": {},
   "outputs": [
    {
     "data": {
      "text/plain": [
       "array([71.93513579])"
      ]
     },
     "execution_count": 30,
     "metadata": {},
     "output_type": "execute_result"
    }
   ],
   "source": [
    "rl.predict([[180]])\n",
    "# 키가 180cm인 사람 몸무게 예측"
   ]
  },
  {
   "cell_type": "code",
   "execution_count": 31,
   "metadata": {},
   "outputs": [
    {
     "data": {
      "image/png": "[encoded data removed]",
      "text/plain": [
       "<Figure size 432x288 with 1 Axes>"
      ]
     },
     "metadata": {
      "needs_background": "light"
     },
     "output_type": "display_data"
    }
   ],
   "source": [
    "plt.plot(height, weight, 'o')\n",
    "plt.plot(height,rl.predict(height.values.reshape(-1,1)))\n",
    "plt.title('height-weight graph')\n",
    "plt.xlabel('height(cm)')\n",
    "plt.ylabel('weight(kg)')\n",
    "plt.show()"
   ]
  },
  {
   "cell_type": "markdown",
   "metadata": {},
   "source": [
    "### 결정 계수 $R^2$   \n",
    "$R^2 = 1-{SS_{RES} \\over SS_{TOT}}=1-{\\Sigma_{i}(y_{i}-\\hat{y_{i}})^{2} \\over \\Sigma_{i}(y_{i}-\\bar{y_{i}})^{2} }$"
   ]
  },
  {
   "cell_type": "code",
   "execution_count": 32,
   "metadata": {
    "scrolled": true
   },
   "outputs": [
    {
     "name": "stdout",
     "output_type": "stream",
     "text": [
      "R^2: 0.7208\n"
     ]
    }
   ],
   "source": [
    "predict = rl.predict(height.values.reshape(-1,1))\n",
    "r2 = 1 - ((weight - predict)**2).sum() / ((weight - weight.mean())**2).sum()##잔차의 제곱의 합/잔차의 평균의 제곱의 합\n",
    "print(f'R^2: {r2:.4f}')"
   ]
  },
  {
   "cell_type": "markdown",
   "metadata": {},
   "source": [
    "### MSE (Mean Squared Error)"
   ]
  },
  {
   "cell_type": "markdown",
   "metadata": {},
   "source": [
    "$MSE = {1 \\over n} \\Sigma_{i}^{n} (y_{i}-\\hat{y_{i}})^{2}$   \n",
    "$n$ : the number of observations in the test set   \n",
    "$y_{i}$ : actual values   \n",
    "$\\hat{y_{i}}$ : predicted values     \n"
   ]
  },
  {
   "cell_type": "code",
   "execution_count": 33,
   "metadata": {},
   "outputs": [
    {
     "name": "stdout",
     "output_type": "stream",
     "text": [
      "MSE: 81.3998\n"
     ]
    }
   ],
   "source": [
    "mse = np.mean((weight - predict)**2)##잔차 제곱의 평균 rmse9정도 틀림\n",
    "print(f'MSE: {mse:.4f}')"
   ]
  },
  {
   "cell_type": "markdown",
   "metadata": {},
   "source": [
    "[contents index]\n",
    "1. [키와 몸무게의 상관 관계](#1)   \n",
    "2. [실습: 보스톤 집값 예측 모델](#2)  \n",
    "3. [Multiple Regression](#3)\n",
    "4. [실습: winearoma 데이터셋](#4)\n",
    "5. [데이터 시각화](#5)\n",
    "6. [Train test set split and evaluation](#6)\n",
    "7. [실습: winearoma 데이터셋에 대해 train과 test 에러 계산하기](#7)   \n",
    "8. [Cross validation 이용](#8)"
   ]
  },
  {
   "cell_type": "markdown",
   "metadata": {},
   "source": [
    "---"
   ]
  },
  {
   "cell_type": "markdown",
   "metadata": {},
   "source": [
    "<a id= '2'></a>"
   ]
  },
  {
   "cell_type": "markdown",
   "metadata": {},
   "source": [
    "## [실습: 보스톤 집값 예측 모델](#0)"
   ]
  },
  {
   "cell_type": "markdown",
   "metadata": {},
   "source": [
    "#### 주택당 방 수(RM) 데이터를 가지고 집값 예측하는 선형 회귀모형 만들어보기\n",
    "- 기울기, 절편\n",
    "- $R^2$, $MSE$"
   ]
  },
  {
   "cell_type": "code",
   "execution_count": 34,
   "metadata": {},
   "outputs": [
    {
     "data": {
      "text/html": [
       "<div>\n",
       "<style scoped>\n",
       "    .dataframe tbody tr th:only-of-type {\n",
       "        vertical-align: middle;\n",
       "    }\n",
       "\n",
       "    .dataframe tbody tr th {\n",
       "        vertical-align: top;\n",
       "    }\n",
       "\n",
       "    .dataframe thead th {\n",
       "        text-align: right;\n",
       "    }\n",
       "</style>\n",
       "<table border=\"1\" class=\"dataframe\">\n",
       "  <thead>\n",
       "    <tr style=\"text-align: right;\">\n",
       "      <th></th>\n",
       "      <th>AGE</th>\n",
       "      <th>B</th>\n",
       "      <th>RM</th>\n",
       "      <th>CRIM</th>\n",
       "      <th>DIS</th>\n",
       "      <th>INDUS</th>\n",
       "      <th>LSTAT</th>\n",
       "      <th>NOX</th>\n",
       "      <th>PTRATIO</th>\n",
       "      <th>RAD</th>\n",
       "      <th>ZN</th>\n",
       "      <th>TAX</th>\n",
       "      <th>CHAS</th>\n",
       "      <th>Target</th>\n",
       "    </tr>\n",
       "  </thead>\n",
       "  <tbody>\n",
       "    <tr>\n",
       "      <th>0</th>\n",
       "      <td>65.2</td>\n",
       "      <td>396.90</td>\n",
       "      <td>6.575</td>\n",
       "      <td>0.00632</td>\n",
       "      <td>4.0900</td>\n",
       "      <td>2.31</td>\n",
       "      <td>4.98</td>\n",
       "      <td>0.538</td>\n",
       "      <td>15.3</td>\n",
       "      <td>1</td>\n",
       "      <td>18.0</td>\n",
       "      <td>296</td>\n",
       "      <td>0</td>\n",
       "      <td>24.0</td>\n",
       "    </tr>\n",
       "    <tr>\n",
       "      <th>1</th>\n",
       "      <td>78.9</td>\n",
       "      <td>396.90</td>\n",
       "      <td>6.421</td>\n",
       "      <td>0.02731</td>\n",
       "      <td>4.9671</td>\n",
       "      <td>7.07</td>\n",
       "      <td>9.14</td>\n",
       "      <td>0.469</td>\n",
       "      <td>17.8</td>\n",
       "      <td>2</td>\n",
       "      <td>0.0</td>\n",
       "      <td>242</td>\n",
       "      <td>0</td>\n",
       "      <td>21.6</td>\n",
       "    </tr>\n",
       "    <tr>\n",
       "      <th>2</th>\n",
       "      <td>61.1</td>\n",
       "      <td>392.83</td>\n",
       "      <td>7.185</td>\n",
       "      <td>0.02729</td>\n",
       "      <td>4.9671</td>\n",
       "      <td>7.07</td>\n",
       "      <td>4.03</td>\n",
       "      <td>0.469</td>\n",
       "      <td>17.8</td>\n",
       "      <td>2</td>\n",
       "      <td>0.0</td>\n",
       "      <td>242</td>\n",
       "      <td>0</td>\n",
       "      <td>34.7</td>\n",
       "    </tr>\n",
       "    <tr>\n",
       "      <th>3</th>\n",
       "      <td>45.8</td>\n",
       "      <td>394.63</td>\n",
       "      <td>6.998</td>\n",
       "      <td>0.03237</td>\n",
       "      <td>6.0622</td>\n",
       "      <td>2.18</td>\n",
       "      <td>2.94</td>\n",
       "      <td>0.458</td>\n",
       "      <td>18.7</td>\n",
       "      <td>3</td>\n",
       "      <td>0.0</td>\n",
       "      <td>222</td>\n",
       "      <td>0</td>\n",
       "      <td>33.4</td>\n",
       "    </tr>\n",
       "    <tr>\n",
       "      <th>4</th>\n",
       "      <td>54.2</td>\n",
       "      <td>396.90</td>\n",
       "      <td>7.147</td>\n",
       "      <td>0.06905</td>\n",
       "      <td>6.0622</td>\n",
       "      <td>2.18</td>\n",
       "      <td>5.33</td>\n",
       "      <td>0.458</td>\n",
       "      <td>18.7</td>\n",
       "      <td>3</td>\n",
       "      <td>0.0</td>\n",
       "      <td>222</td>\n",
       "      <td>0</td>\n",
       "      <td>36.2</td>\n",
       "    </tr>\n",
       "  </tbody>\n",
       "</table>\n",
       "</div>"
      ],
      "text/plain": [
       "    AGE       B     RM     CRIM     DIS  INDUS  LSTAT    NOX  PTRATIO  RAD  \\\n",
       "0  65.2  396.90  6.575  0.00632  4.0900   2.31   4.98  0.538     15.3    1   \n",
       "1  78.9  396.90  6.421  0.02731  4.9671   7.07   9.14  0.469     17.8    2   \n",
       "2  61.1  392.83  7.185  0.02729  4.9671   7.07   4.03  0.469     17.8    2   \n",
       "3  45.8  394.63  6.998  0.03237  6.0622   2.18   2.94  0.458     18.7    3   \n",
       "4  54.2  396.90  7.147  0.06905  6.0622   2.18   5.33  0.458     18.7    3   \n",
       "\n",
       "     ZN  TAX  CHAS  Target  \n",
       "0  18.0  296     0    24.0  \n",
       "1   0.0  242     0    21.6  \n",
       "2   0.0  242     0    34.7  \n",
       "3   0.0  222     0    33.4  \n",
       "4   0.0  222     0    36.2  "
      ]
     },
     "execution_count": 34,
     "metadata": {},
     "output_type": "execute_result"
    }
   ],
   "source": [
    "boston = pd.read_csv(\"./Boston_house.csv\")\n",
    "boston.head()"
   ]
  },
  {
   "cell_type": "markdown",
   "metadata": {},
   "source": [
    "### 데이터 설명\n",
    "타겟 데이터   \n",
    "1978 보스턴 주택 가격   \n",
    "506개 타운의 주택 가격 중앙값 (단위 1,000 달러)   \n",
    "\n",
    "|특징 데이터||\n",
    "|------|---|\n",
    "|CRIM|범죄율|\n",
    "|INDUS|비소매상업지역 면적 비율|\n",
    "|NOX|일산화질소 농도|\n",
    "|RM|주택당 방 수|\n",
    "|LSTAT|인구 중 하위 계층 비율|\n",
    "|B|인구 중 흑인 비율|\n",
    "|PTRAT|학생/교사 비율|\n",
    "|ZN|25,000 평방피트를 초과 거주지역 비율|\n",
    "|CHAS|찰스강의 경계에 위치한 경우는 1, 아니면 0|\n",
    "|AGE|1940년 이전에 건축된 주택의 비율|\n",
    "|RAD|방사형 고속도로까지의 거리|\n",
    "|DIS|직업센터의 거리|\n",
    "|TAX|재산세율|\n",
    "  "
   ]
  },
  {
   "cell_type": "code",
   "execution_count": 35,
   "metadata": {},
   "outputs": [],
   "source": [
    "# Target 및 independent variable 셋팅\n",
    "# 예시로서'RM'(주택 당 방 수) 사용\n",
    "price = boston[['Target']]\n",
    "RM  = boston[['RM']]"
   ]
  },
  {
   "cell_type": "code",
   "execution_count": 47,
   "metadata": {},
   "outputs": [
    {
     "data": {
      "text/plain": [
       "0       27.3\n",
       "1       25.4\n",
       "2       23.5\n",
       "3       20.0\n",
       "4       33.5\n",
       "        ... \n",
       "9681    50.4\n",
       "9682    88.8\n",
       "9683    63.2\n",
       "9684    52.9\n",
       "9685    67.7\n",
       "Name: 몸무게, Length: 9682, dtype: float64"
      ]
     },
     "execution_count": 47,
     "metadata": {},
     "output_type": "execute_result"
    }
   ],
   "source": [
    "height.values[:,np.newaxis]#차원하나가 더  증가함->2차원\n",
    "height.to_numpy()[:,np.newaxis]\n",
    "height.values.reshape(-1,1)"
   ]
  },
  {
   "cell_type": "code",
   "execution_count": 58,
   "metadata": {},
   "outputs": [
    {
     "data": {
      "text/plain": [
       "<bound method DataFrame.to_numpy of         RM\n",
       "0    6.575\n",
       "1    6.421\n",
       "2    7.185\n",
       "3    6.998\n",
       "4    7.147\n",
       "..     ...\n",
       "501  6.593\n",
       "502  6.120\n",
       "503  6.976\n",
       "504  6.794\n",
       "505  6.030\n",
       "\n",
       "[506 rows x 1 columns]>"
      ]
     },
     "execution_count": 58,
     "metadata": {},
     "output_type": "execute_result"
    }
   ],
   "source": [
    "RM.to_numpy"
   ]
  },
  {
   "cell_type": "code",
   "execution_count": 61,
   "metadata": {},
   "outputs": [
    {
     "data": {
      "text/plain": [
       "LinearRegression()"
      ]
     },
     "execution_count": 61,
     "metadata": {},
     "output_type": "execute_result"
    }
   ],
   "source": [
    "# 모델 생성 price ~ RM\n",
    "rl = LinearRegression()\n",
    "rl.fit(RM,price)\n",
    "                        # 모델을 학습시켜주세요. hint: ?.fit(?,?)"
   ]
  },
  {
   "cell_type": "code",
   "execution_count": 66,
   "metadata": {},
   "outputs": [
    {
     "name": "stdout",
     "output_type": "stream",
     "text": [
      "기울기: 9.1021\n",
      "절편: -34.6706\n"
     ]
    }
   ],
   "source": [
    "print(f'기울기: {rl.coef_[0][0]:.4f}')\n",
    "print(f'절편: {rl.intercept_[0]:.4f}' )"
   ]
  },
  {
   "cell_type": "code",
   "execution_count": 67,
   "metadata": {},
   "outputs": [
    {
     "name": "stdout",
     "output_type": "stream",
     "text": [
      "R^2: 0.4835\n",
      "MSE: 43.6006\n"
     ]
    }
   ],
   "source": [
    "price_hat = rl.predict(RM.values.reshape(-1,1))\n",
    "print(f'R^2: {rl.score(RM, price):.4f}')\n",
    "print(f'MSE: {mean_squared_error(price,price_hat):.4f}')"
   ]
  },
  {
   "cell_type": "markdown",
   "metadata": {},
   "source": [
    "[contents index]\n",
    "1. [키와 몸무게의 상관 관계](#1)   \n",
    "2. [실습: 보스톤 집값 예측 모델](#2)  \n",
    "3. [Multiple Regression](#3)\n",
    "4. [실습: winearoma 데이터셋](#4)\n",
    "5. [데이터 시각화](#5)\n",
    "6. [Train test set split and evaluation](#6)\n",
    "7. [실습: winearoma 데이터셋에 대해 train과 test 에러 계산하기](#7)   \n",
    "8. [Cross validation 이용](#8)"
   ]
  },
  {
   "cell_type": "markdown",
   "metadata": {},
   "source": [
    "<a id= '3'></a>"
   ]
  },
  {
   "cell_type": "markdown",
   "metadata": {},
   "source": [
    "---"
   ]
  },
  {
   "cell_type": "markdown",
   "metadata": {},
   "source": [
    "## [Multiple regression](#0)"
   ]
  },
  {
   "cell_type": "code",
   "execution_count": 68,
   "metadata": {},
   "outputs": [
    {
     "data": {
      "text/html": [
       "<div>\n",
       "<style scoped>\n",
       "    .dataframe tbody tr th:only-of-type {\n",
       "        vertical-align: middle;\n",
       "    }\n",
       "\n",
       "    .dataframe tbody tr th {\n",
       "        vertical-align: top;\n",
       "    }\n",
       "\n",
       "    .dataframe thead th {\n",
       "        text-align: right;\n",
       "    }\n",
       "</style>\n",
       "<table border=\"1\" class=\"dataframe\">\n",
       "  <thead>\n",
       "    <tr style=\"text-align: right;\">\n",
       "      <th></th>\n",
       "      <th>time</th>\n",
       "      <th>generation biomass</th>\n",
       "      <th>generation fossil brown coal/lignite</th>\n",
       "      <th>generation fossil coal-derived gas</th>\n",
       "      <th>generation fossil gas</th>\n",
       "      <th>generation fossil hard coal</th>\n",
       "      <th>generation fossil oil</th>\n",
       "      <th>generation fossil oil shale</th>\n",
       "      <th>generation fossil peat</th>\n",
       "      <th>generation geothermal</th>\n",
       "      <th>...</th>\n",
       "      <th>generation waste</th>\n",
       "      <th>generation wind offshore</th>\n",
       "      <th>generation wind onshore</th>\n",
       "      <th>forecast solar day ahead</th>\n",
       "      <th>forecast wind offshore eday ahead</th>\n",
       "      <th>forecast wind onshore day ahead</th>\n",
       "      <th>total load forecast</th>\n",
       "      <th>total load actual</th>\n",
       "      <th>price day ahead</th>\n",
       "      <th>price actual</th>\n",
       "    </tr>\n",
       "  </thead>\n",
       "  <tbody>\n",
       "    <tr>\n",
       "      <th>0</th>\n",
       "      <td>2015-01-01 00:00:00+01:00</td>\n",
       "      <td>447.0</td>\n",
       "      <td>329.0</td>\n",
       "      <td>0.0</td>\n",
       "      <td>4844.0</td>\n",
       "      <td>4821.0</td>\n",
       "      <td>162.0</td>\n",
       "      <td>0.0</td>\n",
       "      <td>0.0</td>\n",
       "      <td>0.0</td>\n",
       "      <td>...</td>\n",
       "      <td>196.0</td>\n",
       "      <td>0.0</td>\n",
       "      <td>6378.0</td>\n",
       "      <td>17.0</td>\n",
       "      <td>NaN</td>\n",
       "      <td>6436.0</td>\n",
       "      <td>26118.0</td>\n",
       "      <td>25385.0</td>\n",
       "      <td>50.10</td>\n",
       "      <td>65.41</td>\n",
       "    </tr>\n",
       "    <tr>\n",
       "      <th>1</th>\n",
       "      <td>2015-01-01 01:00:00+01:00</td>\n",
       "      <td>449.0</td>\n",
       "      <td>328.0</td>\n",
       "      <td>0.0</td>\n",
       "      <td>5196.0</td>\n",
       "      <td>4755.0</td>\n",
       "      <td>158.0</td>\n",
       "      <td>0.0</td>\n",
       "      <td>0.0</td>\n",
       "      <td>0.0</td>\n",
       "      <td>...</td>\n",
       "      <td>195.0</td>\n",
       "      <td>0.0</td>\n",
       "      <td>5890.0</td>\n",
       "      <td>16.0</td>\n",
       "      <td>NaN</td>\n",
       "      <td>5856.0</td>\n",
       "      <td>24934.0</td>\n",
       "      <td>24382.0</td>\n",
       "      <td>48.10</td>\n",
       "      <td>64.92</td>\n",
       "    </tr>\n",
       "    <tr>\n",
       "      <th>2</th>\n",
       "      <td>2015-01-01 02:00:00+01:00</td>\n",
       "      <td>448.0</td>\n",
       "      <td>323.0</td>\n",
       "      <td>0.0</td>\n",
       "      <td>4857.0</td>\n",
       "      <td>4581.0</td>\n",
       "      <td>157.0</td>\n",
       "      <td>0.0</td>\n",
       "      <td>0.0</td>\n",
       "      <td>0.0</td>\n",
       "      <td>...</td>\n",
       "      <td>196.0</td>\n",
       "      <td>0.0</td>\n",
       "      <td>5461.0</td>\n",
       "      <td>8.0</td>\n",
       "      <td>NaN</td>\n",
       "      <td>5454.0</td>\n",
       "      <td>23515.0</td>\n",
       "      <td>22734.0</td>\n",
       "      <td>47.33</td>\n",
       "      <td>64.48</td>\n",
       "    </tr>\n",
       "    <tr>\n",
       "      <th>3</th>\n",
       "      <td>2015-01-01 03:00:00+01:00</td>\n",
       "      <td>438.0</td>\n",
       "      <td>254.0</td>\n",
       "      <td>0.0</td>\n",
       "      <td>4314.0</td>\n",
       "      <td>4131.0</td>\n",
       "      <td>160.0</td>\n",
       "      <td>0.0</td>\n",
       "      <td>0.0</td>\n",
       "      <td>0.0</td>\n",
       "      <td>...</td>\n",
       "      <td>191.0</td>\n",
       "      <td>0.0</td>\n",
       "      <td>5238.0</td>\n",
       "      <td>2.0</td>\n",
       "      <td>NaN</td>\n",
       "      <td>5151.0</td>\n",
       "      <td>22642.0</td>\n",
       "      <td>21286.0</td>\n",
       "      <td>42.27</td>\n",
       "      <td>59.32</td>\n",
       "    </tr>\n",
       "    <tr>\n",
       "      <th>4</th>\n",
       "      <td>2015-01-01 04:00:00+01:00</td>\n",
       "      <td>428.0</td>\n",
       "      <td>187.0</td>\n",
       "      <td>0.0</td>\n",
       "      <td>4130.0</td>\n",
       "      <td>3840.0</td>\n",
       "      <td>156.0</td>\n",
       "      <td>0.0</td>\n",
       "      <td>0.0</td>\n",
       "      <td>0.0</td>\n",
       "      <td>...</td>\n",
       "      <td>189.0</td>\n",
       "      <td>0.0</td>\n",
       "      <td>4935.0</td>\n",
       "      <td>9.0</td>\n",
       "      <td>NaN</td>\n",
       "      <td>4861.0</td>\n",
       "      <td>21785.0</td>\n",
       "      <td>20264.0</td>\n",
       "      <td>38.41</td>\n",
       "      <td>56.04</td>\n",
       "    </tr>\n",
       "  </tbody>\n",
       "</table>\n",
       "<p>5 rows × 29 columns</p>\n",
       "</div>"
      ],
      "text/plain": [
       "                        time  generation biomass  \\\n",
       "0  2015-01-01 00:00:00+01:00               447.0   \n",
       "1  2015-01-01 01:00:00+01:00               449.0   \n",
       "2  2015-01-01 02:00:00+01:00               448.0   \n",
       "3  2015-01-01 03:00:00+01:00               438.0   \n",
       "4  2015-01-01 04:00:00+01:00               428.0   \n",
       "\n",
       "   generation fossil brown coal/lignite  generation fossil coal-derived gas  \\\n",
       "0                                 329.0                                 0.0   \n",
       "1                                 328.0                                 0.0   \n",
       "2                                 323.0                                 0.0   \n",
       "3                                 254.0                                 0.0   \n",
       "4                                 187.0                                 0.0   \n",
       "\n",
       "   generation fossil gas  generation fossil hard coal  generation fossil oil  \\\n",
       "0                 4844.0                       4821.0                  162.0   \n",
       "1                 5196.0                       4755.0                  158.0   \n",
       "2                 4857.0                       4581.0                  157.0   \n",
       "3                 4314.0                       4131.0                  160.0   \n",
       "4                 4130.0                       3840.0                  156.0   \n",
       "\n",
       "   generation fossil oil shale  generation fossil peat  generation geothermal  \\\n",
       "0                          0.0                     0.0                    0.0   \n",
       "1                          0.0                     0.0                    0.0   \n",
       "2                          0.0                     0.0                    0.0   \n",
       "3                          0.0                     0.0                    0.0   \n",
       "4                          0.0                     0.0                    0.0   \n",
       "\n",
       "   ...  generation waste  generation wind offshore  generation wind onshore  \\\n",
       "0  ...             196.0                       0.0                   6378.0   \n",
       "1  ...             195.0                       0.0                   5890.0   \n",
       "2  ...             196.0                       0.0                   5461.0   \n",
       "3  ...             191.0                       0.0                   5238.0   \n",
       "4  ...             189.0                       0.0                   4935.0   \n",
       "\n",
       "   forecast solar day ahead  forecast wind offshore eday ahead  \\\n",
       "0                      17.0                                NaN   \n",
       "1                      16.0                                NaN   \n",
       "2                       8.0                                NaN   \n",
       "3                       2.0                                NaN   \n",
       "4                       9.0                                NaN   \n",
       "\n",
       "   forecast wind onshore day ahead  total load forecast  total load actual  \\\n",
       "0                           6436.0              26118.0            25385.0   \n",
       "1                           5856.0              24934.0            24382.0   \n",
       "2                           5454.0              23515.0            22734.0   \n",
       "3                           5151.0              22642.0            21286.0   \n",
       "4                           4861.0              21785.0            20264.0   \n",
       "\n",
       "   price day ahead  price actual  \n",
       "0            50.10         65.41  \n",
       "1            48.10         64.92  \n",
       "2            47.33         64.48  \n",
       "3            42.27         59.32  \n",
       "4            38.41         56.04  \n",
       "\n",
       "[5 rows x 29 columns]"
      ]
     },
     "execution_count": 68,
     "metadata": {},
     "output_type": "execute_result"
    }
   ],
   "source": [
    "df = pd.read_csv('energy_dataset.csv')\n",
    "df.head()"
   ]
  },
  {
   "cell_type": "code",
   "execution_count": 69,
   "metadata": {},
   "outputs": [
    {
     "name": "stdout",
     "output_type": "stream",
     "text": [
      "<class 'pandas.core.frame.DataFrame'>\n",
      "RangeIndex: 35064 entries, 0 to 35063\n",
      "Data columns (total 29 columns):\n",
      " #   Column                                       Non-Null Count  Dtype  \n",
      "---  ------                                       --------------  -----  \n",
      " 0   time                                         35064 non-null  object \n",
      " 1   generation biomass                           35045 non-null  float64\n",
      " 2   generation fossil brown coal/lignite         35046 non-null  float64\n",
      " 3   generation fossil coal-derived gas           35046 non-null  float64\n",
      " 4   generation fossil gas                        35046 non-null  float64\n",
      " 5   generation fossil hard coal                  35046 non-null  float64\n",
      " 6   generation fossil oil                        35045 non-null  float64\n",
      " 7   generation fossil oil shale                  35046 non-null  float64\n",
      " 8   generation fossil peat                       35046 non-null  float64\n",
      " 9   generation geothermal                        35046 non-null  float64\n",
      " 10  generation hydro pumped storage aggregated   0 non-null      float64\n",
      " 11  generation hydro pumped storage consumption  35045 non-null  float64\n",
      " 12  generation hydro run-of-river and poundage   35045 non-null  float64\n",
      " 13  generation hydro water reservoir             35046 non-null  float64\n",
      " 14  generation marine                            35045 non-null  float64\n",
      " 15  generation nuclear                           35047 non-null  float64\n",
      " 16  generation other                             35046 non-null  float64\n",
      " 17  generation other renewable                   35046 non-null  float64\n",
      " 18  generation solar                             35046 non-null  float64\n",
      " 19  generation waste                             35045 non-null  float64\n",
      " 20  generation wind offshore                     35046 non-null  float64\n",
      " 21  generation wind onshore                      35046 non-null  float64\n",
      " 22  forecast solar day ahead                     35064 non-null  float64\n",
      " 23  forecast wind offshore eday ahead            0 non-null      float64\n",
      " 24  forecast wind onshore day ahead              35064 non-null  float64\n",
      " 25  total load forecast                          35064 non-null  float64\n",
      " 26  total load actual                            35028 non-null  float64\n",
      " 27  price day ahead                              35064 non-null  float64\n",
      " 28  price actual                                 35064 non-null  float64\n",
      "dtypes: float64(28), object(1)\n",
      "memory usage: 7.8+ MB\n"
     ]
    }
   ],
   "source": [
    "# 참고:\n",
    "# time에 대한 데이터 타입 = object\n",
    "# 시계열 분석을 위해서 데이터 타입을 바꿔줘야함.\n",
    "df.info()"
   ]
  },
  {
   "cell_type": "code",
   "execution_count": 70,
   "metadata": {},
   "outputs": [
    {
     "data": {
      "text/html": [
       "<div>\n",
       "<style scoped>\n",
       "    .dataframe tbody tr th:only-of-type {\n",
       "        vertical-align: middle;\n",
       "    }\n",
       "\n",
       "    .dataframe tbody tr th {\n",
       "        vertical-align: top;\n",
       "    }\n",
       "\n",
       "    .dataframe thead th {\n",
       "        text-align: right;\n",
       "    }\n",
       "</style>\n",
       "<table border=\"1\" class=\"dataframe\">\n",
       "  <thead>\n",
       "    <tr style=\"text-align: right;\">\n",
       "      <th></th>\n",
       "      <th>generation biomass</th>\n",
       "      <th>generation fossil brown coal/lignite</th>\n",
       "      <th>generation fossil coal-derived gas</th>\n",
       "      <th>generation fossil gas</th>\n",
       "      <th>generation fossil hard coal</th>\n",
       "      <th>generation fossil oil</th>\n",
       "      <th>generation fossil oil shale</th>\n",
       "      <th>generation fossil peat</th>\n",
       "      <th>generation geothermal</th>\n",
       "      <th>generation hydro pumped storage aggregated</th>\n",
       "      <th>...</th>\n",
       "      <th>generation waste</th>\n",
       "      <th>generation wind offshore</th>\n",
       "      <th>generation wind onshore</th>\n",
       "      <th>forecast solar day ahead</th>\n",
       "      <th>forecast wind offshore eday ahead</th>\n",
       "      <th>forecast wind onshore day ahead</th>\n",
       "      <th>total load forecast</th>\n",
       "      <th>total load actual</th>\n",
       "      <th>price day ahead</th>\n",
       "      <th>price actual</th>\n",
       "    </tr>\n",
       "  </thead>\n",
       "  <tbody>\n",
       "    <tr>\n",
       "      <th>count</th>\n",
       "      <td>35045.000000</td>\n",
       "      <td>35046.000000</td>\n",
       "      <td>35046.0</td>\n",
       "      <td>35046.000000</td>\n",
       "      <td>35046.000000</td>\n",
       "      <td>35045.000000</td>\n",
       "      <td>35046.0</td>\n",
       "      <td>35046.0</td>\n",
       "      <td>35046.0</td>\n",
       "      <td>0.0</td>\n",
       "      <td>...</td>\n",
       "      <td>35045.000000</td>\n",
       "      <td>35046.0</td>\n",
       "      <td>35046.000000</td>\n",
       "      <td>35064.000000</td>\n",
       "      <td>0.0</td>\n",
       "      <td>35064.000000</td>\n",
       "      <td>35064.000000</td>\n",
       "      <td>35028.000000</td>\n",
       "      <td>35064.000000</td>\n",
       "      <td>35064.000000</td>\n",
       "    </tr>\n",
       "    <tr>\n",
       "      <th>mean</th>\n",
       "      <td>383.513540</td>\n",
       "      <td>448.059208</td>\n",
       "      <td>0.0</td>\n",
       "      <td>5622.737488</td>\n",
       "      <td>4256.065742</td>\n",
       "      <td>298.319789</td>\n",
       "      <td>0.0</td>\n",
       "      <td>0.0</td>\n",
       "      <td>0.0</td>\n",
       "      <td>NaN</td>\n",
       "      <td>...</td>\n",
       "      <td>269.452133</td>\n",
       "      <td>0.0</td>\n",
       "      <td>5464.479769</td>\n",
       "      <td>1439.066735</td>\n",
       "      <td>NaN</td>\n",
       "      <td>5471.216689</td>\n",
       "      <td>28712.129962</td>\n",
       "      <td>28696.939905</td>\n",
       "      <td>49.874341</td>\n",
       "      <td>57.884023</td>\n",
       "    </tr>\n",
       "    <tr>\n",
       "      <th>std</th>\n",
       "      <td>85.353943</td>\n",
       "      <td>354.568590</td>\n",
       "      <td>0.0</td>\n",
       "      <td>2201.830478</td>\n",
       "      <td>1961.601013</td>\n",
       "      <td>52.520673</td>\n",
       "      <td>0.0</td>\n",
       "      <td>0.0</td>\n",
       "      <td>0.0</td>\n",
       "      <td>NaN</td>\n",
       "      <td>...</td>\n",
       "      <td>50.195536</td>\n",
       "      <td>0.0</td>\n",
       "      <td>3213.691587</td>\n",
       "      <td>1677.703355</td>\n",
       "      <td>NaN</td>\n",
       "      <td>3176.312853</td>\n",
       "      <td>4594.100854</td>\n",
       "      <td>4574.987950</td>\n",
       "      <td>14.618900</td>\n",
       "      <td>14.204083</td>\n",
       "    </tr>\n",
       "    <tr>\n",
       "      <th>min</th>\n",
       "      <td>0.000000</td>\n",
       "      <td>0.000000</td>\n",
       "      <td>0.0</td>\n",
       "      <td>0.000000</td>\n",
       "      <td>0.000000</td>\n",
       "      <td>0.000000</td>\n",
       "      <td>0.0</td>\n",
       "      <td>0.0</td>\n",
       "      <td>0.0</td>\n",
       "      <td>NaN</td>\n",
       "      <td>...</td>\n",
       "      <td>0.000000</td>\n",
       "      <td>0.0</td>\n",
       "      <td>0.000000</td>\n",
       "      <td>0.000000</td>\n",
       "      <td>NaN</td>\n",
       "      <td>237.000000</td>\n",
       "      <td>18105.000000</td>\n",
       "      <td>18041.000000</td>\n",
       "      <td>2.060000</td>\n",
       "      <td>9.330000</td>\n",
       "    </tr>\n",
       "    <tr>\n",
       "      <th>25%</th>\n",
       "      <td>333.000000</td>\n",
       "      <td>0.000000</td>\n",
       "      <td>0.0</td>\n",
       "      <td>4126.000000</td>\n",
       "      <td>2527.000000</td>\n",
       "      <td>263.000000</td>\n",
       "      <td>0.0</td>\n",
       "      <td>0.0</td>\n",
       "      <td>0.0</td>\n",
       "      <td>NaN</td>\n",
       "      <td>...</td>\n",
       "      <td>240.000000</td>\n",
       "      <td>0.0</td>\n",
       "      <td>2933.000000</td>\n",
       "      <td>69.000000</td>\n",
       "      <td>NaN</td>\n",
       "      <td>2979.000000</td>\n",
       "      <td>24793.750000</td>\n",
       "      <td>24807.750000</td>\n",
       "      <td>41.490000</td>\n",
       "      <td>49.347500</td>\n",
       "    </tr>\n",
       "    <tr>\n",
       "      <th>50%</th>\n",
       "      <td>367.000000</td>\n",
       "      <td>509.000000</td>\n",
       "      <td>0.0</td>\n",
       "      <td>4969.000000</td>\n",
       "      <td>4474.000000</td>\n",
       "      <td>300.000000</td>\n",
       "      <td>0.0</td>\n",
       "      <td>0.0</td>\n",
       "      <td>0.0</td>\n",
       "      <td>NaN</td>\n",
       "      <td>...</td>\n",
       "      <td>279.000000</td>\n",
       "      <td>0.0</td>\n",
       "      <td>4849.000000</td>\n",
       "      <td>576.000000</td>\n",
       "      <td>NaN</td>\n",
       "      <td>4855.000000</td>\n",
       "      <td>28906.000000</td>\n",
       "      <td>28901.000000</td>\n",
       "      <td>50.520000</td>\n",
       "      <td>58.020000</td>\n",
       "    </tr>\n",
       "    <tr>\n",
       "      <th>75%</th>\n",
       "      <td>433.000000</td>\n",
       "      <td>757.000000</td>\n",
       "      <td>0.0</td>\n",
       "      <td>6429.000000</td>\n",
       "      <td>5838.750000</td>\n",
       "      <td>330.000000</td>\n",
       "      <td>0.0</td>\n",
       "      <td>0.0</td>\n",
       "      <td>0.0</td>\n",
       "      <td>NaN</td>\n",
       "      <td>...</td>\n",
       "      <td>310.000000</td>\n",
       "      <td>0.0</td>\n",
       "      <td>7398.000000</td>\n",
       "      <td>2636.000000</td>\n",
       "      <td>NaN</td>\n",
       "      <td>7353.000000</td>\n",
       "      <td>32263.250000</td>\n",
       "      <td>32192.000000</td>\n",
       "      <td>60.530000</td>\n",
       "      <td>68.010000</td>\n",
       "    </tr>\n",
       "    <tr>\n",
       "      <th>max</th>\n",
       "      <td>592.000000</td>\n",
       "      <td>999.000000</td>\n",
       "      <td>0.0</td>\n",
       "      <td>20034.000000</td>\n",
       "      <td>8359.000000</td>\n",
       "      <td>449.000000</td>\n",
       "      <td>0.0</td>\n",
       "      <td>0.0</td>\n",
       "      <td>0.0</td>\n",
       "      <td>NaN</td>\n",
       "      <td>...</td>\n",
       "      <td>357.000000</td>\n",
       "      <td>0.0</td>\n",
       "      <td>17436.000000</td>\n",
       "      <td>5836.000000</td>\n",
       "      <td>NaN</td>\n",
       "      <td>17430.000000</td>\n",
       "      <td>41390.000000</td>\n",
       "      <td>41015.000000</td>\n",
       "      <td>101.990000</td>\n",
       "      <td>116.800000</td>\n",
       "    </tr>\n",
       "  </tbody>\n",
       "</table>\n",
       "<p>8 rows × 28 columns</p>\n",
       "</div>"
      ],
      "text/plain": [
       "       generation biomass  generation fossil brown coal/lignite  \\\n",
       "count        35045.000000                          35046.000000   \n",
       "mean           383.513540                            448.059208   \n",
       "std             85.353943                            354.568590   \n",
       "min              0.000000                              0.000000   \n",
       "25%            333.000000                              0.000000   \n",
       "50%            367.000000                            509.000000   \n",
       "75%            433.000000                            757.000000   \n",
       "max            592.000000                            999.000000   \n",
       "\n",
       "       generation fossil coal-derived gas  generation fossil gas  \\\n",
       "count                             35046.0           35046.000000   \n",
       "mean                                  0.0            5622.737488   \n",
       "std                                   0.0            2201.830478   \n",
       "min                                   0.0               0.000000   \n",
       "25%                                   0.0            4126.000000   \n",
       "50%                                   0.0            4969.000000   \n",
       "75%                                   0.0            6429.000000   \n",
       "max                                   0.0           20034.000000   \n",
       "\n",
       "       generation fossil hard coal  generation fossil oil  \\\n",
       "count                 35046.000000           35045.000000   \n",
       "mean                   4256.065742             298.319789   \n",
       "std                    1961.601013              52.520673   \n",
       "min                       0.000000               0.000000   \n",
       "25%                    2527.000000             263.000000   \n",
       "50%                    4474.000000             300.000000   \n",
       "75%                    5838.750000             330.000000   \n",
       "max                    8359.000000             449.000000   \n",
       "\n",
       "       generation fossil oil shale  generation fossil peat  \\\n",
       "count                      35046.0                 35046.0   \n",
       "mean                           0.0                     0.0   \n",
       "std                            0.0                     0.0   \n",
       "min                            0.0                     0.0   \n",
       "25%                            0.0                     0.0   \n",
       "50%                            0.0                     0.0   \n",
       "75%                            0.0                     0.0   \n",
       "max                            0.0                     0.0   \n",
       "\n",
       "       generation geothermal  generation hydro pumped storage aggregated  ...  \\\n",
       "count                35046.0                                         0.0  ...   \n",
       "mean                     0.0                                         NaN  ...   \n",
       "std                      0.0                                         NaN  ...   \n",
       "min                      0.0                                         NaN  ...   \n",
       "25%                      0.0                                         NaN  ...   \n",
       "50%                      0.0                                         NaN  ...   \n",
       "75%                      0.0                                         NaN  ...   \n",
       "max                      0.0                                         NaN  ...   \n",
       "\n",
       "       generation waste  generation wind offshore  generation wind onshore  \\\n",
       "count      35045.000000                   35046.0             35046.000000   \n",
       "mean         269.452133                       0.0              5464.479769   \n",
       "std           50.195536                       0.0              3213.691587   \n",
       "min            0.000000                       0.0                 0.000000   \n",
       "25%          240.000000                       0.0              2933.000000   \n",
       "50%          279.000000                       0.0              4849.000000   \n",
       "75%          310.000000                       0.0              7398.000000   \n",
       "max          357.000000                       0.0             17436.000000   \n",
       "\n",
       "       forecast solar day ahead  forecast wind offshore eday ahead  \\\n",
       "count              35064.000000                                0.0   \n",
       "mean                1439.066735                                NaN   \n",
       "std                 1677.703355                                NaN   \n",
       "min                    0.000000                                NaN   \n",
       "25%                   69.000000                                NaN   \n",
       "50%                  576.000000                                NaN   \n",
       "75%                 2636.000000                                NaN   \n",
       "max                 5836.000000                                NaN   \n",
       "\n",
       "       forecast wind onshore day ahead  total load forecast  \\\n",
       "count                     35064.000000         35064.000000   \n",
       "mean                       5471.216689         28712.129962   \n",
       "std                        3176.312853          4594.100854   \n",
       "min                         237.000000         18105.000000   \n",
       "25%                        2979.000000         24793.750000   \n",
       "50%                        4855.000000         28906.000000   \n",
       "75%                        7353.000000         32263.250000   \n",
       "max                       17430.000000         41390.000000   \n",
       "\n",
       "       total load actual  price day ahead  price actual  \n",
       "count       35028.000000     35064.000000  35064.000000  \n",
       "mean        28696.939905        49.874341     57.884023  \n",
       "std          4574.987950        14.618900     14.204083  \n",
       "min         18041.000000         2.060000      9.330000  \n",
       "25%         24807.750000        41.490000     49.347500  \n",
       "50%         28901.000000        50.520000     58.020000  \n",
       "75%         32192.000000        60.530000     68.010000  \n",
       "max         41015.000000       101.990000    116.800000  \n",
       "\n",
       "[8 rows x 28 columns]"
      ]
     },
     "execution_count": 70,
     "metadata": {},
     "output_type": "execute_result"
    }
   ],
   "source": [
    "df.describe()"
   ]
  },
  {
   "cell_type": "code",
   "execution_count": 71,
   "metadata": {},
   "outputs": [],
   "source": [
    "df.drop(columns=['generation hydro pumped storage aggregated', 'forecast wind offshore eday ahead'], inplace=True)"
   ]
  },
  {
   "cell_type": "code",
   "execution_count": 72,
   "metadata": {},
   "outputs": [],
   "source": [
    "df.dropna(inplace=True)"
   ]
  },
  {
   "cell_type": "code",
   "execution_count": 73,
   "metadata": {},
   "outputs": [
    {
     "data": {
      "text/plain": [
       "time                                           0\n",
       "generation biomass                             0\n",
       "generation fossil brown coal/lignite           0\n",
       "generation fossil coal-derived gas             0\n",
       "generation fossil gas                          0\n",
       "generation fossil hard coal                    0\n",
       "generation fossil oil                          0\n",
       "generation fossil oil shale                    0\n",
       "generation fossil peat                         0\n",
       "generation geothermal                          0\n",
       "generation hydro pumped storage consumption    0\n",
       "generation hydro run-of-river and poundage     0\n",
       "generation hydro water reservoir               0\n",
       "generation marine                              0\n",
       "generation nuclear                             0\n",
       "generation other                               0\n",
       "generation other renewable                     0\n",
       "generation solar                               0\n",
       "generation waste                               0\n",
       "generation wind offshore                       0\n",
       "generation wind onshore                        0\n",
       "forecast solar day ahead                       0\n",
       "forecast wind onshore day ahead                0\n",
       "total load forecast                            0\n",
       "total load actual                              0\n",
       "price day ahead                                0\n",
       "price actual                                   0\n",
       "dtype: int64"
      ]
     },
     "execution_count": 73,
     "metadata": {},
     "output_type": "execute_result"
    }
   ],
   "source": [
    "df.isnull().sum()"
   ]
  },
  {
   "cell_type": "code",
   "execution_count": 74,
   "metadata": {},
   "outputs": [
    {
     "name": "stdout",
     "output_type": "stream",
     "text": [
      "<class 'pandas.core.frame.DataFrame'>\n"
     ]
    },
    {
     "data": {
      "text/html": [
       "<div>\n",
       "<style scoped>\n",
       "    .dataframe tbody tr th:only-of-type {\n",
       "        vertical-align: middle;\n",
       "    }\n",
       "\n",
       "    .dataframe tbody tr th {\n",
       "        vertical-align: top;\n",
       "    }\n",
       "\n",
       "    .dataframe thead th {\n",
       "        text-align: right;\n",
       "    }\n",
       "</style>\n",
       "<table border=\"1\" class=\"dataframe\">\n",
       "  <thead>\n",
       "    <tr style=\"text-align: right;\">\n",
       "      <th></th>\n",
       "      <th>total load actual</th>\n",
       "      <th>price day ahead</th>\n",
       "    </tr>\n",
       "  </thead>\n",
       "  <tbody>\n",
       "    <tr>\n",
       "      <th>0</th>\n",
       "      <td>25385.0</td>\n",
       "      <td>50.10</td>\n",
       "    </tr>\n",
       "    <tr>\n",
       "      <th>1</th>\n",
       "      <td>24382.0</td>\n",
       "      <td>48.10</td>\n",
       "    </tr>\n",
       "    <tr>\n",
       "      <th>2</th>\n",
       "      <td>22734.0</td>\n",
       "      <td>47.33</td>\n",
       "    </tr>\n",
       "    <tr>\n",
       "      <th>3</th>\n",
       "      <td>21286.0</td>\n",
       "      <td>42.27</td>\n",
       "    </tr>\n",
       "    <tr>\n",
       "      <th>4</th>\n",
       "      <td>20264.0</td>\n",
       "      <td>38.41</td>\n",
       "    </tr>\n",
       "  </tbody>\n",
       "</table>\n",
       "</div>"
      ],
      "text/plain": [
       "   total load actual  price day ahead\n",
       "0            25385.0            50.10\n",
       "1            24382.0            48.10\n",
       "2            22734.0            47.33\n",
       "3            21286.0            42.27\n",
       "4            20264.0            38.41"
      ]
     },
     "execution_count": 74,
     "metadata": {},
     "output_type": "execute_result"
    }
   ],
   "source": [
    "# 참고: 데이터 타입 확인\n",
    "# pandas, numpy\n",
    "# 1) pandas 객체\n",
    "X = df.loc[:,['total load actual','price day ahead']] # 2개 데이터\n",
    "y = df.loc[:,'price actual']\n",
    "print(type(X))\n",
    "X.head()"
   ]
  },
  {
   "cell_type": "code",
   "execution_count": 75,
   "metadata": {},
   "outputs": [
    {
     "name": "stdout",
     "output_type": "stream",
     "text": [
      "<class 'numpy.ndarray'>\n"
     ]
    },
    {
     "data": {
      "text/plain": [
       "array([[25385.  ,    50.1 ],\n",
       "       [24382.  ,    48.1 ],\n",
       "       [22734.  ,    47.33],\n",
       "       ...,\n",
       "       [28071.  ,    66.88],\n",
       "       [25801.  ,    63.93],\n",
       "       [24455.  ,    64.27]])"
      ]
     },
     "execution_count": 75,
     "metadata": {},
     "output_type": "execute_result"
    }
   ],
   "source": [
    "# 2) numpy 객체\n",
    "X = X.values\n",
    "y = y.values\n",
    "print(type(X))\n",
    "X"
   ]
  },
  {
   "cell_type": "markdown",
   "metadata": {},
   "source": [
    "### 회귀 모델 생성"
   ]
  },
  {
   "cell_type": "code",
   "execution_count": 76,
   "metadata": {},
   "outputs": [
    {
     "data": {
      "text/plain": [
       "LinearRegression()"
      ]
     },
     "execution_count": 76,
     "metadata": {},
     "output_type": "execute_result"
    }
   ],
   "source": [
    "mul_reg = LinearRegression()\n",
    "mul_reg.fit(X,y)"
   ]
  },
  {
   "cell_type": "code",
   "execution_count": 77,
   "metadata": {},
   "outputs": [
    {
     "name": "stdout",
     "output_type": "stream",
     "text": [
      "기울기:  [3.53417224e-04 6.59637935e-01]\n",
      "절편: 14.849636913946462\n"
     ]
    }
   ],
   "source": [
    "print('기울기: ',mul_reg.coef_)\n",
    "print('절편:', mul_reg.intercept_)"
   ]
  },
  {
   "cell_type": "code",
   "execution_count": 80,
   "metadata": {},
   "outputs": [],
   "source": [
    "y_hat = mul_reg.predict(X)"
   ]
  },
  {
   "cell_type": "code",
   "execution_count": 81,
   "metadata": {},
   "outputs": [
    {
     "name": "stdout",
     "output_type": "stream",
     "text": [
      "R^2:  0.5480997942859913\n",
      "MSE:  90.99378726695268\n"
     ]
    }
   ],
   "source": [
    "print('R^2: ', mul_reg.score(X, y))\n",
    "print('MSE: ', mean_squared_error(y,y_hat))"
   ]
  },
  {
   "cell_type": "markdown",
   "metadata": {},
   "source": [
    "[contents index]\n",
    "1. [키와 몸무게의 상관 관계](#1)   \n",
    "2. [실습: 보스톤 집값 예측 모델](#2)  \n",
    "3. [Multiple Regression](#3)\n",
    "4. [실습: winearoma 데이터셋](#4)\n",
    "5. [데이터 시각화](#5)\n",
    "6. [Train test set split and evaluation](#6)\n",
    "7. [실습: winearoma 데이터셋에 대해 train과 test 에러 계산하기](#7)   \n",
    "8. [Cross validation 이용](#8)"
   ]
  },
  {
   "cell_type": "markdown",
   "metadata": {},
   "source": [
    "---"
   ]
  },
  {
   "cell_type": "markdown",
   "metadata": {},
   "source": [
    "<a id= '4'></a>"
   ]
  },
  {
   "cell_type": "markdown",
   "metadata": {},
   "source": [
    "## [실습: winearoma 데이터셋에 대해서 모형 학습하고 R^2, MSE 계산](#0)"
   ]
  },
  {
   "cell_type": "code",
   "execution_count": 125,
   "metadata": {},
   "outputs": [],
   "source": [
    "def print_summary(model, X, y, features, plot= False):\n",
    "    s = pd.DataFrame({'coefficients':model.coef_})\n",
    "    s.index = features\n",
    "    print(s)\n",
    "    print()\n",
    "    if plot:\n",
    "        s.plot(kind= 'barh')\n",
    "        plt.show()\n",
    "    \n",
    "    print(f'절편: {model.intercept_:.4f}')\n",
    "    print(f'R^2: {model.score(X,y):.4f}')\n",
    "    y_hat = model.predict(X)\n",
    "    print(f'MSE: {mean_squared_error(y_hat,y):.4f}')"
   ]
  },
  {
   "cell_type": "markdown",
   "metadata": {},
   "source": [
    "### sklearn 사용"
   ]
  },
  {
   "cell_type": "code",
   "execution_count": 126,
   "metadata": {
    "scrolled": true
   },
   "outputs": [
    {
     "data": {
      "text/html": [
       "<div>\n",
       "<style scoped>\n",
       "    .dataframe tbody tr th:only-of-type {\n",
       "        vertical-align: middle;\n",
       "    }\n",
       "\n",
       "    .dataframe tbody tr th {\n",
       "        vertical-align: top;\n",
       "    }\n",
       "\n",
       "    .dataframe thead th {\n",
       "        text-align: right;\n",
       "    }\n",
       "</style>\n",
       "<table border=\"1\" class=\"dataframe\">\n",
       "  <thead>\n",
       "    <tr style=\"text-align: right;\">\n",
       "      <th></th>\n",
       "      <th>Mo</th>\n",
       "      <th>Ba</th>\n",
       "      <th>Cr</th>\n",
       "      <th>Sr</th>\n",
       "      <th>Pb</th>\n",
       "      <th>B</th>\n",
       "      <th>Mg</th>\n",
       "      <th>Ca</th>\n",
       "      <th>K</th>\n",
       "      <th>Aroma</th>\n",
       "    </tr>\n",
       "  </thead>\n",
       "  <tbody>\n",
       "    <tr>\n",
       "      <th>0</th>\n",
       "      <td>0.044</td>\n",
       "      <td>0.387</td>\n",
       "      <td>0.029</td>\n",
       "      <td>1.230</td>\n",
       "      <td>0.561</td>\n",
       "      <td>2.63</td>\n",
       "      <td>128.0</td>\n",
       "      <td>80.5</td>\n",
       "      <td>1130</td>\n",
       "      <td>3.3</td>\n",
       "    </tr>\n",
       "    <tr>\n",
       "      <th>1</th>\n",
       "      <td>0.160</td>\n",
       "      <td>0.312</td>\n",
       "      <td>0.038</td>\n",
       "      <td>0.975</td>\n",
       "      <td>0.697</td>\n",
       "      <td>6.21</td>\n",
       "      <td>193.0</td>\n",
       "      <td>75.0</td>\n",
       "      <td>1010</td>\n",
       "      <td>4.4</td>\n",
       "    </tr>\n",
       "    <tr>\n",
       "      <th>2</th>\n",
       "      <td>0.146</td>\n",
       "      <td>0.308</td>\n",
       "      <td>0.035</td>\n",
       "      <td>1.140</td>\n",
       "      <td>0.730</td>\n",
       "      <td>3.05</td>\n",
       "      <td>127.0</td>\n",
       "      <td>91.0</td>\n",
       "      <td>1160</td>\n",
       "      <td>3.9</td>\n",
       "    </tr>\n",
       "    <tr>\n",
       "      <th>3</th>\n",
       "      <td>0.191</td>\n",
       "      <td>0.165</td>\n",
       "      <td>0.036</td>\n",
       "      <td>0.927</td>\n",
       "      <td>0.796</td>\n",
       "      <td>2.57</td>\n",
       "      <td>112.0</td>\n",
       "      <td>93.6</td>\n",
       "      <td>924</td>\n",
       "      <td>3.9</td>\n",
       "    </tr>\n",
       "    <tr>\n",
       "      <th>4</th>\n",
       "      <td>0.363</td>\n",
       "      <td>0.380</td>\n",
       "      <td>0.059</td>\n",
       "      <td>1.130</td>\n",
       "      <td>1.730</td>\n",
       "      <td>3.07</td>\n",
       "      <td>138.0</td>\n",
       "      <td>84.6</td>\n",
       "      <td>1090</td>\n",
       "      <td>5.6</td>\n",
       "    </tr>\n",
       "  </tbody>\n",
       "</table>\n",
       "</div>"
      ],
      "text/plain": [
       "      Mo     Ba     Cr     Sr     Pb     B     Mg    Ca     K  Aroma\n",
       "0  0.044  0.387  0.029  1.230  0.561  2.63  128.0  80.5  1130    3.3\n",
       "1  0.160  0.312  0.038  0.975  0.697  6.21  193.0  75.0  1010    4.4\n",
       "2  0.146  0.308  0.035  1.140  0.730  3.05  127.0  91.0  1160    3.9\n",
       "3  0.191  0.165  0.036  0.927  0.796  2.57  112.0  93.6   924    3.9\n",
       "4  0.363  0.380  0.059  1.130  1.730  3.07  138.0  84.6  1090    5.6"
      ]
     },
     "execution_count": 126,
     "metadata": {},
     "output_type": "execute_result"
    }
   ],
   "source": [
    "wine = pd.read_excel('wine_aroma.xlsx')\n",
    "wine.head()"
   ]
  },
  {
   "cell_type": "code",
   "execution_count": 145,
   "metadata": {},
   "outputs": [],
   "source": [
    "Input_wine=   wine.iloc[:,0:-1] .values        # 독립 변수를 numpy 객체에 저장해주세요. \n",
    "Output_wine = wine.iloc[:,-1].values                   # 종속 변수를 numpy 객체에 저장해주세요. "
   ]
  },
  {
   "cell_type": "code",
   "execution_count": 147,
   "metadata": {
    "scrolled": true
   },
   "outputs": [
    {
     "data": {
      "text/plain": [
       "LinearRegression()"
      ]
     },
     "execution_count": 147,
     "metadata": {},
     "output_type": "execute_result"
    }
   ],
   "source": [
    "mul_reg2 = LinearRegression()# 선형 회귀 모델을 선언해주세요.\n",
    "mul_reg2.fit(Input_wine,Output_wine)           # mul_reg2를 학습시켜 주세요. # hint: mul_reg2.fit(?,?)"
   ]
  },
  {
   "cell_type": "code",
   "execution_count": 133,
   "metadata": {},
   "outputs": [
    {
     "name": "stdout",
     "output_type": "stream",
     "text": [
      "please fit the model first..\n"
     ]
    }
   ],
   "source": [
    "try:\n",
    "    print_summary(mul_reg2, Input_wine, Output_wine, features= wine.columns.drop('Aroma'))\n",
    "except:\n",
    "    print('please fit the model first..')"
   ]
  },
  {
   "cell_type": "markdown",
   "metadata": {},
   "source": [
    "### stats.api 사용"
   ]
  },
  {
   "cell_type": "code",
   "execution_count": 117,
   "metadata": {},
   "outputs": [],
   "source": [
    "Input_wine1= wine.iloc[:,:-1]\n",
    "Output_wine1 = wine.iloc[:,-1]"
   ]
  },
  {
   "cell_type": "code",
   "execution_count": 118,
   "metadata": {},
   "outputs": [
    {
     "data": {
      "text/html": [
       "<table class=\"simpletable\">\n",
       "<caption>OLS Regression Results</caption>\n",
       "<tr>\n",
       "  <th>Dep. Variable:</th>          <td>Aroma</td>      <th>  R-squared:         </th> <td>   0.835</td>\n",
       "</tr>\n",
       "<tr>\n",
       "  <th>Model:</th>                   <td>OLS</td>       <th>  Adj. R-squared:    </th> <td>   0.737</td>\n",
       "</tr>\n",
       "<tr>\n",
       "  <th>Method:</th>             <td>Least Squares</td>  <th>  F-statistic:       </th> <td>   8.462</td>\n",
       "</tr>\n",
       "<tr>\n",
       "  <th>Date:</th>             <td>Tue, 20 Jul 2021</td> <th>  Prob (F-statistic):</th> <td>0.000187</td>\n",
       "</tr>\n",
       "<tr>\n",
       "  <th>Time:</th>                 <td>13:38:31</td>     <th>  Log-Likelihood:    </th> <td> -14.934</td>\n",
       "</tr>\n",
       "<tr>\n",
       "  <th>No. Observations:</th>      <td>    25</td>      <th>  AIC:               </th> <td>   49.87</td>\n",
       "</tr>\n",
       "<tr>\n",
       "  <th>Df Residuals:</th>          <td>    15</td>      <th>  BIC:               </th> <td>   62.06</td>\n",
       "</tr>\n",
       "<tr>\n",
       "  <th>Df Model:</th>              <td>     9</td>      <th>                     </th>     <td> </td>   \n",
       "</tr>\n",
       "<tr>\n",
       "  <th>Covariance Type:</th>      <td>nonrobust</td>    <th>                     </th>     <td> </td>   \n",
       "</tr>\n",
       "</table>\n",
       "<table class=\"simpletable\">\n",
       "<tr>\n",
       "    <td></td>       <th>coef</th>     <th>std err</th>      <th>t</th>      <th>P>|t|</th>  <th>[0.025</th>    <th>0.975]</th>  \n",
       "</tr>\n",
       "<tr>\n",
       "  <th>const</th> <td>    6.2003</td> <td>    0.948</td> <td>    6.539</td> <td> 0.000</td> <td>    4.179</td> <td>    8.221</td>\n",
       "</tr>\n",
       "<tr>\n",
       "  <th>Mo</th>    <td>    7.9128</td> <td>    5.481</td> <td>    1.444</td> <td> 0.169</td> <td>   -3.770</td> <td>   19.596</td>\n",
       "</tr>\n",
       "<tr>\n",
       "  <th>Ba</th>    <td>    1.6703</td> <td>    2.608</td> <td>    0.640</td> <td> 0.532</td> <td>   -3.889</td> <td>    7.230</td>\n",
       "</tr>\n",
       "<tr>\n",
       "  <th>Cr</th>    <td>  -18.1369</td> <td>   10.976</td> <td>   -1.652</td> <td> 0.119</td> <td>  -41.532</td> <td>    5.259</td>\n",
       "</tr>\n",
       "<tr>\n",
       "  <th>Sr</th>    <td>   -1.5643</td> <td>    0.862</td> <td>   -1.814</td> <td> 0.090</td> <td>   -3.402</td> <td>    0.274</td>\n",
       "</tr>\n",
       "<tr>\n",
       "  <th>Pb</th>    <td>   -0.2539</td> <td>    1.280</td> <td>   -0.198</td> <td> 0.845</td> <td>   -2.983</td> <td>    2.475</td>\n",
       "</tr>\n",
       "<tr>\n",
       "  <th>B</th>     <td>    0.0961</td> <td>    0.118</td> <td>    0.815</td> <td> 0.428</td> <td>   -0.155</td> <td>    0.347</td>\n",
       "</tr>\n",
       "<tr>\n",
       "  <th>Mg</th>    <td>    0.0005</td> <td>    0.008</td> <td>    0.066</td> <td> 0.949</td> <td>   -0.016</td> <td>    0.017</td>\n",
       "</tr>\n",
       "<tr>\n",
       "  <th>Ca</th>    <td>   -0.0350</td> <td>    0.011</td> <td>   -3.295</td> <td> 0.005</td> <td>   -0.058</td> <td>   -0.012</td>\n",
       "</tr>\n",
       "<tr>\n",
       "  <th>K</th>     <td>    0.0014</td> <td>    0.001</td> <td>    0.990</td> <td> 0.338</td> <td>   -0.002</td> <td>    0.004</td>\n",
       "</tr>\n",
       "</table>\n",
       "<table class=\"simpletable\">\n",
       "<tr>\n",
       "  <th>Omnibus:</th>       <td> 2.517</td> <th>  Durbin-Watson:     </th> <td>   1.827</td>\n",
       "</tr>\n",
       "<tr>\n",
       "  <th>Prob(Omnibus):</th> <td> 0.284</td> <th>  Jarque-Bera (JB):  </th> <td>   2.164</td>\n",
       "</tr>\n",
       "<tr>\n",
       "  <th>Skew:</th>          <td> 0.637</td> <th>  Prob(JB):          </th> <td>   0.339</td>\n",
       "</tr>\n",
       "<tr>\n",
       "  <th>Kurtosis:</th>      <td> 2.325</td> <th>  Cond. No.          </th> <td>1.10e+05</td>\n",
       "</tr>\n",
       "</table><br/><br/>Warnings:<br/>[1] Standard Errors assume that the covariance matrix of the errors is correctly specified.<br/>[2] The condition number is large, 1.1e+05. This might indicate that there are<br/>strong multicollinearity or other numerical problems."
      ],
      "text/plain": [
       "<class 'statsmodels.iolib.summary.Summary'>\n",
       "\"\"\"\n",
       "                            OLS Regression Results                            \n",
       "==============================================================================\n",
       "Dep. Variable:                  Aroma   R-squared:                       0.835\n",
       "Model:                            OLS   Adj. R-squared:                  0.737\n",
       "Method:                 Least Squares   F-statistic:                     8.462\n",
       "Date:                Tue, 20 Jul 2021   Prob (F-statistic):           0.000187\n",
       "Time:                        13:38:31   Log-Likelihood:                -14.934\n",
       "No. Observations:                  25   AIC:                             49.87\n",
       "Df Residuals:                      15   BIC:                             62.06\n",
       "Df Model:                           9                                         \n",
       "Covariance Type:            nonrobust                                         \n",
       "==============================================================================\n",
       "                 coef    std err          t      P>|t|      [0.025      0.975]\n",
       "------------------------------------------------------------------------------\n",
       "const          6.2003      0.948      6.539      0.000       4.179       8.221\n",
       "Mo             7.9128      5.481      1.444      0.169      -3.770      19.596\n",
       "Ba             1.6703      2.608      0.640      0.532      -3.889       7.230\n",
       "Cr           -18.1369     10.976     -1.652      0.119     -41.532       5.259\n",
       "Sr            -1.5643      0.862     -1.814      0.090      -3.402       0.274\n",
       "Pb            -0.2539      1.280     -0.198      0.845      -2.983       2.475\n",
       "B              0.0961      0.118      0.815      0.428      -0.155       0.347\n",
       "Mg             0.0005      0.008      0.066      0.949      -0.016       0.017\n",
       "Ca            -0.0350      0.011     -3.295      0.005      -0.058      -0.012\n",
       "K              0.0014      0.001      0.990      0.338      -0.002       0.004\n",
       "==============================================================================\n",
       "Omnibus:                        2.517   Durbin-Watson:                   1.827\n",
       "Prob(Omnibus):                  0.284   Jarque-Bera (JB):                2.164\n",
       "Skew:                           0.637   Prob(JB):                        0.339\n",
       "Kurtosis:                       2.325   Cond. No.                     1.10e+05\n",
       "==============================================================================\n",
       "\n",
       "Warnings:\n",
       "[1] Standard Errors assume that the covariance matrix of the errors is correctly specified.\n",
       "[2] The condition number is large, 1.1e+05. This might indicate that there are\n",
       "strong multicollinearity or other numerical problems.\n",
       "\"\"\""
      ]
     },
     "execution_count": 118,
     "metadata": {},
     "output_type": "execute_result"
    }
   ],
   "source": [
    "Input_wine1 = sm.add_constant(Input_wine1,has_constant = 'add')# 독립 변수에 constant를 추가해주세요.\n",
    "\n",
    "# sm.OLS를 이용해서 모델을 학습시키고 결과를 출력해주세요.\n",
    "lm = sm.OLS(Output_wine1,Input_wine1)\n",
    "results = lm.fit()\n",
    "results.summary()"
   ]
  },
  {
   "cell_type": "markdown",
   "metadata": {},
   "source": [
    "### 이상치 제거만 해도 성능을 높일 수 있다."
   ]
  },
  {
   "cell_type": "code",
   "execution_count": 120,
   "metadata": {},
   "outputs": [
    {
     "data": {
      "image/png": "[encoded data removed]",
      "text/plain": [
       "<Figure size 432x288 with 1 Axes>"
      ]
     },
     "metadata": {
      "needs_background": "light"
     },
     "output_type": "display_data"
    }
   ],
   "source": [
    "boxplot = wine.boxplot()\n",
    "plt.title('[Box Plot] Wine Data')\n",
    "plt.show()\n",
    "# feature K has outlier whose values are higher than about 1300"
   ]
  },
  {
   "cell_type": "code",
   "execution_count": 121,
   "metadata": {},
   "outputs": [],
   "source": [
    "not_outlier = wine['K'] < 1300\n",
    "wine2 = wine.loc[not_outlier,:]\n",
    "\n",
    "Input_wine2= wine2.iloc[:,:-1]\n",
    "Output_wine2 = wine2.iloc[:,-1]"
   ]
  },
  {
   "cell_type": "code",
   "execution_count": 122,
   "metadata": {},
   "outputs": [],
   "source": [
    "Input_wine2= Input_wine2.values\n",
    "Output_wine2 = Output_wine2.values"
   ]
  },
  {
   "cell_type": "code",
   "execution_count": 123,
   "metadata": {},
   "outputs": [
    {
     "data": {
      "text/plain": [
       "LinearRegression()"
      ]
     },
     "execution_count": 123,
     "metadata": {},
     "output_type": "execute_result"
    }
   ],
   "source": [
    "mul_reg3 = LinearRegression()\n",
    "mul_reg3.fit(Input_wine2,Output_wine2)"
   ]
  },
  {
   "cell_type": "code",
   "execution_count": 124,
   "metadata": {},
   "outputs": [
    {
     "name": "stdout",
     "output_type": "stream",
     "text": [
      "    coefficients\n",
      "Mo     10.291818\n",
      "Ba      8.417703\n",
      "Cr    -23.717778\n",
      "Sr     -3.217011\n",
      "Pb     -0.800144\n",
      "B       0.208273\n",
      "Mg     -0.009768\n",
      "Ca     -0.013974\n",
      "K       0.001189\n",
      "\n",
      "절편: 5.6245\n",
      "R^2: 0.8548\n",
      "MSE: 0.1612\n"
     ]
    }
   ],
   "source": [
    "print_summary(mul_reg3, Input_wine2, Output_wine2, features= wine.columns.drop('Aroma'))"
   ]
  },
  {
   "cell_type": "markdown",
   "metadata": {},
   "source": [
    "[contents index]\n",
    "1. [키와 몸무게의 상관 관계](#1)   \n",
    "2. [실습: 보스톤 집값 예측 모델](#2)  \n",
    "3. [Multiple Regression](#3)\n",
    "4. [실습: winearoma 데이터셋](#4)\n",
    "5. [데이터 시각화](#5)\n",
    "6. [Train test set split and evaluation](#6)\n",
    "7. [실습: winearoma 데이터셋에 대해 train과 test 에러 계산하기](#7)   \n",
    "8. [Cross validation 이용](#8)"
   ]
  },
  {
   "cell_type": "markdown",
   "metadata": {},
   "source": [
    "---"
   ]
  },
  {
   "cell_type": "markdown",
   "metadata": {},
   "source": [
    "<a id= '5'></a>"
   ]
  },
  {
   "cell_type": "markdown",
   "metadata": {},
   "source": [
    "## [데이터 시각화](#0)"
   ]
  },
  {
   "cell_type": "code",
   "execution_count": 134,
   "metadata": {},
   "outputs": [
    {
     "data": {
      "text/plain": [
       "<Figure size 432x288 with 0 Axes>"
      ]
     },
     "metadata": {},
     "output_type": "display_data"
    },
    {
     "data": {
      "image/png": "[encoded data removed]",
      "text/plain": [
       "<Figure size 576x360 with 4 Axes>"
      ]
     },
     "metadata": {
      "needs_background": "light"
     },
     "output_type": "display_data"
    }
   ],
   "source": [
    "fig = plt.figure()\n",
    "\n",
    "fig, ax = plt.subplots(2, 2, figsize=(8,5))\n",
    "# Create 2 by 2 subplots\n",
    "\n",
    "fig.suptitle('figure sample plots')\n",
    "ax[0][0].plot([1,2,3,4], 'ro-')\n",
    "ax[0][1].plot(np.random.randn(4, 10), np.random.randn(4,10), 'bo--')\n",
    "ax[1][0].plot(np.linspace(0.0, 5.0), np.cos(2 * np.pi * np.linspace(0.0, 5.0)))\n",
    "ax[1][1].plot([3,5], [3,5], 'bo:')\n",
    "ax[1][1].plot([3,7], [5,4], 'kx')\n",
    "plt.show()"
   ]
  },
  {
   "cell_type": "code",
   "execution_count": 135,
   "metadata": {},
   "outputs": [],
   "source": [
    "# matplotlib.pyplot 임포트\n",
    "import matplotlib.pyplot as plt"
   ]
  },
  {
   "cell_type": "code",
   "execution_count": 136,
   "metadata": {
    "scrolled": true
   },
   "outputs": [
    {
     "data": {
      "text/plain": [
       "0     0.790549\n",
       "10   -0.588978\n",
       "20   -0.376210\n",
       "30   -0.326803\n",
       "40   -1.533542\n",
       "50   -2.181786\n",
       "60   -1.892212\n",
       "70   -2.003350\n",
       "80   -2.754805\n",
       "90   -3.374225\n",
       "dtype: float64"
      ]
     },
     "execution_count": 136,
     "metadata": {},
     "output_type": "execute_result"
    }
   ],
   "source": [
    "# Series를 통한 line plot 그리기\n",
    "s = pd.Series(np.random.randn(10).cumsum(), index=np.arange(0, 100, 10))\n",
    "s"
   ]
  },
  {
   "cell_type": "code",
   "execution_count": 137,
   "metadata": {},
   "outputs": [
    {
     "data": {
      "text/plain": [
       "<matplotlib.axes._subplots.AxesSubplot at 0x2807faebdf0>"
      ]
     },
     "execution_count": 137,
     "metadata": {},
     "output_type": "execute_result"
    },
    {
     "data": {
      "image/png": "[encoded data removed]",
      "text/plain": [
       "<Figure size 432x288 with 1 Axes>"
      ]
     },
     "metadata": {
      "needs_background": "light"
     },
     "output_type": "display_data"
    }
   ],
   "source": [
    "# 위에서 정의한 s라는 시리즈에 대해서 line plot을 그리고 싶다면?\n",
    "s.plot()"
   ]
  },
  {
   "cell_type": "code",
   "execution_count": 138,
   "metadata": {},
   "outputs": [
    {
     "data": {
      "text/html": [
       "<div>\n",
       "<style scoped>\n",
       "    .dataframe tbody tr th:only-of-type {\n",
       "        vertical-align: middle;\n",
       "    }\n",
       "\n",
       "    .dataframe tbody tr th {\n",
       "        vertical-align: top;\n",
       "    }\n",
       "\n",
       "    .dataframe thead th {\n",
       "        text-align: right;\n",
       "    }\n",
       "</style>\n",
       "<table border=\"1\" class=\"dataframe\">\n",
       "  <thead>\n",
       "    <tr style=\"text-align: right;\">\n",
       "      <th></th>\n",
       "      <th>A</th>\n",
       "      <th>B</th>\n",
       "      <th>C</th>\n",
       "      <th>D</th>\n",
       "    </tr>\n",
       "  </thead>\n",
       "  <tbody>\n",
       "    <tr>\n",
       "      <th>0</th>\n",
       "      <td>-1.228433</td>\n",
       "      <td>-0.591878</td>\n",
       "      <td>1.208208</td>\n",
       "      <td>0.951318</td>\n",
       "    </tr>\n",
       "    <tr>\n",
       "      <th>10</th>\n",
       "      <td>-0.073281</td>\n",
       "      <td>-1.458921</td>\n",
       "      <td>1.590929</td>\n",
       "      <td>1.066974</td>\n",
       "    </tr>\n",
       "    <tr>\n",
       "      <th>20</th>\n",
       "      <td>-0.640669</td>\n",
       "      <td>-2.990459</td>\n",
       "      <td>1.659007</td>\n",
       "      <td>2.401329</td>\n",
       "    </tr>\n",
       "    <tr>\n",
       "      <th>30</th>\n",
       "      <td>-0.891812</td>\n",
       "      <td>-2.508629</td>\n",
       "      <td>1.272114</td>\n",
       "      <td>2.788932</td>\n",
       "    </tr>\n",
       "    <tr>\n",
       "      <th>40</th>\n",
       "      <td>-0.703564</td>\n",
       "      <td>-3.769912</td>\n",
       "      <td>2.315660</td>\n",
       "      <td>3.131691</td>\n",
       "    </tr>\n",
       "    <tr>\n",
       "      <th>50</th>\n",
       "      <td>0.303497</td>\n",
       "      <td>-5.670407</td>\n",
       "      <td>2.797830</td>\n",
       "      <td>2.379731</td>\n",
       "    </tr>\n",
       "    <tr>\n",
       "      <th>60</th>\n",
       "      <td>-0.238540</td>\n",
       "      <td>-5.119479</td>\n",
       "      <td>3.049004</td>\n",
       "      <td>1.869273</td>\n",
       "    </tr>\n",
       "    <tr>\n",
       "      <th>70</th>\n",
       "      <td>-1.497324</td>\n",
       "      <td>-3.570534</td>\n",
       "      <td>4.124373</td>\n",
       "      <td>2.144568</td>\n",
       "    </tr>\n",
       "    <tr>\n",
       "      <th>80</th>\n",
       "      <td>-1.694445</td>\n",
       "      <td>-2.534783</td>\n",
       "      <td>4.241245</td>\n",
       "      <td>2.012970</td>\n",
       "    </tr>\n",
       "    <tr>\n",
       "      <th>90</th>\n",
       "      <td>-2.545266</td>\n",
       "      <td>-2.170238</td>\n",
       "      <td>5.130517</td>\n",
       "      <td>2.526193</td>\n",
       "    </tr>\n",
       "  </tbody>\n",
       "</table>\n",
       "</div>"
      ],
      "text/plain": [
       "           A         B         C         D\n",
       "0  -1.228433 -0.591878  1.208208  0.951318\n",
       "10 -0.073281 -1.458921  1.590929  1.066974\n",
       "20 -0.640669 -2.990459  1.659007  2.401329\n",
       "30 -0.891812 -2.508629  1.272114  2.788932\n",
       "40 -0.703564 -3.769912  2.315660  3.131691\n",
       "50  0.303497 -5.670407  2.797830  2.379731\n",
       "60 -0.238540 -5.119479  3.049004  1.869273\n",
       "70 -1.497324 -3.570534  4.124373  2.144568\n",
       "80 -1.694445 -2.534783  4.241245  2.012970\n",
       "90 -2.545266 -2.170238  5.130517  2.526193"
      ]
     },
     "execution_count": 138,
     "metadata": {},
     "output_type": "execute_result"
    }
   ],
   "source": [
    "# DataFrame을 통한 line plot 그리기\n",
    "df = pd.DataFrame(np.random.randn(10, 4).cumsum(axis=0),\n",
    "                  columns=[\"A\", \"B\", \"C\", \"D\"],\n",
    "                  index=np.arange(0, 100, 10))\n",
    "df"
   ]
  },
  {
   "cell_type": "code",
   "execution_count": 139,
   "metadata": {},
   "outputs": [
    {
     "data": {
      "text/plain": [
       "<matplotlib.axes._subplots.AxesSubplot at 0x28001a38b20>"
      ]
     },
     "execution_count": 139,
     "metadata": {},
     "output_type": "execute_result"
    },
    {
     "data": {
      "image/png": "[encoded data removed]",
      "text/plain": [
       "<Figure size 432x288 with 1 Axes>"
      ]
     },
     "metadata": {
      "needs_background": "light"
     },
     "output_type": "display_data"
    }
   ],
   "source": [
    "df.plot()"
   ]
  },
  {
   "cell_type": "code",
   "execution_count": 140,
   "metadata": {
    "scrolled": true
   },
   "outputs": [
    {
     "data": {
      "text/plain": [
       "<matplotlib.axes._subplots.AxesSubplot at 0x28001aac310>"
      ]
     },
     "execution_count": 140,
     "metadata": {},
     "output_type": "execute_result"
    },
    {
     "data": {
      "image/png": "[encoded data removed]",
      "text/plain": [
       "<Figure size 432x288 with 1 Axes>"
      ]
     },
     "metadata": {
      "needs_background": "light"
     },
     "output_type": "display_data"
    }
   ],
   "source": [
    "# 하나의 열에 대해서만 보고 싶다면?\n",
    "df['B'].plot()"
   ]
  },
  {
   "cell_type": "code",
   "execution_count": 141,
   "metadata": {
    "scrolled": true
   },
   "outputs": [
    {
     "data": {
      "text/plain": [
       "a    0.879372\n",
       "b    0.612809\n",
       "c    0.342548\n",
       "d    0.103628\n",
       "e    0.231624\n",
       "f    0.657023\n",
       "g    0.828678\n",
       "h    0.680701\n",
       "i    0.331793\n",
       "j    0.560845\n",
       "k    0.019598\n",
       "l    0.100397\n",
       "m    0.526669\n",
       "n    0.550531\n",
       "o    0.388227\n",
       "p    0.748513\n",
       "dtype: float64"
      ]
     },
     "execution_count": 141,
     "metadata": {},
     "output_type": "execute_result"
    }
   ],
   "source": [
    "s2 = pd.Series(np.random.rand(16), index=list(\"abcdefghijklmnop\"))\n",
    "s2"
   ]
  },
  {
   "cell_type": "code",
   "execution_count": 142,
   "metadata": {},
   "outputs": [
    {
     "data": {
      "text/plain": [
       "<matplotlib.axes._subplots.AxesSubplot at 0x28001afbf40>"
      ]
     },
     "execution_count": 142,
     "metadata": {},
     "output_type": "execute_result"
    },
    {
     "data": {
      "image/png": "[encoded data removed]",
      "text/plain": [
       "<Figure size 432x288 with 1 Axes>"
      ]
     },
     "metadata": {
      "needs_background": "light"
     },
     "output_type": "display_data"
    }
   ],
   "source": [
    "s2.plot(kind='bar')"
   ]
  },
  {
   "cell_type": "code",
   "execution_count": 143,
   "metadata": {},
   "outputs": [
    {
     "data": {
      "text/plain": [
       "<matplotlib.axes._subplots.AxesSubplot at 0x28001b84d30>"
      ]
     },
     "execution_count": 143,
     "metadata": {},
     "output_type": "execute_result"
    },
    {
     "data": {
      "image/png": "[encoded data removed]",
      "text/plain": [
       "<Figure size 432x288 with 1 Axes>"
      ]
     },
     "metadata": {
      "needs_background": "light"
     },
     "output_type": "display_data"
    }
   ],
   "source": [
    "# 가로방향의 bar plot그리기\n",
    "s2.plot(kind='barh')"
   ]
  },
  {
   "cell_type": "code",
   "execution_count": 150,
   "metadata": {},
   "outputs": [
    {
     "data": {
      "text/html": [
       "<div>\n",
       "<style scoped>\n",
       "    .dataframe tbody tr th:only-of-type {\n",
       "        vertical-align: middle;\n",
       "    }\n",
       "\n",
       "    .dataframe tbody tr th {\n",
       "        vertical-align: top;\n",
       "    }\n",
       "\n",
       "    .dataframe thead th {\n",
       "        text-align: right;\n",
       "    }\n",
       "</style>\n",
       "<table border=\"1\" class=\"dataframe\">\n",
       "  <thead>\n",
       "    <tr style=\"text-align: right;\">\n",
       "      <th>Genus</th>\n",
       "      <th>A</th>\n",
       "      <th>B</th>\n",
       "      <th>C</th>\n",
       "      <th>D</th>\n",
       "    </tr>\n",
       "  </thead>\n",
       "  <tbody>\n",
       "    <tr>\n",
       "      <th>one</th>\n",
       "      <td>0.379546</td>\n",
       "      <td>0.574934</td>\n",
       "      <td>0.180504</td>\n",
       "      <td>0.718622</td>\n",
       "    </tr>\n",
       "    <tr>\n",
       "      <th>two</th>\n",
       "      <td>0.665321</td>\n",
       "      <td>0.686780</td>\n",
       "      <td>0.052954</td>\n",
       "      <td>0.219303</td>\n",
       "    </tr>\n",
       "    <tr>\n",
       "      <th>three</th>\n",
       "      <td>0.881535</td>\n",
       "      <td>0.817415</td>\n",
       "      <td>0.751034</td>\n",
       "      <td>0.793528</td>\n",
       "    </tr>\n",
       "    <tr>\n",
       "      <th>four</th>\n",
       "      <td>0.937647</td>\n",
       "      <td>0.211747</td>\n",
       "      <td>0.644279</td>\n",
       "      <td>0.646442</td>\n",
       "    </tr>\n",
       "    <tr>\n",
       "      <th>five</th>\n",
       "      <td>0.850156</td>\n",
       "      <td>0.023171</td>\n",
       "      <td>0.201008</td>\n",
       "      <td>0.192774</td>\n",
       "    </tr>\n",
       "    <tr>\n",
       "      <th>six</th>\n",
       "      <td>0.349686</td>\n",
       "      <td>0.138709</td>\n",
       "      <td>0.416319</td>\n",
       "      <td>0.305256</td>\n",
       "    </tr>\n",
       "  </tbody>\n",
       "</table>\n",
       "</div>"
      ],
      "text/plain": [
       "Genus         A         B         C         D\n",
       "one    0.379546  0.574934  0.180504  0.718622\n",
       "two    0.665321  0.686780  0.052954  0.219303\n",
       "three  0.881535  0.817415  0.751034  0.793528\n",
       "four   0.937647  0.211747  0.644279  0.646442\n",
       "five   0.850156  0.023171  0.201008  0.192774\n",
       "six    0.349686  0.138709  0.416319  0.305256"
      ]
     },
     "execution_count": 150,
     "metadata": {},
     "output_type": "execute_result"
    }
   ],
   "source": [
    "df2 = pd.DataFrame(np.random.rand(6, 4), \n",
    "                   index=[\"one\", \"two\", \"three\", \"four\", \"five\", \"six\"],\n",
    "                   columns=pd.Index([\"A\", \"B\", \"C\", \"D\"], name=\"Genus\"))\n",
    "df2"
   ]
  },
  {
   "cell_type": "code",
   "execution_count": 151,
   "metadata": {},
   "outputs": [
    {
     "data": {
      "text/plain": [
       "<matplotlib.axes._subplots.AxesSubplot at 0x28001c101f0>"
      ]
     },
     "execution_count": 151,
     "metadata": {},
     "output_type": "execute_result"
    },
    {
     "data": {
      "image/png": "[encoded data removed]",
      "text/plain": [
       "<Figure size 432x288 with 1 Axes>"
      ]
     },
     "metadata": {
      "needs_background": "light"
     },
     "output_type": "display_data"
    }
   ],
   "source": [
    "df2.plot(kind='bar')"
   ]
  },
  {
   "cell_type": "code",
   "execution_count": 152,
   "metadata": {},
   "outputs": [
    {
     "data": {
      "text/plain": [
       "<matplotlib.axes._subplots.AxesSubplot at 0x2800249e7c0>"
      ]
     },
     "execution_count": 152,
     "metadata": {},
     "output_type": "execute_result"
    },
    {
     "data": {
      "image/png": "[encoded data removed]",
      "text/plain": [
       "<Figure size 432x288 with 1 Axes>"
      ]
     },
     "metadata": {
      "needs_background": "light"
     },
     "output_type": "display_data"
    }
   ],
   "source": [
    "df2.plot(kind='barh', stacked=True)\n",
    "# stacked 속성을 true로 설정하면, 각 열의 값을 한줄로 쌓아서 나타내준다."
   ]
  },
  {
   "cell_type": "code",
   "execution_count": 153,
   "metadata": {},
   "outputs": [
    {
     "data": {
      "text/plain": [
       "0     -0.314595\n",
       "1     -0.199643\n",
       "2      0.510643\n",
       "3      1.229394\n",
       "4      0.642337\n",
       "         ...   \n",
       "195   -0.584590\n",
       "196    0.322475\n",
       "197    0.706048\n",
       "198   -0.288560\n",
       "199   -0.631062\n",
       "Length: 200, dtype: float64"
      ]
     },
     "execution_count": 153,
     "metadata": {},
     "output_type": "execute_result"
    }
   ],
   "source": [
    "# histogram은 index가 필요없다.\n",
    "s3 = pd.Series(np.random.normal(0, 1, size=200))\n",
    "s3"
   ]
  },
  {
   "cell_type": "code",
   "execution_count": 154,
   "metadata": {},
   "outputs": [
    {
     "data": {
      "text/plain": [
       "<matplotlib.axes._subplots.AxesSubplot at 0x280025245e0>"
      ]
     },
     "execution_count": 154,
     "metadata": {},
     "output_type": "execute_result"
    },
    {
     "data": {
      "image/png": "[encoded data removed]",
      "text/plain": [
       "<Figure size 432x288 with 1 Axes>"
      ]
     },
     "metadata": {
      "needs_background": "light"
     },
     "output_type": "display_data"
    }
   ],
   "source": [
    "s3.hist()"
   ]
  },
  {
   "cell_type": "code",
   "execution_count": 150,
   "metadata": {},
   "outputs": [
    {
     "data": {
      "text/plain": [
       "<matplotlib.axes._subplots.AxesSubplot at 0x1a2a1a7d790>"
      ]
     },
     "execution_count": 150,
     "metadata": {},
     "output_type": "execute_result"
    },
    {
     "data": {
      "image/png": "[encoded data removed]",
      "text/plain": [
       "<Figure size 432x288 with 1 Axes>"
      ]
     },
     "metadata": {
      "needs_background": "light"
     },
     "output_type": "display_data"
    }
   ],
   "source": [
    "s3.hist(bins=50)\n",
    "# x축 구간 갯수를 bin이라고 하는데, 이는 직접 설정할 수 있다."
   ]
  },
  {
   "cell_type": "markdown",
   "metadata": {},
   "source": [
    "---"
   ]
  },
  {
   "cell_type": "markdown",
   "metadata": {},
   "source": [
    "[contents index]\n",
    "1. [키와 몸무게의 상관 관계](#1)   \n",
    "2. [실습: 보스톤 집값 예측 모델](#2)  \n",
    "3. [Multiple Regression](#3)\n",
    "4. [실습: winearoma 데이터셋](#4)\n",
    "5. [데이터 시각화](#5)\n",
    "6. [Train test set split and evaluation](#6)\n",
    "7. [실습: winearoma 데이터셋에 대해 train과 test 에러 계산하기](#7)   \n",
    "8. [Cross validation 이용](#8)"
   ]
  },
  {
   "cell_type": "markdown",
   "metadata": {},
   "source": [
    "<a id= '6'></a>"
   ]
  },
  {
   "cell_type": "markdown",
   "metadata": {},
   "source": [
    "## [Train test split and evaluation](#0)"
   ]
  },
  {
   "cell_type": "markdown",
   "metadata": {},
   "source": [
    "![ex_screenshot](./ee.png)"
   ]
  },
  {
   "cell_type": "code",
   "execution_count": 156,
   "metadata": {},
   "outputs": [],
   "source": [
    "from sklearn.model_selection import train_test_split"
   ]
  },
  {
   "cell_type": "markdown",
   "metadata": {},
   "source": [
    "### 지금까지 해왔던 방법"
   ]
  },
  {
   "cell_type": "code",
   "execution_count": 157,
   "metadata": {
    "scrolled": true
   },
   "outputs": [
    {
     "data": {
      "text/html": [
       "<div>\n",
       "<style scoped>\n",
       "    .dataframe tbody tr th:only-of-type {\n",
       "        vertical-align: middle;\n",
       "    }\n",
       "\n",
       "    .dataframe tbody tr th {\n",
       "        vertical-align: top;\n",
       "    }\n",
       "\n",
       "    .dataframe thead th {\n",
       "        text-align: right;\n",
       "    }\n",
       "</style>\n",
       "<table border=\"1\" class=\"dataframe\">\n",
       "  <thead>\n",
       "    <tr style=\"text-align: right;\">\n",
       "      <th></th>\n",
       "      <th>time</th>\n",
       "      <th>generation biomass</th>\n",
       "      <th>generation fossil brown coal/lignite</th>\n",
       "      <th>generation fossil coal-derived gas</th>\n",
       "      <th>generation fossil gas</th>\n",
       "      <th>generation fossil hard coal</th>\n",
       "      <th>generation fossil oil</th>\n",
       "      <th>generation fossil oil shale</th>\n",
       "      <th>generation fossil peat</th>\n",
       "      <th>generation geothermal</th>\n",
       "      <th>...</th>\n",
       "      <th>generation solar</th>\n",
       "      <th>generation waste</th>\n",
       "      <th>generation wind offshore</th>\n",
       "      <th>generation wind onshore</th>\n",
       "      <th>forecast solar day ahead</th>\n",
       "      <th>forecast wind onshore day ahead</th>\n",
       "      <th>total load forecast</th>\n",
       "      <th>total load actual</th>\n",
       "      <th>price day ahead</th>\n",
       "      <th>price actual</th>\n",
       "    </tr>\n",
       "  </thead>\n",
       "  <tbody>\n",
       "    <tr>\n",
       "      <th>0</th>\n",
       "      <td>2015-01-01 00:00:00+01:00</td>\n",
       "      <td>447.0</td>\n",
       "      <td>329.0</td>\n",
       "      <td>0.0</td>\n",
       "      <td>4844.0</td>\n",
       "      <td>4821.0</td>\n",
       "      <td>162.0</td>\n",
       "      <td>0.0</td>\n",
       "      <td>0.0</td>\n",
       "      <td>0.0</td>\n",
       "      <td>...</td>\n",
       "      <td>49.0</td>\n",
       "      <td>196.0</td>\n",
       "      <td>0.0</td>\n",
       "      <td>6378.0</td>\n",
       "      <td>17.0</td>\n",
       "      <td>6436.0</td>\n",
       "      <td>26118.0</td>\n",
       "      <td>25385.0</td>\n",
       "      <td>50.10</td>\n",
       "      <td>65.41</td>\n",
       "    </tr>\n",
       "    <tr>\n",
       "      <th>1</th>\n",
       "      <td>2015-01-01 01:00:00+01:00</td>\n",
       "      <td>449.0</td>\n",
       "      <td>328.0</td>\n",
       "      <td>0.0</td>\n",
       "      <td>5196.0</td>\n",
       "      <td>4755.0</td>\n",
       "      <td>158.0</td>\n",
       "      <td>0.0</td>\n",
       "      <td>0.0</td>\n",
       "      <td>0.0</td>\n",
       "      <td>...</td>\n",
       "      <td>50.0</td>\n",
       "      <td>195.0</td>\n",
       "      <td>0.0</td>\n",
       "      <td>5890.0</td>\n",
       "      <td>16.0</td>\n",
       "      <td>5856.0</td>\n",
       "      <td>24934.0</td>\n",
       "      <td>24382.0</td>\n",
       "      <td>48.10</td>\n",
       "      <td>64.92</td>\n",
       "    </tr>\n",
       "    <tr>\n",
       "      <th>2</th>\n",
       "      <td>2015-01-01 02:00:00+01:00</td>\n",
       "      <td>448.0</td>\n",
       "      <td>323.0</td>\n",
       "      <td>0.0</td>\n",
       "      <td>4857.0</td>\n",
       "      <td>4581.0</td>\n",
       "      <td>157.0</td>\n",
       "      <td>0.0</td>\n",
       "      <td>0.0</td>\n",
       "      <td>0.0</td>\n",
       "      <td>...</td>\n",
       "      <td>50.0</td>\n",
       "      <td>196.0</td>\n",
       "      <td>0.0</td>\n",
       "      <td>5461.0</td>\n",
       "      <td>8.0</td>\n",
       "      <td>5454.0</td>\n",
       "      <td>23515.0</td>\n",
       "      <td>22734.0</td>\n",
       "      <td>47.33</td>\n",
       "      <td>64.48</td>\n",
       "    </tr>\n",
       "    <tr>\n",
       "      <th>3</th>\n",
       "      <td>2015-01-01 03:00:00+01:00</td>\n",
       "      <td>438.0</td>\n",
       "      <td>254.0</td>\n",
       "      <td>0.0</td>\n",
       "      <td>4314.0</td>\n",
       "      <td>4131.0</td>\n",
       "      <td>160.0</td>\n",
       "      <td>0.0</td>\n",
       "      <td>0.0</td>\n",
       "      <td>0.0</td>\n",
       "      <td>...</td>\n",
       "      <td>50.0</td>\n",
       "      <td>191.0</td>\n",
       "      <td>0.0</td>\n",
       "      <td>5238.0</td>\n",
       "      <td>2.0</td>\n",
       "      <td>5151.0</td>\n",
       "      <td>22642.0</td>\n",
       "      <td>21286.0</td>\n",
       "      <td>42.27</td>\n",
       "      <td>59.32</td>\n",
       "    </tr>\n",
       "    <tr>\n",
       "      <th>4</th>\n",
       "      <td>2015-01-01 04:00:00+01:00</td>\n",
       "      <td>428.0</td>\n",
       "      <td>187.0</td>\n",
       "      <td>0.0</td>\n",
       "      <td>4130.0</td>\n",
       "      <td>3840.0</td>\n",
       "      <td>156.0</td>\n",
       "      <td>0.0</td>\n",
       "      <td>0.0</td>\n",
       "      <td>0.0</td>\n",
       "      <td>...</td>\n",
       "      <td>42.0</td>\n",
       "      <td>189.0</td>\n",
       "      <td>0.0</td>\n",
       "      <td>4935.0</td>\n",
       "      <td>9.0</td>\n",
       "      <td>4861.0</td>\n",
       "      <td>21785.0</td>\n",
       "      <td>20264.0</td>\n",
       "      <td>38.41</td>\n",
       "      <td>56.04</td>\n",
       "    </tr>\n",
       "  </tbody>\n",
       "</table>\n",
       "<p>5 rows × 27 columns</p>\n",
       "</div>"
      ],
      "text/plain": [
       "                        time  generation biomass  \\\n",
       "0  2015-01-01 00:00:00+01:00               447.0   \n",
       "1  2015-01-01 01:00:00+01:00               449.0   \n",
       "2  2015-01-01 02:00:00+01:00               448.0   \n",
       "3  2015-01-01 03:00:00+01:00               438.0   \n",
       "4  2015-01-01 04:00:00+01:00               428.0   \n",
       "\n",
       "   generation fossil brown coal/lignite  generation fossil coal-derived gas  \\\n",
       "0                                 329.0                                 0.0   \n",
       "1                                 328.0                                 0.0   \n",
       "2                                 323.0                                 0.0   \n",
       "3                                 254.0                                 0.0   \n",
       "4                                 187.0                                 0.0   \n",
       "\n",
       "   generation fossil gas  generation fossil hard coal  generation fossil oil  \\\n",
       "0                 4844.0                       4821.0                  162.0   \n",
       "1                 5196.0                       4755.0                  158.0   \n",
       "2                 4857.0                       4581.0                  157.0   \n",
       "3                 4314.0                       4131.0                  160.0   \n",
       "4                 4130.0                       3840.0                  156.0   \n",
       "\n",
       "   generation fossil oil shale  generation fossil peat  generation geothermal  \\\n",
       "0                          0.0                     0.0                    0.0   \n",
       "1                          0.0                     0.0                    0.0   \n",
       "2                          0.0                     0.0                    0.0   \n",
       "3                          0.0                     0.0                    0.0   \n",
       "4                          0.0                     0.0                    0.0   \n",
       "\n",
       "   ...  generation solar  generation waste  generation wind offshore  \\\n",
       "0  ...              49.0             196.0                       0.0   \n",
       "1  ...              50.0             195.0                       0.0   \n",
       "2  ...              50.0             196.0                       0.0   \n",
       "3  ...              50.0             191.0                       0.0   \n",
       "4  ...              42.0             189.0                       0.0   \n",
       "\n",
       "   generation wind onshore  forecast solar day ahead  \\\n",
       "0                   6378.0                      17.0   \n",
       "1                   5890.0                      16.0   \n",
       "2                   5461.0                       8.0   \n",
       "3                   5238.0                       2.0   \n",
       "4                   4935.0                       9.0   \n",
       "\n",
       "   forecast wind onshore day ahead  total load forecast  total load actual  \\\n",
       "0                           6436.0              26118.0            25385.0   \n",
       "1                           5856.0              24934.0            24382.0   \n",
       "2                           5454.0              23515.0            22734.0   \n",
       "3                           5151.0              22642.0            21286.0   \n",
       "4                           4861.0              21785.0            20264.0   \n",
       "\n",
       "   price day ahead  price actual  \n",
       "0            50.10         65.41  \n",
       "1            48.10         64.92  \n",
       "2            47.33         64.48  \n",
       "3            42.27         59.32  \n",
       "4            38.41         56.04  \n",
       "\n",
       "[5 rows x 27 columns]"
      ]
     },
     "execution_count": 157,
     "metadata": {},
     "output_type": "execute_result"
    }
   ],
   "source": [
    "df = pd.read_csv('energy_dataset.csv')\n",
    "df.drop(columns=['generation hydro pumped storage aggregated', 'forecast wind offshore eday ahead'], inplace=True)\n",
    "df.dropna(inplace=True)\n",
    "df.head()"
   ]
  },
  {
   "cell_type": "code",
   "execution_count": 158,
   "metadata": {},
   "outputs": [
    {
     "name": "stdout",
     "output_type": "stream",
     "text": [
      "35017\n"
     ]
    }
   ],
   "source": [
    "Num_obs = df.shape[0]\n",
    "print(Num_obs)"
   ]
  },
  {
   "cell_type": "code",
   "execution_count": 159,
   "metadata": {},
   "outputs": [],
   "source": [
    "Input = df.loc[:,'generation biomass':'generation wind onshore'] # 20개 컬럼 데이터\n",
    "Output =  df.loc[:,'price actual']"
   ]
  },
  {
   "cell_type": "code",
   "execution_count": 160,
   "metadata": {},
   "outputs": [],
   "source": [
    "# pandas -> numpy\n",
    "Input_np = Input.values\n",
    "Output_np = Output.values"
   ]
  },
  {
   "cell_type": "code",
   "execution_count": 161,
   "metadata": {},
   "outputs": [],
   "source": [
    "lr2= LinearRegression()\n",
    "lr2.fit(Input_np, Output_np)\n",
    "\n",
    "Output_np_hat = lr2.predict(Input_np)"
   ]
  },
  {
   "cell_type": "code",
   "execution_count": 162,
   "metadata": {},
   "outputs": [
    {
     "name": "stdout",
     "output_type": "stream",
     "text": [
      "                                             coefficients\n",
      "generation biomass                           2.725536e-02\n",
      "generation fossil brown coal/lignite        -1.670623e-05\n",
      "generation fossil coal-derived gas          -1.301043e-16\n",
      "generation fossil gas                        1.279630e-03\n",
      "generation fossil hard coal                  2.195000e-03\n",
      "generation fossil oil                       -1.075096e-02\n",
      "generation fossil oil shale                 -1.873501e-16\n",
      "generation fossil peat                      -2.142383e-16\n",
      "generation geothermal                       -2.879641e-16\n",
      "generation hydro pumped storage consumption -3.080578e-03\n",
      "generation hydro run-of-river and poundage   1.502720e-03\n",
      "generation hydro water reservoir             4.320323e-04\n",
      "generation marine                            0.000000e+00\n",
      "generation nuclear                           1.373705e-04\n",
      "generation other                             4.362673e-02\n",
      "generation other renewable                   3.047274e-01\n",
      "generation solar                             3.431860e-04\n",
      "generation waste                            -1.033970e-02\n",
      "generation wind offshore                     0.000000e+00\n",
      "generation wind onshore                      4.311884e-04\n",
      "\n"
     ]
    },
    {
     "data": {
      "image/png": "[encoded data removed]",
      "text/plain": [
       "<Figure size 432x288 with 1 Axes>"
      ]
     },
     "metadata": {
      "needs_background": "light"
     },
     "output_type": "display_data"
    },
    {
     "name": "stdout",
     "output_type": "stream",
     "text": [
      "절편: 3.3418\n",
      "R^2: 0.3763\n",
      "MSE: 125.5828\n"
     ]
    }
   ],
   "source": [
    "print_summary(lr2, Input_np, Output_np, Input.columns, plot= True)"
   ]
  },
  {
   "cell_type": "markdown",
   "metadata": {},
   "source": [
    "### 문제점?\n",
    "- 그래서 모델이 unseen data에 대해서도 잘 설명할 것인지?\n",
    "$\\to$ train test split!"
   ]
  },
  {
   "cell_type": "code",
   "execution_count": 166,
   "metadata": {},
   "outputs": [],
   "source": [
    "# train: test = 8:2 \n",
    "X_train, X_test, y_train, y_test = train_test_split(Input_np,\n",
    "                                                    Output_np,\n",
    "                                                    test_size=0.2,\n",
    "                                                    random_state=1004)"
   ]
  },
  {
   "cell_type": "code",
   "execution_count": 168,
   "metadata": {},
   "outputs": [
    {
     "name": "stdout",
     "output_type": "stream",
     "text": [
      "X_train shape: (28013, 20)\n",
      "X_test shape: (7004, 20)\n",
      "y_train shape: (28013,)\n",
      "y_test shape: (7004,)\n"
     ]
    }
   ],
   "source": [
    "print('X_train shape:', X_train.shape)\n",
    "print('X_test shape:', X_test.shape)\n",
    "print('y_train shape:', y_train.shape)\n",
    "print('y_test shape:', y_test.shape)"
   ]
  },
  {
   "cell_type": "code",
   "execution_count": 177,
   "metadata": {},
   "outputs": [
    {
     "name": "stdout",
     "output_type": "stream",
     "text": [
      "train셋 MSE:  0.1298420760382137\n",
      "train셋 R^2:  0.8981976126558769\n",
      "******************************\n",
      "test셋 MSE:  0.8601472477653614\n"
     ]
    }
   ],
   "source": [
    "# train set만을 이용해서 모형 학습\n",
    "lr2= LinearRegression()\n",
    "lr2.fit(X_train, y_train)\n",
    "# train set에서의 성능\n",
    "y_train_hat = lr2.predict(X_train)\n",
    "print('train셋 MSE: ', mean_squared_error(y_train,y_train_hat))\n",
    "print('train셋 R^2: ', lr2.score(X_train, y_train))\n",
    "# test set에서의 성능\n",
    "y_test_hat = lr2.predict(X_test)\n",
    "print('*' *30)\n",
    "print('test셋 MSE: ', mean_squared_error(y_test,y_test_hat))"
   ]
  },
  {
   "cell_type": "markdown",
   "metadata": {},
   "source": [
    "[contents index]\n",
    "1. [키와 몸무게의 상관 관계](#1)   \n",
    "2. [실습: 보스톤 집값 예측 모델](#2)  \n",
    "3. [Multiple Regression](#3)\n",
    "4. [실습: winearoma 데이터셋](#4)\n",
    "5. [데이터 시각화](#5)\n",
    "6. [Train test set split and evaluation](#6)\n",
    "7. [실습: winearoma 데이터셋에 대해 train과 test 에러 계산하기](#7)   \n",
    "8. [Cross validation 이용](#8)"
   ]
  },
  {
   "cell_type": "markdown",
   "metadata": {},
   "source": [
    "---"
   ]
  },
  {
   "cell_type": "markdown",
   "metadata": {},
   "source": [
    "<a id= '7'></a>"
   ]
  },
  {
   "cell_type": "markdown",
   "metadata": {},
   "source": [
    "## [실습 - winearoma 데이터셋에 대해서 train과 test set 에러를 계산하기](#0)\n",
    "\n",
    "test set: 0.3"
   ]
  },
  {
   "cell_type": "code",
   "execution_count": 173,
   "metadata": {},
   "outputs": [],
   "source": [
    "# x데이터: Input_wine\n",
    "# y데이터: Output_wine\n",
    "try:\n",
    "    X_train, X_test, y_train, y_test = train_test_split(Input_wine,\n",
    "                                                       Output_wine,\n",
    "                                                       test_size=0.3,\n",
    "                                                       random_state=1004) # train 과 test의 비율을 7:3으로 데이터를 나눠주세요\n",
    "except:\n",
    "    print('train 과 test의 비율을 7:3으로 데이터를 나눠주세요')"
   ]
  },
  {
   "cell_type": "code",
   "execution_count": 174,
   "metadata": {},
   "outputs": [
    {
     "name": "stdout",
     "output_type": "stream",
     "text": [
      "X_train shape: (17, 9)\n",
      "X_test shape: (8, 9)\n",
      "y_train shape: (17,)\n",
      "y_test shape: (8,)\n"
     ]
    }
   ],
   "source": [
    "print('X_train shape:', X_train.shape)\n",
    "print('X_test shape:', X_test.shape)\n",
    "print('y_train shape:', y_train.shape)\n",
    "print('y_test shape:', y_test.shape)"
   ]
  },
  {
   "cell_type": "code",
   "execution_count": 176,
   "metadata": {
    "scrolled": true
   },
   "outputs": [
    {
     "name": "stdout",
     "output_type": "stream",
     "text": [
      "train셋 MSE:  0.1298420760382137\n",
      "train셋 R^2:  0.8981976126558769\n",
      "******************************\n",
      "test셋 MSE:  0.8601472477653614\n"
     ]
    }
   ],
   "source": [
    "try:\n",
    "    # train set만을 이용해서 아래 'rl'을 학습시켜주세요\n",
    "    rl= LinearRegression()\n",
    "    rl.fit(X_train,y_train)\n",
    "    # hint: ?.fit(?,?)\n",
    "except:\n",
    "    print('train set만을 이용해서 모형 학습시켜주세요.')    \n",
    "# train set에서의 성능 확인\n",
    "y_train_hat = rl.predict(X_train)\n",
    "print('train셋 MSE: ', mean_squared_error(y_train,y_train_hat))\n",
    "print('train셋 R^2: ', rl.score(X_train, y_train))\n",
    "# test set에서의 성능\n",
    "y_test_hat = rl.predict(X_test)\n",
    "print('*' *30)\n",
    "print('test셋 MSE: ', mean_squared_error(y_test,y_test_hat))\n"
   ]
  },
  {
   "cell_type": "markdown",
   "metadata": {},
   "source": [
    "![ex_screenshot](./train,test.png)"
   ]
  },
  {
   "cell_type": "markdown",
   "metadata": {},
   "source": [
    "[contents index]\n",
    "1. [키와 몸무게의 상관 관계](#1)   \n",
    "2. [실습: 보스톤 집값 예측 모델](#2)  \n",
    "3. [Multiple Regression](#3)\n",
    "4. [실습: winearoma 데이터셋](#4)\n",
    "5. [데이터 시각화](#5)\n",
    "6. [Train test set split and evaluation](#6)\n",
    "7. [실습: winearoma 데이터셋에 대해 train과 test 에러 계산하기](#7)   \n",
    "8. [Cross validation 이용](#8)"
   ]
  },
  {
   "cell_type": "markdown",
   "metadata": {},
   "source": [
    "---"
   ]
  },
  {
   "cell_type": "markdown",
   "metadata": {},
   "source": [
    "<a id= '8'></a>"
   ]
  },
  {
   "cell_type": "markdown",
   "metadata": {},
   "source": [
    "## [Cross validation 이용](#0)"
   ]
  },
  {
   "cell_type": "markdown",
   "metadata": {},
   "source": [
    "![ex_screenshot](./dd.png)"
   ]
  },
  {
   "cell_type": "code",
   "execution_count": 181,
   "metadata": {},
   "outputs": [],
   "source": [
    "from sklearn.model_selection import KFold"
   ]
  },
  {
   "cell_type": "code",
   "execution_count": 182,
   "metadata": {},
   "outputs": [
    {
     "name": "stdout",
     "output_type": "stream",
     "text": [
      "fold: 0\n",
      "idx train: [2 3 4 5 6 7 8 9] idx test: [0 1]\n",
      "fold: 1\n",
      "idx train: [0 1 4 5 6 7 8 9] idx test: [2 3]\n",
      "fold: 2\n",
      "idx train: [0 1 2 3 6 7 8 9] idx test: [4 5]\n",
      "fold: 3\n",
      "idx train: [0 1 2 3 4 5 8 9] idx test: [6 7]\n",
      "fold: 4\n",
      "idx train: [0 1 2 3 4 5 6 7] idx test: [8 9]\n"
     ]
    }
   ],
   "source": [
    "# cross validation 예제\n",
    "#mse값이 비슷한지도 중요함\n",
    "idx = np.arange(10)\n",
    "kf2 = KFold(n_splits=5, shuffle=False)\n",
    "for fold,(idx_train, idx_test) in enumerate(kf2.split(idx)):\n",
    "    print('fold:',fold)\n",
    "    print(\"idx train:\",idx_train, \"idx test:\",idx_test)\n",
    "    "
   ]
  },
  {
   "cell_type": "code",
   "execution_count": 183,
   "metadata": {},
   "outputs": [],
   "source": [
    "from sklearn.model_selection import cross_val_score"
   ]
  },
  {
   "cell_type": "code",
   "execution_count": 184,
   "metadata": {},
   "outputs": [
    {
     "data": {
      "text/plain": [
       "\u001b[1;31mSignature:\u001b[0m\n",
       "\u001b[0mcross_val_score\u001b[0m\u001b[1;33m(\u001b[0m\u001b[1;33m\n",
       "\u001b[0m    \u001b[0mestimator\u001b[0m\u001b[1;33m,\u001b[0m\u001b[1;33m\n",
       "\u001b[0m    \u001b[0mX\u001b[0m\u001b[1;33m,\u001b[0m\u001b[1;33m\n",
       "\u001b[0m    \u001b[0my\u001b[0m\u001b[1;33m=\u001b[0m\u001b[1;32mNone\u001b[0m\u001b[1;33m,\u001b[0m\u001b[1;33m\n",
       "\u001b[0m    \u001b[1;33m*\u001b[0m\u001b[1;33m,\u001b[0m\u001b[1;33m\n",
       "\u001b[0m    \u001b[0mgroups\u001b[0m\u001b[1;33m=\u001b[0m\u001b[1;32mNone\u001b[0m\u001b[1;33m,\u001b[0m\u001b[1;33m\n",
       "\u001b[0m    \u001b[0mscoring\u001b[0m\u001b[1;33m=\u001b[0m\u001b[1;32mNone\u001b[0m\u001b[1;33m,\u001b[0m\u001b[1;33m\n",
       "\u001b[0m    \u001b[0mcv\u001b[0m\u001b[1;33m=\u001b[0m\u001b[1;32mNone\u001b[0m\u001b[1;33m,\u001b[0m\u001b[1;33m\n",
       "\u001b[0m    \u001b[0mn_jobs\u001b[0m\u001b[1;33m=\u001b[0m\u001b[1;32mNone\u001b[0m\u001b[1;33m,\u001b[0m\u001b[1;33m\n",
       "\u001b[0m    \u001b[0mverbose\u001b[0m\u001b[1;33m=\u001b[0m\u001b[1;36m0\u001b[0m\u001b[1;33m,\u001b[0m\u001b[1;33m\n",
       "\u001b[0m    \u001b[0mfit_params\u001b[0m\u001b[1;33m=\u001b[0m\u001b[1;32mNone\u001b[0m\u001b[1;33m,\u001b[0m\u001b[1;33m\n",
       "\u001b[0m    \u001b[0mpre_dispatch\u001b[0m\u001b[1;33m=\u001b[0m\u001b[1;34m'2*n_jobs'\u001b[0m\u001b[1;33m,\u001b[0m\u001b[1;33m\n",
       "\u001b[0m    \u001b[0merror_score\u001b[0m\u001b[1;33m=\u001b[0m\u001b[0mnan\u001b[0m\u001b[1;33m,\u001b[0m\u001b[1;33m\n",
       "\u001b[0m\u001b[1;33m)\u001b[0m\u001b[1;33m\u001b[0m\u001b[1;33m\u001b[0m\u001b[0m\n",
       "\u001b[1;31mDocstring:\u001b[0m\n",
       "Evaluate a score by cross-validation\n",
       "\n",
       "Read more in the :ref:`User Guide <cross_validation>`.\n",
       "\n",
       "Parameters\n",
       "----------\n",
       "estimator : estimator object implementing 'fit'\n",
       "    The object to use to fit the data.\n",
       "\n",
       "X : array-like of shape (n_samples, n_features)\n",
       "    The data to fit. Can be for example a list, or an array.\n",
       "\n",
       "y : array-like of shape (n_samples,) or (n_samples, n_outputs),             default=None\n",
       "    The target variable to try to predict in the case of\n",
       "    supervised learning.\n",
       "\n",
       "groups : array-like of shape (n_samples,), default=None\n",
       "    Group labels for the samples used while splitting the dataset into\n",
       "    train/test set. Only used in conjunction with a \"Group\" :term:`cv`\n",
       "    instance (e.g., :class:`GroupKFold`).\n",
       "\n",
       "scoring : str or callable, default=None\n",
       "    A str (see model evaluation documentation) or\n",
       "    a scorer callable object / function with signature\n",
       "    ``scorer(estimator, X, y)`` which should return only\n",
       "    a single value.\n",
       "\n",
       "    Similar to :func:`cross_validate`\n",
       "    but only a single metric is permitted.\n",
       "\n",
       "    If None, the estimator's default scorer (if available) is used.\n",
       "\n",
       "cv : int, cross-validation generator or an iterable, default=None\n",
       "    Determines the cross-validation splitting strategy.\n",
       "    Possible inputs for cv are:\n",
       "\n",
       "    - None, to use the default 5-fold cross validation,\n",
       "    - int, to specify the number of folds in a `(Stratified)KFold`,\n",
       "    - :term:`CV splitter`,\n",
       "    - An iterable yielding (train, test) splits as arrays of indices.\n",
       "\n",
       "    For int/None inputs, if the estimator is a classifier and ``y`` is\n",
       "    either binary or multiclass, :class:`StratifiedKFold` is used. In all\n",
       "    other cases, :class:`KFold` is used.\n",
       "\n",
       "    Refer :ref:`User Guide <cross_validation>` for the various\n",
       "    cross-validation strategies that can be used here.\n",
       "\n",
       "    .. versionchanged:: 0.22\n",
       "        ``cv`` default value if None changed from 3-fold to 5-fold.\n",
       "\n",
       "n_jobs : int, default=None\n",
       "    The number of CPUs to use to do the computation.\n",
       "    ``None`` means 1 unless in a :obj:`joblib.parallel_backend` context.\n",
       "    ``-1`` means using all processors. See :term:`Glossary <n_jobs>`\n",
       "    for more details.\n",
       "\n",
       "verbose : int, default=0\n",
       "    The verbosity level.\n",
       "\n",
       "fit_params : dict, default=None\n",
       "    Parameters to pass to the fit method of the estimator.\n",
       "\n",
       "pre_dispatch : int or str, default='2*n_jobs'\n",
       "    Controls the number of jobs that get dispatched during parallel\n",
       "    execution. Reducing this number can be useful to avoid an\n",
       "    explosion of memory consumption when more jobs get dispatched\n",
       "    than CPUs can process. This parameter can be:\n",
       "\n",
       "        - None, in which case all the jobs are immediately\n",
       "          created and spawned. Use this for lightweight and\n",
       "          fast-running jobs, to avoid delays due to on-demand\n",
       "          spawning of the jobs\n",
       "\n",
       "        - An int, giving the exact number of total jobs that are\n",
       "          spawned\n",
       "\n",
       "        - A str, giving an expression as a function of n_jobs,\n",
       "          as in '2*n_jobs'\n",
       "\n",
       "error_score : 'raise' or numeric, default=np.nan\n",
       "    Value to assign to the score if an error occurs in estimator fitting.\n",
       "    If set to 'raise', the error is raised.\n",
       "    If a numeric value is given, FitFailedWarning is raised. This parameter\n",
       "    does not affect the refit step, which will always raise the error.\n",
       "\n",
       "    .. versionadded:: 0.20\n",
       "\n",
       "Returns\n",
       "-------\n",
       "scores : array of float, shape=(len(list(cv)),)\n",
       "    Array of scores of the estimator for each run of the cross validation.\n",
       "\n",
       "Examples\n",
       "--------\n",
       ">>> from sklearn import datasets, linear_model\n",
       ">>> from sklearn.model_selection import cross_val_score\n",
       ">>> diabetes = datasets.load_diabetes()\n",
       ">>> X = diabetes.data[:150]\n",
       ">>> y = diabetes.target[:150]\n",
       ">>> lasso = linear_model.Lasso()\n",
       ">>> print(cross_val_score(lasso, X, y, cv=3))\n",
       "[0.33150734 0.08022311 0.03531764]\n",
       "\n",
       "See Also\n",
       "---------\n",
       ":func:`sklearn.model_selection.cross_validate`:\n",
       "    To run cross-validation on multiple metrics and also to return\n",
       "    train scores, fit times and score times.\n",
       "\n",
       ":func:`sklearn.model_selection.cross_val_predict`:\n",
       "    Get predictions from each split of cross-validation for diagnostic\n",
       "    purposes.\n",
       "\n",
       ":func:`sklearn.metrics.make_scorer`:\n",
       "    Make a scorer from a performance metric or loss function.\n",
       "\u001b[1;31mFile:\u001b[0m      c:\\programdata\\anaconda3\\lib\\site-packages\\sklearn\\model_selection\\_validation.py\n",
       "\u001b[1;31mType:\u001b[0m      function\n"
      ]
     },
     "metadata": {},
     "output_type": "display_data"
    }
   ],
   "source": [
    "?cross_val_score"
   ]
  },
  {
   "cell_type": "code",
   "execution_count": 185,
   "metadata": {},
   "outputs": [
    {
     "name": "stdout",
     "output_type": "stream",
     "text": [
      "cross validation score:  [-212.99344336 -347.39875488 -130.18307675  -97.00602282 -189.28840681]\n",
      "cross validataion average score:  -195.37394092623248\n"
     ]
    }
   ],
   "source": [
    "score = cross_val_score(rl, Input_np, Output_np, cv=5 , scoring='neg_mean_squared_error')\n",
    "print('cross validation score: ', score)\n",
    "print('cross validataion average score: ', score.mean())"
   ]
  },
  {
   "cell_type": "markdown",
   "metadata": {},
   "source": [
    "#### 실습: winearoma 데이터셋에 대해서 cross validation을 3번반복 했을때 test error 계산하기"
   ]
  },
  {
   "cell_type": "code",
   "execution_count": 224,
   "metadata": {
    "collapsed": true,
    "jupyter": {
     "outputs_hidden": true
    }
   },
   "outputs": [
    {
     "data": {
      "text/plain": [
       "(LinearRegression(),\n",
       " array([[4.40e-02, 3.87e-01, 2.90e-02, 1.23e+00, 5.61e-01, 2.63e+00,\n",
       "         1.28e+02, 8.05e+01, 1.13e+03],\n",
       "        [1.60e-01, 3.12e-01, 3.80e-02, 9.75e-01, 6.97e-01, 6.21e+00,\n",
       "         1.93e+02, 7.50e+01, 1.01e+03],\n",
       "        [1.46e-01, 3.08e-01, 3.50e-02, 1.14e+00, 7.30e-01, 3.05e+00,\n",
       "         1.27e+02, 9.10e+01, 1.16e+03],\n",
       "        [1.91e-01, 1.65e-01, 3.60e-02, 9.27e-01, 7.96e-01, 2.57e+00,\n",
       "         1.12e+02, 9.36e+01, 9.24e+02],\n",
       "        [3.63e-01, 3.80e-01, 5.90e-02, 1.13e+00, 1.73e+00, 3.07e+00,\n",
       "         1.38e+02, 8.46e+01, 1.09e+03],\n",
       "        [1.06e-01, 2.75e-01, 1.90e-02, 1.05e+00, 4.91e-01, 6.56e+00,\n",
       "         1.72e+02, 1.12e+02, 1.29e+03],\n",
       "        [4.79e-01, 1.64e-01, 6.20e-02, 8.23e-01, 2.06e+00, 4.57e+00,\n",
       "         1.79e+02, 1.22e+02, 1.17e+03],\n",
       "        [2.34e-01, 2.71e-01, 4.40e-02, 9.63e-01, 1.09e+00, 3.18e+00,\n",
       "         1.45e+02, 9.19e+01, 1.02e+03],\n",
       "        [5.80e-02, 2.25e-01, 2.20e-02, 1.13e+00, 4.80e-02, 6.13e+00,\n",
       "         1.13e+02, 7.02e+01, 1.24e+03],\n",
       "        [7.40e-02, 3.29e-01, 3.00e-02, 1.07e+00, 5.52e-01, 3.30e+00,\n",
       "         1.40e+02, 7.47e+01, 1.10e+03],\n",
       "        [7.10e-02, 1.05e-01, 2.80e-02, 4.91e-01, 3.10e-01, 6.56e+00,\n",
       "         1.03e+02, 6.79e+01, 1.09e+03],\n",
       "        [1.47e-01, 3.01e-01, 8.70e-02, 2.14e+00, 5.46e-01, 3.50e+00,\n",
       "         1.99e+02, 6.63e+01, 1.47e+03],\n",
       "        [1.16e-01, 1.66e-01, 4.10e-02, 5.78e-01, 5.18e-01, 6.43e+00,\n",
       "         1.11e+02, 8.38e+01, 1.12e+03],\n",
       "        [1.66e-01, 1.32e-01, 2.60e-02, 2.29e-01, 6.99e-01, 7.27e+00,\n",
       "         1.07e+02, 4.49e+01, 8.54e+02],\n",
       "        [2.61e-01, 7.80e-02, 6.30e-02, 1.56e-01, 1.02e+00, 5.04e+00,\n",
       "         9.46e+01, 5.49e+01, 8.99e+02],\n",
       "        [1.91e-01, 8.50e-02, 6.30e-02, 1.92e-01, 7.77e-01, 5.56e+00,\n",
       "         1.10e+02, 6.41e+01, 9.76e+02],\n",
       "        [9.00e-03, 7.20e-02, 2.10e-02, 1.72e-01, 2.32e-01, 3.79e+00,\n",
       "         7.59e+01, 4.81e+01, 9.95e+02],\n",
       "        [2.70e-02, 9.40e-02, 2.10e-02, 3.58e-01, 2.50e-02, 4.24e+00,\n",
       "         8.09e+01, 5.76e+01, 8.76e+02],\n",
       "        [5.00e-02, 2.94e-01, 6.00e-03, 1.12e+00, 2.06e-01, 2.71e+00,\n",
       "         1.20e+02, 6.48e+01, 1.05e+03],\n",
       "        [2.68e-01, 9.90e-02, 4.50e-02, 3.60e-01, 1.28e+00, 5.68e+00,\n",
       "         9.84e+01, 6.43e+01, 9.45e+02],\n",
       "        [2.45e-01, 7.10e-02, 5.30e-02, 1.86e-01, 1.19e+00, 4.42e+00,\n",
       "         8.76e+01, 7.06e+01, 8.20e+02],\n",
       "        [1.61e-01, 1.81e-01, 6.00e-02, 8.98e-01, 7.47e-01, 8.11e+00,\n",
       "         1.60e+02, 8.21e+01, 1.22e+03],\n",
       "        [1.46e-01, 3.28e-01, 1.00e-01, 1.32e+00, 6.04e-01, 6.42e+00,\n",
       "         1.34e+02, 8.32e+01, 1.81e+03],\n",
       "        [1.55e-01, 8.10e-02, 3.70e-02, 1.64e-01, 7.67e-01, 4.91e+00,\n",
       "         8.65e+01, 5.39e+01, 1.02e+03],\n",
       "        [1.26e-01, 2.99e-01, 5.40e-02, 9.95e-01, 6.86e-01, 6.94e+00,\n",
       "         1.29e+02, 8.59e+01, 1.33e+03]]),\n",
       " array([3.3, 4.4, 3.9, 3.9, 5.6, 4.6, 4.8, 5.3, 4.3, 4.3, 5.1, 3.3, 5.9,\n",
       "        7.7, 7.1, 5.5, 6.3, 5. , 4.6, 6.4, 5.5, 4.7, 4.1, 6. , 4.3]))"
      ]
     },
     "execution_count": 224,
     "metadata": {},
     "output_type": "execute_result"
    }
   ],
   "source": [
    "rl, Input_wine, Output_wine"
   ]
  },
  {
   "cell_type": "code",
   "execution_count": 186,
   "metadata": {},
   "outputs": [
    {
     "name": "stdout",
     "output_type": "stream",
     "text": [
      "cross validation score:  [-229.50587083 -144.83287306 -199.67674378]\n",
      "cross validataion average score:  -191.33849588748123\n"
     ]
    }
   ],
   "source": [
    "# cross_val_score()함수를 이용해서 3-fold validation을 구해보세요.\n",
    "# scoring='neg_mean_squared_error\n",
    "score = cross_val_score(rl, Input_np, Output_np, cv=3 , scoring='neg_mean_squared_error')\n",
    "print('cross validation score: ', score)\n",
    "print('cross validataion average score: ', score.mean())"
   ]
  },
  {
   "cell_type": "markdown",
   "metadata": {},
   "source": [
    "[return to the 'Table of contents'](#0)"
   ]
  },
  {
   "cell_type": "markdown",
   "metadata": {},
   "source": [
    "## 다음 시간"
   ]
  },
  {
   "cell_type": "markdown",
   "metadata": {},
   "source": [
    "> 변수 선택   \n",
    "정규화  \n",
    "$adjusted R^2$   \n",
    "명목형 변수 처리 ...\n"
   ]
  }
 ],
 "metadata": {
  "kernelspec": {
   "display_name": "Python 3",
   "language": "python",
   "name": "python3"
  },
  "language_info": {
   "codemirror_mode": {
    "name": "ipython",
    "version": 3
   },
   "file_extension": ".py",
   "mimetype": "text/x-python",
   "name": "python",
   "nbconvert_exporter": "python",
   "pygments_lexer": "ipython3",
   "version": "3.8.3"
  }
 },
 "nbformat": 4,
 "nbformat_minor": 4
}
