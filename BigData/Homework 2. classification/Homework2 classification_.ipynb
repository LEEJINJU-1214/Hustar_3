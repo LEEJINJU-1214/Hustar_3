{
 "cells": [
  {
   "cell_type": "markdown",
   "metadata": {},
   "source": [
    "# Homework 2: Classification"
   ]
  },
  {
   "cell_type": "markdown",
   "metadata": {},
   "source": [
    "아래 데이터는 이번 과제에 사용할 \"Cardio\" 데이터입니다.   \n",
    "\n",
    "각 컬럼에 대한 간단한 설명은 다음과 같습니다. \n",
    "1.\tAge: 나이 (integer)   \n",
    "2.\tHeight: 키(cm) (float)   \n",
    "3.\tWeight: 몸무게(kg) (float)   \n",
    "4.\tGender: 성별 {‘M’, ‘F’} (binary)   \n",
    "5.\tAp_hi: 수축기 혈압 (integer)   \n",
    "6.\tAp_lo: 이완기 혈압 (integer)   \n",
    "7.\tCholesterol: 콜레스테롤 상태 (categorical)   \n",
    "8.\tGluc: 포도당 상태 (categorical)   \n",
    "9.\tSmoke: 흡연 여부 (binary)   \n",
    "10.\tAlco: 음주 여부 (binary)    \n",
    "11.\tActive: 신체 활동(운동) 여부 (binary)   \n",
    "12.\tCardio: 심혈관계질환 여부 (binary, target variable)    \n",
    "\n",
    "종속변수는 cardio입니다."
   ]
  },
  {
   "cell_type": "code",
   "execution_count": 29,
   "metadata": {},
   "outputs": [],
   "source": [
    "import numpy as np\n",
    "import pandas as pd"
   ]
  },
  {
   "cell_type": "code",
   "execution_count": 30,
   "metadata": {
    "scrolled": true
   },
   "outputs": [],
   "source": [
    "df = pd.read_csv('./Cardio.csv')"
   ]
  },
  {
   "cell_type": "code",
   "execution_count": 31,
   "metadata": {
    "scrolled": true
   },
   "outputs": [
    {
     "data": {
      "text/html": [
       "<div>\n",
       "<style scoped>\n",
       "    .dataframe tbody tr th:only-of-type {\n",
       "        vertical-align: middle;\n",
       "    }\n",
       "\n",
       "    .dataframe tbody tr th {\n",
       "        vertical-align: top;\n",
       "    }\n",
       "\n",
       "    .dataframe thead th {\n",
       "        text-align: right;\n",
       "    }\n",
       "</style>\n",
       "<table border=\"1\" class=\"dataframe\">\n",
       "  <thead>\n",
       "    <tr style=\"text-align: right;\">\n",
       "      <th></th>\n",
       "      <th>age</th>\n",
       "      <th>gender</th>\n",
       "      <th>height</th>\n",
       "      <th>weight</th>\n",
       "      <th>ap_hi</th>\n",
       "      <th>ap_lo</th>\n",
       "      <th>cholesterol</th>\n",
       "      <th>gluc</th>\n",
       "      <th>smoke</th>\n",
       "      <th>alco</th>\n",
       "      <th>active</th>\n",
       "      <th>cardio</th>\n",
       "    </tr>\n",
       "  </thead>\n",
       "  <tbody>\n",
       "    <tr>\n",
       "      <th>0</th>\n",
       "      <td>61</td>\n",
       "      <td>F</td>\n",
       "      <td>155</td>\n",
       "      <td>69.0</td>\n",
       "      <td>130</td>\n",
       "      <td>80</td>\n",
       "      <td>above normal</td>\n",
       "      <td>above normal</td>\n",
       "      <td>no</td>\n",
       "      <td>no</td>\n",
       "      <td>yes</td>\n",
       "      <td>no</td>\n",
       "    </tr>\n",
       "    <tr>\n",
       "      <th>1</th>\n",
       "      <td>40</td>\n",
       "      <td>F</td>\n",
       "      <td>163</td>\n",
       "      <td>71.0</td>\n",
       "      <td>110</td>\n",
       "      <td>70</td>\n",
       "      <td>normal</td>\n",
       "      <td>normal</td>\n",
       "      <td>no</td>\n",
       "      <td>no</td>\n",
       "      <td>yes</td>\n",
       "      <td>yes</td>\n",
       "    </tr>\n",
       "    <tr>\n",
       "      <th>2</th>\n",
       "      <td>60</td>\n",
       "      <td>F</td>\n",
       "      <td>165</td>\n",
       "      <td>70.0</td>\n",
       "      <td>120</td>\n",
       "      <td>80</td>\n",
       "      <td>normal</td>\n",
       "      <td>normal</td>\n",
       "      <td>no</td>\n",
       "      <td>no</td>\n",
       "      <td>yes</td>\n",
       "      <td>no</td>\n",
       "    </tr>\n",
       "    <tr>\n",
       "      <th>3</th>\n",
       "      <td>39</td>\n",
       "      <td>M</td>\n",
       "      <td>165</td>\n",
       "      <td>85.0</td>\n",
       "      <td>120</td>\n",
       "      <td>80</td>\n",
       "      <td>normal</td>\n",
       "      <td>normal</td>\n",
       "      <td>yes</td>\n",
       "      <td>yes</td>\n",
       "      <td>yes</td>\n",
       "      <td>no</td>\n",
       "    </tr>\n",
       "    <tr>\n",
       "      <th>4</th>\n",
       "      <td>64</td>\n",
       "      <td>F</td>\n",
       "      <td>155</td>\n",
       "      <td>62.0</td>\n",
       "      <td>120</td>\n",
       "      <td>80</td>\n",
       "      <td>normal</td>\n",
       "      <td>normal</td>\n",
       "      <td>no</td>\n",
       "      <td>no</td>\n",
       "      <td>yes</td>\n",
       "      <td>no</td>\n",
       "    </tr>\n",
       "  </tbody>\n",
       "</table>\n",
       "</div>"
      ],
      "text/plain": [
       "   age gender  height  weight  ap_hi  ap_lo   cholesterol          gluc smoke  \\\n",
       "0   61      F     155    69.0    130     80  above normal  above normal    no   \n",
       "1   40      F     163    71.0    110     70        normal        normal    no   \n",
       "2   60      F     165    70.0    120     80        normal        normal    no   \n",
       "3   39      M     165    85.0    120     80        normal        normal   yes   \n",
       "4   64      F     155    62.0    120     80        normal        normal    no   \n",
       "\n",
       "  alco active cardio  \n",
       "0   no    yes     no  \n",
       "1   no    yes    yes  \n",
       "2   no    yes     no  \n",
       "3  yes    yes     no  \n",
       "4   no    yes     no  "
      ]
     },
     "execution_count": 31,
     "metadata": {},
     "output_type": "execute_result"
    }
   ],
   "source": [
    "df.head()"
   ]
  },
  {
   "cell_type": "code",
   "execution_count": null,
   "metadata": {
    "jupyter": {
     "source_hidden": true
    }
   },
   "outputs": [],
   "source": []
  },
  {
   "cell_type": "code",
   "execution_count": 32,
   "metadata": {},
   "outputs": [
    {
     "data": {
      "text/plain": [
       "array(['above normal', 'normal', 'well above normal'], dtype=object)"
      ]
     },
     "execution_count": 32,
     "metadata": {},
     "output_type": "execute_result"
    }
   ],
   "source": [
    "df['cholesterol'].unique()"
   ]
  },
  {
   "cell_type": "code",
   "execution_count": 33,
   "metadata": {},
   "outputs": [
    {
     "data": {
      "text/plain": [
       "array(['above normal', 'normal', 'well above normal'], dtype=object)"
      ]
     },
     "execution_count": 33,
     "metadata": {},
     "output_type": "execute_result"
    }
   ],
   "source": [
    "df['gluc'].unique()"
   ]
  },
  {
   "cell_type": "code",
   "execution_count": 34,
   "metadata": {},
   "outputs": [
    {
     "data": {
      "text/plain": [
       "array(['no', 'yes'], dtype=object)"
      ]
     },
     "execution_count": 34,
     "metadata": {},
     "output_type": "execute_result"
    }
   ],
   "source": [
    "df['smoke'].unique()"
   ]
  },
  {
   "cell_type": "code",
   "execution_count": 35,
   "metadata": {},
   "outputs": [
    {
     "data": {
      "text/plain": [
       "array(['no', 'yes'], dtype=object)"
      ]
     },
     "execution_count": 35,
     "metadata": {},
     "output_type": "execute_result"
    }
   ],
   "source": [
    "df['alco'].unique()"
   ]
  },
  {
   "cell_type": "markdown",
   "metadata": {},
   "source": [
    "## Question \n",
    "심혈관계질환 여부 ('cardio' = 1 or 0)을 예측하는 classification 문제를 해결하세요."
   ]
  },
  {
   "cell_type": "markdown",
   "metadata": {},
   "source": [
    "## [Guidline]\n",
    "0. [주어진 데이터를 모델에 사용할 수 있도록 전처리해주세요.](#0)\n",
    "1. [train과 test를 8:2로 나눠주세요.](#1)   \n",
    "2. [train에 대해서 로지스틱 모델을 학습시키고 모델을 평가해주세요.](#2)\n",
    "3. [train에 대해서 트리 모델을 학습시키고 모델을 평가해주세요.](#3)  \n",
    "4. [train에 대해서 랜덤 포레스트 모델을 학습시키고 모델을 평가해주세요.](#4)\n",
    "5. [트리 모델과 랜덤 포레스트 모델의 성능을 비교하고 왜 그런 차이가 났는 지 설명하세요.](#5)  \n",
    "    * 주피터 마크다운에 간략하게 적어 주시면 됩니다."
   ]
  },
  {
   "cell_type": "markdown",
   "metadata": {},
   "source": [
    "<a id='0'></a>"
   ]
  },
  {
   "cell_type": "markdown",
   "metadata": {},
   "source": [
    "## [0. 주어진 데이터를 모델에 사용할 수 있도록 전처리해주세요.](#0)"
   ]
  },
  {
   "cell_type": "markdown",
   "metadata": {},
   "source": [
    "Hint: cardio 데이터를 종속 변수로 사용하려면 no:0, yes:1 에 대응이 되야 하며 여러 numeric값이 아닌 다른 컬럼들에 대해서도 __비슷한__ 전처리가 가능합니다."
   ]
  },
  {
   "cell_type": "code",
   "execution_count": 36,
   "metadata": {},
   "outputs": [
    {
     "data": {
      "text/html": [
       "<div>\n",
       "<style scoped>\n",
       "    .dataframe tbody tr th:only-of-type {\n",
       "        vertical-align: middle;\n",
       "    }\n",
       "\n",
       "    .dataframe tbody tr th {\n",
       "        vertical-align: top;\n",
       "    }\n",
       "\n",
       "    .dataframe thead th {\n",
       "        text-align: right;\n",
       "    }\n",
       "</style>\n",
       "<table border=\"1\" class=\"dataframe\">\n",
       "  <thead>\n",
       "    <tr style=\"text-align: right;\">\n",
       "      <th></th>\n",
       "      <th>age</th>\n",
       "      <th>gender</th>\n",
       "      <th>height</th>\n",
       "      <th>weight</th>\n",
       "      <th>ap_hi</th>\n",
       "      <th>ap_lo</th>\n",
       "      <th>cholesterol</th>\n",
       "      <th>gluc</th>\n",
       "      <th>smoke</th>\n",
       "      <th>alco</th>\n",
       "      <th>active</th>\n",
       "      <th>cardio</th>\n",
       "    </tr>\n",
       "  </thead>\n",
       "  <tbody>\n",
       "    <tr>\n",
       "      <th>0</th>\n",
       "      <td>61</td>\n",
       "      <td>1</td>\n",
       "      <td>155</td>\n",
       "      <td>69.0</td>\n",
       "      <td>130</td>\n",
       "      <td>80</td>\n",
       "      <td>0</td>\n",
       "      <td>0</td>\n",
       "      <td>0</td>\n",
       "      <td>0</td>\n",
       "      <td>1</td>\n",
       "      <td>0</td>\n",
       "    </tr>\n",
       "    <tr>\n",
       "      <th>1</th>\n",
       "      <td>40</td>\n",
       "      <td>1</td>\n",
       "      <td>163</td>\n",
       "      <td>71.0</td>\n",
       "      <td>110</td>\n",
       "      <td>70</td>\n",
       "      <td>1</td>\n",
       "      <td>1</td>\n",
       "      <td>0</td>\n",
       "      <td>0</td>\n",
       "      <td>1</td>\n",
       "      <td>1</td>\n",
       "    </tr>\n",
       "    <tr>\n",
       "      <th>2</th>\n",
       "      <td>60</td>\n",
       "      <td>1</td>\n",
       "      <td>165</td>\n",
       "      <td>70.0</td>\n",
       "      <td>120</td>\n",
       "      <td>80</td>\n",
       "      <td>1</td>\n",
       "      <td>1</td>\n",
       "      <td>0</td>\n",
       "      <td>0</td>\n",
       "      <td>1</td>\n",
       "      <td>0</td>\n",
       "    </tr>\n",
       "    <tr>\n",
       "      <th>3</th>\n",
       "      <td>39</td>\n",
       "      <td>0</td>\n",
       "      <td>165</td>\n",
       "      <td>85.0</td>\n",
       "      <td>120</td>\n",
       "      <td>80</td>\n",
       "      <td>1</td>\n",
       "      <td>1</td>\n",
       "      <td>1</td>\n",
       "      <td>1</td>\n",
       "      <td>1</td>\n",
       "      <td>0</td>\n",
       "    </tr>\n",
       "    <tr>\n",
       "      <th>4</th>\n",
       "      <td>64</td>\n",
       "      <td>1</td>\n",
       "      <td>155</td>\n",
       "      <td>62.0</td>\n",
       "      <td>120</td>\n",
       "      <td>80</td>\n",
       "      <td>1</td>\n",
       "      <td>1</td>\n",
       "      <td>0</td>\n",
       "      <td>0</td>\n",
       "      <td>1</td>\n",
       "      <td>0</td>\n",
       "    </tr>\n",
       "  </tbody>\n",
       "</table>\n",
       "</div>"
      ],
      "text/plain": [
       "   age  gender  height  weight  ap_hi  ap_lo  cholesterol  gluc  smoke  alco  \\\n",
       "0   61       1     155    69.0    130     80            0     0      0     0   \n",
       "1   40       1     163    71.0    110     70            1     1      0     0   \n",
       "2   60       1     165    70.0    120     80            1     1      0     0   \n",
       "3   39       0     165    85.0    120     80            1     1      1     1   \n",
       "4   64       1     155    62.0    120     80            1     1      0     0   \n",
       "\n",
       "   active  cardio  \n",
       "0       1       0  \n",
       "1       1       1  \n",
       "2       1       0  \n",
       "3       1       0  \n",
       "4       1       0  "
      ]
     },
     "execution_count": 36,
     "metadata": {},
     "output_type": "execute_result"
    }
   ],
   "source": [
    "cardio = {'no':0,'yes':1}\n",
    "gender = {'F':1, 'M':0}\n",
    "cholesterol = {'above normal':0, 'normal':1, 'well above normal':2}\n",
    "gluc = {'above normal':0, 'normal':1, 'well above normal':2}\n",
    "alco = {'no':0,'yes':1}\n",
    "active = {'no':0,'yes':1}\n",
    "smoke = {'no':0,'yes':1}\n",
    "\n",
    "df['cardio'] = df['cardio'].map(cardio)\n",
    "df['gender'] = df['gender'].map(gender)\n",
    "df['cholesterol'] = df['cholesterol'].map(cholesterol)\n",
    "df['gluc'] = df['gluc'].map(gluc)\n",
    "df['alco'] = df['alco'].map(alco)\n",
    "df['active'] = df['active'].map(active)\n",
    "df['smoke'] = df['smoke'].map(smoke)\n",
    "df.head()"
   ]
  },
  {
   "cell_type": "markdown",
   "metadata": {},
   "source": [
    "<a id='1'></a>"
   ]
  },
  {
   "cell_type": "markdown",
   "metadata": {},
   "source": [
    "## [1. train과 test를 8:2로 나눠주세요.](#0)"
   ]
  },
  {
   "cell_type": "code",
   "execution_count": 37,
   "metadata": {},
   "outputs": [],
   "source": [
    "X = df.iloc[:,:-1]\n",
    "y = df.iloc[:,-1]"
   ]
  },
  {
   "cell_type": "code",
   "execution_count": 38,
   "metadata": {},
   "outputs": [
    {
     "name": "stdout",
     "output_type": "stream",
     "text": [
      "<class 'pandas.core.frame.DataFrame'>\n",
      "RangeIndex: 69301 entries, 0 to 69300\n",
      "Data columns (total 11 columns):\n",
      " #   Column       Non-Null Count  Dtype  \n",
      "---  ------       --------------  -----  \n",
      " 0   age          69301 non-null  int64  \n",
      " 1   gender       69301 non-null  int64  \n",
      " 2   height       69301 non-null  int64  \n",
      " 3   weight       69301 non-null  float64\n",
      " 4   ap_hi        69301 non-null  int64  \n",
      " 5   ap_lo        69301 non-null  int64  \n",
      " 6   cholesterol  69301 non-null  int64  \n",
      " 7   gluc         69301 non-null  int64  \n",
      " 8   smoke        69301 non-null  int64  \n",
      " 9   alco         69301 non-null  int64  \n",
      " 10  active       69301 non-null  int64  \n",
      "dtypes: float64(1), int64(10)\n",
      "memory usage: 5.8 MB\n"
     ]
    }
   ],
   "source": [
    "X.info()"
   ]
  },
  {
   "cell_type": "code",
   "execution_count": 39,
   "metadata": {},
   "outputs": [],
   "source": [
    "from sklearn.model_selection import train_test_split\n",
    "X_train, X_test, y_train, y_test = train_test_split(X,\n",
    "                                                    y,\n",
    "                                                    test_size=0.2,\n",
    "                                                    random_state= 1001)"
   ]
  },
  {
   "cell_type": "markdown",
   "metadata": {},
   "source": [
    "<a id='2'></a>"
   ]
  },
  {
   "cell_type": "markdown",
   "metadata": {},
   "source": [
    "## [2. train에 대해서 로지스틱 모델을 학습시키고 모델을 평가해주세요.](#0)"
   ]
  },
  {
   "cell_type": "code",
   "execution_count": 40,
   "metadata": {},
   "outputs": [
    {
     "name": "stdout",
     "output_type": "stream",
     "text": [
      "Train Data\n",
      "Accuracy:  0.7\n",
      "Recall:  0.675\n",
      "Precision: 0.71\n",
      "F1 Score: 0.692\n",
      "Test Data\n",
      "Accuracy:  0.706\n",
      "Recall:  0.681\n",
      "Precision: 0.718\n",
      "F1 Score: 0.699\n"
     ]
    },
    {
     "name": "stderr",
     "output_type": "stream",
     "text": [
      "C:\\ProgramData\\Anaconda3\\lib\\site-packages\\sklearn\\linear_model\\_logistic.py:762: ConvergenceWarning: lbfgs failed to converge (status=1):\n",
      "STOP: TOTAL NO. of ITERATIONS REACHED LIMIT.\n",
      "\n",
      "Increase the number of iterations (max_iter) or scale the data as shown in:\n",
      "    https://scikit-learn.org/stable/modules/preprocessing.html\n",
      "Please also refer to the documentation for alternative solver options:\n",
      "    https://scikit-learn.org/stable/modules/linear_model.html#logistic-regression\n",
      "  n_iter_i = _check_optimize_result(\n"
     ]
    }
   ],
   "source": [
    "from sklearn.metrics import accuracy_score, recall_score, precision_score, f1_score, mean_squared_error\n",
    "from sklearn.linear_model import LogisticRegression\n",
    "logistic = LogisticRegression()\n",
    "logistic.fit(X_train, y_train)\n",
    "\n",
    "pred_logistic = logistic.predict(X_train)\n",
    "pred_logistic_test = logistic.predict(X_test)\n",
    "print('Train Data')\n",
    "print('Accuracy: ', round(accuracy_score(y_train, pred_logistic),3))\n",
    "print('Recall: ', round(recall_score(y_train, pred_logistic),3))\n",
    "print('Precision:', round(precision_score(y_train, pred_logistic),3))\n",
    "print('F1 Score:', round(f1_score(y_train, pred_logistic),3))\n",
    "print('Test Data')\n",
    "print('Accuracy: ', round(accuracy_score(y_test, pred_logistic_test),3))\n",
    "print('Recall: ', round(recall_score(y_test, pred_logistic_test),3))\n",
    "print('Precision:', round(precision_score(y_test, pred_logistic_test),3))\n",
    "print('F1 Score:', round(f1_score(y_test, pred_logistic_test),3))\n"
   ]
  },
  {
   "cell_type": "markdown",
   "metadata": {},
   "source": [
    "<a id='3'></a>"
   ]
  },
  {
   "cell_type": "markdown",
   "metadata": {},
   "source": [
    "## [3. train에 대해서 트리 모델을 학습시키고 모델을 평가해주세요.](#0)"
   ]
  },
  {
   "cell_type": "code",
   "execution_count": 41,
   "metadata": {},
   "outputs": [
    {
     "name": "stdout",
     "output_type": "stream",
     "text": [
      "Train Data\n",
      "Accuracy:  0.981\n",
      "Recall:  0.966\n",
      "Precision: 0.996\n",
      "F1 Score: 0.981\n",
      "Test Data\n",
      "Accuracy:  0.636\n",
      "Recall:  0.625\n",
      "Precision: 0.64\n",
      "F1 Score: 0.633\n"
     ]
    }
   ],
   "source": [
    "from sklearn.tree import DecisionTreeClassifier\n",
    "tree = DecisionTreeClassifier()\n",
    "tree.fit(X_train, y_train)\n",
    "pred_tree = tree.predict(X_train)\n",
    "pred_tree_test = tree.predict(X_test)\n",
    "print('Train Data')\n",
    "print('Accuracy: ', round(accuracy_score(y_train, pred_tree),3))\n",
    "print('Recall: ', round(recall_score(y_train, pred_tree),3))\n",
    "print('Precision:', round(precision_score(y_train, pred_tree),3))\n",
    "print('F1 Score:', round(f1_score(y_train, pred_tree),3))\n",
    "print('Test Data')\n",
    "print('Accuracy: ', round(accuracy_score(y_test, pred_tree_test),3))\n",
    "print('Recall: ', round(recall_score(y_test, pred_tree_test),3))\n",
    "print('Precision:', round(precision_score(y_test, pred_tree_test),3))\n",
    "print('F1 Score:', round(f1_score(y_test, pred_tree_test),3))\n",
    "\n",
    "##testset의 성능향상이 필요"
   ]
  },
  {
   "cell_type": "code",
   "execution_count": 42,
   "metadata": {},
   "outputs": [
    {
     "name": "stdout",
     "output_type": "stream",
     "text": [
      "Train Data\n",
      "Accuracy:  0.725\n",
      "Recall:  0.673\n",
      "Precision: 0.75\n",
      "F1 Score: 0.71\n",
      "Test Data\n",
      "Accuracy:  0.728\n",
      "Recall:  0.68\n",
      "Precision: 0.754\n",
      "F1 Score: 0.715\n"
     ]
    }
   ],
   "source": [
    "trimed_tree = DecisionTreeClassifier(max_depth=3)#default GEni\n",
    "trimed_tree.fit(X_train,y_train)\n",
    "pred_tree = trimed_tree.predict(X_train)\n",
    "pred_tree_test = trimed_tree.predict(X_test)\n",
    "print('Train Data')\n",
    "print('Accuracy: ', round(accuracy_score(y_train, pred_tree),3))\n",
    "print('Recall: ', round(recall_score(y_train, pred_tree),3))\n",
    "print('Precision:', round(precision_score(y_train, pred_tree),3))\n",
    "print('F1 Score:', round(f1_score(y_train, pred_tree),3))\n",
    "print('Test Data')\n",
    "print('Accuracy: ', round(accuracy_score(y_test, pred_tree_test),3))\n",
    "print('Recall: ', round(recall_score(y_test, pred_tree_test),3))\n",
    "print('Precision:', round(precision_score(y_test, pred_tree_test),3))\n",
    "print('F1 Score:', round(f1_score(y_test, pred_tree_test),3))\n",
    "\n",
    "#max_depth 설정을 통해 균일한 성능이 나타남"
   ]
  },
  {
   "cell_type": "code",
   "execution_count": 45,
   "metadata": {},
   "outputs": [
    {
     "name": "stdout",
     "output_type": "stream",
     "text": [
      "Train Data\n",
      "Accuracy:  0.725\n",
      "Recall:  0.673\n",
      "Precision: 0.75\n",
      "F1 Score: 0.71\n",
      "Test Data\n",
      "Accuracy:  0.728\n",
      "Recall:  0.68\n",
      "Precision: 0.754\n",
      "F1 Score: 0.715\n"
     ]
    }
   ],
   "source": [
    "\n",
    "tree_entropy = DecisionTreeClassifier(criterion = 'entropy', max_depth=3)\n",
    "tree_entropy.fit(X_train,y_train)\n",
    "\n",
    "train_pred_entropy = tree_entropy.predict(X_train)\n",
    "test_pred_entropy = tree_entropy.predict(X_test)\n",
    "\n",
    "print('Train Data')\n",
    "print('Accuracy: ', round(accuracy_score(y_train, train_pred_entropy),3))\n",
    "print('Recall: ', round(recall_score(y_train, train_pred_entropy),3))\n",
    "print('Precision:', round(precision_score(y_train, train_pred_entropy),3))\n",
    "print('F1 Score:', round(f1_score(y_train, train_pred_entropy),3))\n",
    "print('Test Data')\n",
    "print('Accuracy: ', round(accuracy_score(y_test, test_pred_entropy),3))\n",
    "print('Recall: ', round(recall_score(y_test, test_pred_entropy),3))\n",
    "print('Precision:', round(precision_score(y_test, test_pred_entropy),3))\n",
    "print('F1 Score:', round(f1_score(y_test, test_pred_entropy),3))\n"
   ]
  },
  {
   "cell_type": "code",
   "execution_count": 46,
   "metadata": {},
   "outputs": [
    {
     "data": {
      "text/plain": [
       "GridSearchCV(cv=5, estimator=DecisionTreeClassifier(random_state=1001),\n",
       "             param_grid=[{'criterion': ['gini', 'entropy'],\n",
       "                          'max_depth': range(1, 10),\n",
       "                          'min_samples_leaf': [2, 3, 4, 5],\n",
       "                          'min_samples_split': [3, 6, 9, 12]}],\n",
       "             return_train_score=True, scoring='accuracy')"
      ]
     },
     "execution_count": 46,
     "metadata": {},
     "output_type": "execute_result"
    }
   ],
   "source": [
    "from sklearn.model_selection import GridSearchCV\n",
    "\n",
    "param_grid = [\n",
    "    {'criterion': ['gini', 'entropy'], 'max_depth': range(1,10),\n",
    "     'min_samples_split': [3,6,9,12], 'min_samples_leaf': [2,3,4,5]}, \n",
    "  ]\n",
    "\n",
    "tree_grid = DecisionTreeClassifier(random_state=1001)\n",
    "\n",
    "grid_search = GridSearchCV(tree_grid, param_grid, cv=5,\n",
    "                           scoring='accuracy',\n",
    "                           return_train_score=True)\n",
    "\n",
    "grid_search.fit(X_train, y_train)"
   ]
  },
  {
   "cell_type": "code",
   "execution_count": 47,
   "metadata": {},
   "outputs": [
    {
     "name": "stdout",
     "output_type": "stream",
     "text": [
      "{'criterion': 'gini', 'max_depth': 6, 'min_samples_leaf': 2, 'min_samples_split': 3}\n",
      "DecisionTreeClassifier(max_depth=6, min_samples_leaf=2, min_samples_split=3,\n",
      "                       random_state=1001)\n"
     ]
    }
   ],
   "source": [
    "print(grid_search.best_params_)\n",
    "print(grid_search.best_estimator_)"
   ]
  },
  {
   "cell_type": "code",
   "execution_count": 48,
   "metadata": {},
   "outputs": [
    {
     "name": "stdout",
     "output_type": "stream",
     "text": [
      "Train Data\n",
      "Accuracy:  0.725\n",
      "Recall:  0.673\n",
      "Precision: 0.75\n",
      "F1 Score: 0.71\n",
      "Test Data\n",
      "Accuracy:  0.728\n",
      "Recall:  0.68\n",
      "Precision: 0.754\n",
      "F1 Score: 0.715\n"
     ]
    }
   ],
   "source": [
    "tree_best = DecisionTreeClassifier(criterion = 'gini',max_depth=6, min_samples_leaf=2, min_samples_split=3,random_state=1001)\n",
    "tree_best.fit(X_train,y_train)\n",
    "\n",
    "train_pred_best = tree_entropy.predict(X_train)\n",
    "test_pred_best = tree_entropy.predict(X_test)\n",
    "\n",
    "print('Train Data')\n",
    "print('Accuracy: ', round(accuracy_score(y_train, train_pred_best),3))\n",
    "print('Recall: ', round(recall_score(y_train, train_pred_best),3))\n",
    "print('Precision:', round(precision_score(y_train, train_pred_best),3))\n",
    "print('F1 Score:', round(f1_score(y_train, train_pred_best),3))\n",
    "print('Test Data')\n",
    "print('Accuracy: ', round(accuracy_score(y_test, test_pred_best),3))\n",
    "print('Recall: ', round(recall_score(y_test, test_pred_best),3))\n",
    "print('Precision:', round(precision_score(y_test, test_pred_best),3))\n",
    "print('F1 Score:', round(f1_score(y_test, test_pred_best),3))"
   ]
  },
  {
   "cell_type": "markdown",
   "metadata": {},
   "source": [
    "<a id='4'></a>"
   ]
  },
  {
   "cell_type": "markdown",
   "metadata": {},
   "source": [
    "## [4. train에 대해서 랜덤 포레스트 모델을 학습시키고 모델을 평가해주세요.](#0)"
   ]
  },
  {
   "cell_type": "code",
   "execution_count": 49,
   "metadata": {},
   "outputs": [
    {
     "name": "stdout",
     "output_type": "stream",
     "text": [
      "Train Data\n",
      "Accuracy:  0.981\n",
      "Recall:  0.974\n",
      "Precision: 0.988\n",
      "F1 Score: 0.981\n",
      "Test Data\n",
      "Accuracy:  0.709\n",
      "Recall:  0.705\n",
      "Precision: 0.712\n",
      "F1 Score: 0.708\n"
     ]
    }
   ],
   "source": [
    "from sklearn.ensemble import RandomForestClassifier\n",
    "randomforest = RandomForestClassifier()\n",
    "randomforest.fit(X_train, y_train)\n",
    "train_pred_randomforest = randomforest.predict(X_train)\n",
    "test_pred_randomforest = randomforest.predict(X_test)\n",
    "print('Train Data')\n",
    "print('Accuracy: ', round(accuracy_score(y_train, train_pred_randomforest),3))\n",
    "print('Recall: ', round(recall_score(y_train, train_pred_randomforest),3))\n",
    "print('Precision:', round(precision_score(y_train, train_pred_randomforest),3))\n",
    "print('F1 Score:', round(f1_score(y_train, train_pred_randomforest),3))\n",
    "print('Test Data')\n",
    "print('Accuracy: ', round(accuracy_score(y_test, test_pred_randomforest),3))\n",
    "print('Recall: ', round(recall_score(y_test, test_pred_randomforest),3))\n",
    "print('Precision:', round(precision_score(y_test, test_pred_randomforest),3))\n",
    "print('F1 Score:', round(f1_score(y_test, test_pred_randomforest),3))\n",
    "\n",
    "##overfitting"
   ]
  },
  {
   "cell_type": "code",
   "execution_count": 50,
   "metadata": {},
   "outputs": [
    {
     "name": "stdout",
     "output_type": "stream",
     "text": [
      "time : 577.1406586170197\n"
     ]
    }
   ],
   "source": [
    "from sklearn.model_selection import GridSearchCV\n",
    "import time\n",
    "start = time.time()  # 시작 시간 저장\n",
    "\n",
    "param_grid = [\n",
    "    {'n_estimators': [100,200], 'max_features': ['auto', 'log2'],'max_depth':range(1,10)},\n",
    "  ]\n",
    "\n",
    "#crossvalidation = 5번\n",
    "randomforest_grid = RandomForestClassifier(random_state=1001)\n",
    "\n",
    "grid_search = GridSearchCV(randomforest_grid, param_grid, cv=5,\n",
    "                           scoring='accuracy',\n",
    "                           return_train_score=True)\n",
    "grid_search.fit(X_train, y_train)\n",
    "\n",
    "print(\"time :\", time.time() - start)  # 실행 시간 = 현재시각 - 시작시간\n"
   ]
  },
  {
   "cell_type": "code",
   "execution_count": 51,
   "metadata": {},
   "outputs": [
    {
     "name": "stdout",
     "output_type": "stream",
     "text": [
      "{'max_depth': 9, 'max_features': 'auto', 'n_estimators': 100}\n",
      "RandomForestClassifier(max_depth=9, random_state=1001)\n"
     ]
    }
   ],
   "source": [
    "print(grid_search.best_params_)\n",
    "print(grid_search.best_estimator_)"
   ]
  },
  {
   "cell_type": "code",
   "execution_count": 52,
   "metadata": {},
   "outputs": [
    {
     "data": {
      "text/plain": [
       "RandomForestClassifier(max_depth=9, n_jobs=-1, random_state=1001)"
      ]
     },
     "execution_count": 52,
     "metadata": {},
     "output_type": "execute_result"
    }
   ],
   "source": [
    "randomforest_best = RandomForestClassifier(n_estimators=100, random_state=1001,max_features = 'auto',max_depth=9, n_jobs = -1)\n",
    "randomforest_best.fit(X_train,y_train)"
   ]
  },
  {
   "cell_type": "code",
   "execution_count": 56,
   "metadata": {},
   "outputs": [
    {
     "name": "stdout",
     "output_type": "stream",
     "text": [
      "Train Data\n",
      "Accuracy:  0.745\n",
      "Recall:  0.692\n",
      "Precision: 0.774\n",
      "F1 Score: 0.73\n",
      "Test Data\n",
      "Accuracy:  0.739\n",
      "Recall:  0.692\n",
      "Precision: 0.765\n",
      "F1 Score: 0.727\n"
     ]
    }
   ],
   "source": [
    "train_pred_randomforest_best = randomforest_best.predict(X_train)\n",
    "test_pred_randomforest_best = randomforest_best.predict(X_test)\n",
    "print('Train Data')\n",
    "print('Accuracy: ', round(accuracy_score(y_train, train_pred_randomforest_best),3))\n",
    "print('Recall: ', round(recall_score(y_train, train_pred_randomforest_best),3))\n",
    "print('Precision:', round(precision_score(y_train, train_pred_randomforest_best),3))\n",
    "print('F1 Score:', round(f1_score(y_train, train_pred_randomforest_best),3))\n",
    "print('Test Data')\n",
    "print('Accuracy: ', round(accuracy_score(y_test, test_pred_randomforest_best),3))\n",
    "print('Recall: ', round(recall_score(y_test, test_pred_randomforest_best),3))\n",
    "print('Precision:', round(precision_score(y_test, test_pred_randomforest_best),3))\n",
    "print('F1 Score:', round(f1_score(y_test, test_pred_randomforest_best),3))"
   ]
  },
  {
   "cell_type": "code",
   "execution_count": 54,
   "metadata": {},
   "outputs": [
    {
     "name": "stdout",
     "output_type": "stream",
     "text": [
      "특성 중요도 :  [0.12285537 0.00361363 0.02051924 0.05050766 0.48219652 0.21622629\n",
      " 0.07883303 0.01165433 0.00397209 0.00295926 0.00666258]\n"
     ]
    }
   ],
   "source": [
    "print(\"특성 중요도 : \",randomforest_best.feature_importances_)"
   ]
  },
  {
   "cell_type": "code",
   "execution_count": 55,
   "metadata": {},
   "outputs": [
    {
     "data": {
      "image/png": "[encoded data removed]",
      "text/plain": [
       "<Figure size 432x288 with 1 Axes>"
      ]
     },
     "metadata": {
      "needs_background": "light"
     },
     "output_type": "display_data"
    }
   ],
   "source": [
    "import matplotlib.pyplot as plt\n",
    "from IPython.display import Image\n",
    "aa = df.iloc[:,:-1]\n",
    "aa\n",
    "\n",
    "n_feature = aa.shape[1]\n",
    "index = np.arange(n_feature)\n",
    "\n",
    "plt.barh(index, randomforest_best.feature_importances_, align='center')\n",
    "plt.yticks(index, aa.columns)\n",
    "plt.ylim(-1, n_feature)\n",
    "plt.xlabel('feature importance', size=15)\n",
    "plt.ylabel('feature', size=15)\n",
    "plt.show()"
   ]
  },
  {
   "cell_type": "markdown",
   "metadata": {},
   "source": [
    "<a id='5'></a>"
   ]
  },
  {
   "cell_type": "markdown",
   "metadata": {},
   "source": [
    "## [5. 트리 모델과 랜덤 포레스트 모델의 성능을 비교하고 왜 그런 차이가 났는 지 설명하세요.](#0)"
   ]
  },
  {
   "cell_type": "markdown",
   "metadata": {},
   "source": [
    "gridSearch를 통해 최적의 tree 및 randomforest 모델을 생성하고 비교하였을 때 성능이 유사하게 나타남\n",
    "따라서 해당 데이터셋에 있어서 비교적 더 간단한 tree모델의 성능이 더 좋다고 할 수 있음\n",
    "이는 모델의 복잡성이 반드시 성능을 보장하지 않으며, 데이터셋에 특징에 따라 최적의 모델이 다르기 때문이라고 판단됨.\n",
    "상대적으로 더 복잡한 randomforest를 이용하여서도 현재 데이터 셋에 대한 더 좋은 분류를 할 수 없고, 상대적으로 간단한 tree 모델로 randomforest만큼의 분류를 할 수 있음.\n"
   ]
  }
 ],
 "metadata": {
  "kernelspec": {
   "display_name": "Python 3",
   "language": "python",
   "name": "python3"
  },
  "language_info": {
   "codemirror_mode": {
    "name": "ipython",
    "version": 3
   },
   "file_extension": ".py",
   "mimetype": "text/x-python",
   "name": "python",
   "nbconvert_exporter": "python",
   "pygments_lexer": "ipython3",
   "version": "3.8.3"
  }
 },
 "nbformat": 4,
 "nbformat_minor": 4
}
