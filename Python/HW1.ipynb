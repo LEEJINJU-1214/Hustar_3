{
 "cells": [
  {
   "cell_type": "markdown",
   "metadata": {},
   "source": [
    "문제1"
   ]
  },
  {
   "cell_type": "code",
   "execution_count": 1,
   "metadata": {},
   "outputs": [
    {
     "name": "stdout",
     "output_type": "stream",
     "text": [
      "화씨온도: 100\n",
      "섭씨온도:  37.77777777777778\n"
     ]
    }
   ],
   "source": [
    "Fitem = input(\"화씨온도: \")\n",
    "Fitem = float(Fitem)\n",
    "Citem = (Fitem-32)*(5/9)\n",
    "print(\"섭씨온도: \",Citem)"
   ]
  },
  {
   "cell_type": "markdown",
   "metadata": {},
   "source": [
    "문제2"
   ]
  },
  {
   "cell_type": "code",
   "execution_count": 20,
   "metadata": {},
   "outputs": [
    {
     "name": "stdout",
     "output_type": "stream",
     "text": [
      "투입한돈: 15900\n",
      "물건값: 1500\n",
      "거스름돈: 14400\n",
      "500원짜리: 28\n",
      "100원짜리: 4\n"
     ]
    }
   ],
   "source": [
    "money = float(input('투입한돈: '))\n",
    "if money%100>0:\n",
    "    print(\"100원단위만 입력가능합니다\")\n",
    "    money = float(input('투입한돈: '))\n",
    "price = float(input('물건값: '))\n",
    "if price%100>0:\n",
    "    print(\"100원단위만 입력가능합니다\")\n",
    "    price = float(input('물건값: '))\n",
    "change=money-price\n",
    "if price<=money:\n",
    "    print('거스름돈: %d'%change)\n",
    "    five = change//500\n",
    "    one = (change-(500*five))//100\n",
    "    print('500원짜리: %d'%five)\n",
    "    print('100원짜리: %d'%one)\n",
    "else:\n",
    "    print(\"물건을 구매할 수 없습니다\")"
   ]
  },
  {
   "cell_type": "markdown",
   "metadata": {},
   "source": [
    "문제3"
   ]
  },
  {
   "cell_type": "code",
   "execution_count": 31,
   "metadata": {},
   "outputs": [
    {
     "name": "stdout",
     "output_type": "stream",
     "text": [
      "반지름을 입력하시오: 5\n",
      "원 둘레: 31.42\n",
      "원 넓이: 78.54\n"
     ]
    }
   ],
   "source": [
    "radius = float(input('반지름을 입력하시오: '))\n",
    "pai = 3.141592\n",
    "print(\"원 둘레: %.2f\"%(2*pai*radius))\n",
    "print('원 넓이: %.2f'%(pai*(radius**2)))"
   ]
  },
  {
   "cell_type": "markdown",
   "metadata": {},
   "source": [
    "문제4"
   ]
  },
  {
   "cell_type": "code",
   "execution_count": 27,
   "metadata": {},
   "outputs": [
    {
     "name": "stdout",
     "output_type": "stream",
     "text": [
      "Enter two integers :8 5\n",
      "8 + 5 = 13\n",
      "8 - 5 = 3\n",
      "8 * 5 = 40\n",
      "8 / 5 = 1.6\n",
      "8 % 5 = 3\n"
     ]
    }
   ],
   "source": [
    "numbers = input('Enter two integers :')\n",
    "n1,n2 = numbers.split()\n",
    "print(n1,\"+\",n2,\"=\",int(n1)+int(n2))\n",
    "print(n1,\"-\",n2,\"=\",int(n1)-int(n2))\n",
    "print(n1,\"*\",n2,\"=\",int(n1)*int(n2))\n",
    "print(n1,\"/\",n2,\"=\",int(n1)/int(n2))\n",
    "print(n1,\"%\",n2,\"=\",int(n1)%int(n2))"
   ]
  },
  {
   "cell_type": "markdown",
   "metadata": {},
   "source": [
    "문제5"
   ]
  },
  {
   "cell_type": "code",
   "execution_count": 32,
   "metadata": {},
   "outputs": [
    {
     "name": "stdout",
     "output_type": "stream",
     "text": [
      "Enter two integers :8 5\n",
      "The sum of 8 and 5 is 13\n",
      "The average of numbers is 6.5\n"
     ]
    }
   ],
   "source": [
    "numbers = input('Enter two integers :')\n",
    "n1,n2 = numbers.split()\n",
    "print(\"The sum of %d and %d is %d\"%(int(n1),int(n2),int(n1)+int(n2)))\n",
    "print(\"The average of numbers is %.1f\"%((int(n1)+int(n2))/2))"
   ]
  },
  {
   "cell_type": "markdown",
   "metadata": {},
   "source": [
    "문제6"
   ]
  },
  {
   "cell_type": "code",
   "execution_count": 10,
   "metadata": {},
   "outputs": [
    {
     "name": "stdout",
     "output_type": "stream",
     "text": [
      "날짜(연/월/일)입력 :2021/04/15\n",
      "입력한 날짜의 10년 후는 2031년 4월 15일\n"
     ]
    }
   ],
   "source": [
    "date = input('날짜(연/월/일)입력 :')\n",
    "year, month, day = date.split('/')\n",
    "print(\"입력한 날짜의 10년 후는 %d년 %d월 %d일\"%(int(year)+10,int(month),int(day)))"
   ]
  },
  {
   "cell_type": "code",
   "execution_count": null,
   "metadata": {},
   "outputs": [],
   "source": []
  }
 ],
 "metadata": {
  "kernelspec": {
   "display_name": "Python 3",
   "language": "python",
   "name": "python3"
  },
  "language_info": {
   "codemirror_mode": {
    "name": "ipython",
    "version": 3
   },
   "file_extension": ".py",
   "mimetype": "text/x-python",
   "name": "python",
   "nbconvert_exporter": "python",
   "pygments_lexer": "ipython3",
   "version": "3.8.5"
  }
 },
 "nbformat": 4,
 "nbformat_minor": 4
}
