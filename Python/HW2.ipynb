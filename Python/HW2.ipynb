{
 "cells": [
  {
   "cell_type": "markdown",
   "metadata": {},
   "source": [
    "문제1"
   ]
  },
  {
   "cell_type": "code",
   "execution_count": 3,
   "metadata": {},
   "outputs": [
    {
     "name": "stdin",
     "output_type": "stream",
     "text": [
      "Enter a number:  14\n"
     ]
    },
    {
     "name": "stdout",
     "output_type": "stream",
     "text": [
      "14 is Even number\n"
     ]
    }
   ],
   "source": [
    "num =  int(input(\"Enter a number: \"))\n",
    "if num%2!=0:\n",
    "    print('%d is Odd number'%num)\n",
    "else:\n",
    "    print('%d is Even number'%num)"
   ]
  },
  {
   "cell_type": "markdown",
   "metadata": {},
   "source": [
    "문제2"
   ]
  },
  {
   "cell_type": "code",
   "execution_count": 5,
   "metadata": {},
   "outputs": [
    {
     "name": "stdin",
     "output_type": "stream",
     "text": [
      "Enter your midterm score: 77\n",
      "Enter your midterm score: 56\n"
     ]
    },
    {
     "name": "stdout",
     "output_type": "stream",
     "text": [
      "Average: 66.5\n",
      "Grade: D\n"
     ]
    }
   ],
   "source": [
    "mid =  int(input('Enter your midterm score:'))\n",
    "fin =  int(input('Enter your midterm score:'))\n",
    "average = (mid+fin)/2\n",
    "if average>=90:\n",
    "    result = 'A'\n",
    "elif average>=80:\n",
    "    result = 'B'\n",
    "elif average>=70:\n",
    "    result = 'C'\n",
    "elif average>=60:\n",
    "    result = 'D'\n",
    "else:\n",
    "    result = 'F'\n",
    "print('Average:',average)\n",
    "print('Grade:',result)\n",
    "    "
   ]
  },
  {
   "cell_type": "markdown",
   "metadata": {},
   "source": [
    "문제3"
   ]
  },
  {
   "cell_type": "code",
   "execution_count": 6,
   "metadata": {},
   "outputs": [
    {
     "name": "stdin",
     "output_type": "stream",
     "text": [
      "영어 점수 입력:  56\n",
      "수학 점수 입력:  89\n"
     ]
    },
    {
     "name": "stdout",
     "output_type": "stream",
     "text": [
      "합격\n"
     ]
    }
   ],
   "source": [
    "eng = input('영어 점수 입력: ')\n",
    "math = input('수학 점수 입력: ')\n",
    "if (int(eng)+int(math))<110:\n",
    "    print('불합격: 총합 점수 부족')\n",
    "elif int(math)<40:\n",
    "    print('불합격: 수학 점수 부족')\n",
    "elif int(eng)<40:\n",
    "    print('불합격: 영어 점수 부족')\n",
    "else:\n",
    "    print(\"합격\")"
   ]
  },
  {
   "cell_type": "markdown",
   "metadata": {},
   "source": [
    "문제4"
   ]
  },
  {
   "cell_type": "code",
   "execution_count": 7,
   "metadata": {},
   "outputs": [
    {
     "name": "stdin",
     "output_type": "stream",
     "text": [
      "세개의 수를 입력하시오: 30 22 50\n"
     ]
    },
    {
     "name": "stdout",
     "output_type": "stream",
     "text": [
      "가장 큰 수는 50입니다.\n"
     ]
    }
   ],
   "source": [
    "D = input('세개의 수를 입력하시오:').split()\n",
    "D1,D2,D3 = map(int,D)\n",
    "max_s = D1\n",
    "if max_s<D2:\n",
    "    max_s=D2\n",
    "    if max_s<D3:\n",
    "        max_s=D3\n",
    "else:\n",
    "    if max_s<D3:\n",
    "        max_s=D3\n",
    "print('가장 큰 수는 %d입니다.'%max_s)#print end 파라미터가 \\n 바꿀수 있음!"
   ]
  },
  {
   "cell_type": "markdown",
   "metadata": {},
   "source": [
    "문제1-1"
   ]
  },
  {
   "cell_type": "code",
   "execution_count": 8,
   "metadata": {},
   "outputs": [
    {
     "name": "stdout",
     "output_type": "stream",
     "text": [
      "P\n",
      "y\n",
      "t\n",
      "h\n",
      "o\n",
      "n\n"
     ]
    }
   ],
   "source": [
    "word = 'Python'\n",
    "count = 0\n",
    "while count<len(word):\n",
    "    print(word[count])\n",
    "    count+=1"
   ]
  },
  {
   "cell_type": "markdown",
   "metadata": {},
   "source": [
    "문제1-2"
   ]
  },
  {
   "cell_type": "code",
   "execution_count": 9,
   "metadata": {},
   "outputs": [
    {
     "name": "stdout",
     "output_type": "stream",
     "text": [
      "P\n",
      "y\n",
      "t\n",
      "h\n",
      "o\n",
      "n\n"
     ]
    }
   ],
   "source": [
    "word = 'Python'\n",
    "for i in word:\n",
    "    print(i)"
   ]
  },
  {
   "cell_type": "markdown",
   "metadata": {},
   "source": [
    "문제2"
   ]
  },
  {
   "cell_type": "code",
   "execution_count": 17,
   "metadata": {},
   "outputs": [
    {
     "name": "stdout",
     "output_type": "stream",
     "text": [
      "10,9,8,7,6,5,4,3,2,1,Happy new year!!\n"
     ]
    }
   ],
   "source": [
    "for i in range(10,0,-1):\n",
    "    print(i,end=',')\n",
    "print('Happy new year!!')"
   ]
  },
  {
   "cell_type": "markdown",
   "metadata": {},
   "source": [
    "문제3"
   ]
  },
  {
   "cell_type": "code",
   "execution_count": 18,
   "metadata": {},
   "outputs": [
    {
     "name": "stdin",
     "output_type": "stream",
     "text": [
      "Enter two integers:  5 10\n"
     ]
    },
    {
     "name": "stdout",
     "output_type": "stream",
     "text": [
      "The sum from 5 to 10 is 45\n"
     ]
    }
   ],
   "source": [
    "nums = input('Enter two integers: ').split()\n",
    "n1,n2 = map(int,nums)\n",
    "total = 0\n",
    "for i in range(n1,n2+1):\n",
    "    total += i\n",
    "print('The sum from %d to %d is %d'%(n1,n2,total))"
   ]
  },
  {
   "cell_type": "markdown",
   "metadata": {},
   "source": [
    "문제4"
   ]
  },
  {
   "cell_type": "code",
   "execution_count": 19,
   "metadata": {},
   "outputs": [
    {
     "name": "stdout",
     "output_type": "stream",
     "text": [
      "a의 개수 3\n"
     ]
    }
   ],
   "source": [
    "word = 'banana'\n",
    "count = 0\n",
    "for i in word:\n",
    "    if i=='a':\n",
    "        count +=1\n",
    "print('a의 개수',count)"
   ]
  },
  {
   "cell_type": "markdown",
   "metadata": {},
   "source": [
    "문제5"
   ]
  },
  {
   "cell_type": "code",
   "execution_count": 20,
   "metadata": {},
   "outputs": [
    {
     "name": "stdout",
     "output_type": "stream",
     "text": [
      "0 1 2 3 4 5 6 7 8 9\n",
      "0 5 10 15 20 25 30 35 40 45 50\n",
      "10 9 8 7 6 5 4 3 2 1 "
     ]
    }
   ],
   "source": [
    "for i in range(0,10):\n",
    "    if i<9:\n",
    "        print(i,end=' ')\n",
    "    else:\n",
    "        print(i)       \n",
    "for i in range(0,51,5):\n",
    "    if i<50:\n",
    "        print(i,end=' ')\n",
    "    else:\n",
    "         print(i)\n",
    "for i in reversed(range(1,11)):\n",
    "    print(i,end=' ')"
   ]
  },
  {
   "cell_type": "markdown",
   "metadata": {},
   "source": [
    "문제6"
   ]
  },
  {
   "cell_type": "code",
   "execution_count": 21,
   "metadata": {},
   "outputs": [
    {
     "name": "stdout",
     "output_type": "stream",
     "text": [
      "red\n",
      "green\n",
      "blue\n"
     ]
    }
   ],
   "source": [
    "colors = [\"red\",\"green\",\"blue\"]\n",
    "for i in colors:\n",
    "    print(i)"
   ]
  },
  {
   "cell_type": "markdown",
   "metadata": {},
   "source": [
    "문제7"
   ]
  },
  {
   "cell_type": "code",
   "execution_count": 23,
   "metadata": {},
   "outputs": [
    {
     "name": "stdout",
     "output_type": "stream",
     "text": [
      "4 6 8 10 12 "
     ]
    }
   ],
   "source": [
    "a = [1,3,4,5,6,7,8,9,10,11,12,13]\n",
    "for i in a:\n",
    "    if i%2==0:\n",
    "        print(i,end=' ')"
   ]
  },
  {
   "cell_type": "markdown",
   "metadata": {},
   "source": [
    "문제8"
   ]
  },
  {
   "cell_type": "code",
   "execution_count": 25,
   "metadata": {},
   "outputs": [
    {
     "name": "stdin",
     "output_type": "stream",
     "text": [
      "출력하고 싶은 단을 입력하세요:  7\n"
     ]
    },
    {
     "name": "stdout",
     "output_type": "stream",
     "text": [
      "7 * 1 =  7\n",
      "7 * 2 = 14\n",
      "7 * 3 = 21\n",
      "7 * 4 = 28\n",
      "7 * 5 = 35\n",
      "7 * 6 = 42\n",
      "7 * 7 = 49\n",
      "7 * 8 = 56\n",
      "7 * 9 = 63\n"
     ]
    }
   ],
   "source": [
    "num =  int(input('출력하고 싶은 단을 입력하세요: '))\n",
    "for i in range(1,10):\n",
    "    print('%d * %d = %2d'%(num,i,num*i))"
   ]
  },
  {
   "cell_type": "markdown",
   "metadata": {},
   "source": [
    "문제9"
   ]
  },
  {
   "cell_type": "code",
   "execution_count": 28,
   "metadata": {},
   "outputs": [
    {
     "name": "stdout",
     "output_type": "stream",
     "text": [
      "== 2단 ==\n",
      "2 *1 =  2\n",
      "2 *2 =  4\n",
      "2 *3 =  6\n",
      "2 *4 =  8\n",
      "2 *5 = 10\n",
      "2 *6 = 12\n",
      "2 *7 = 14\n",
      "2 *8 = 16\n",
      "2 *9 = 18\n",
      "== 3단 ==\n",
      "3 *1 =  3\n",
      "3 *2 =  6\n",
      "3 *3 =  9\n",
      "3 *4 = 12\n",
      "3 *5 = 15\n",
      "3 *6 = 18\n",
      "3 *7 = 21\n",
      "3 *8 = 24\n",
      "3 *9 = 27\n",
      "== 4단 ==\n",
      "4 *1 =  4\n",
      "4 *2 =  8\n",
      "4 *3 = 12\n",
      "4 *4 = 16\n",
      "4 *5 = 20\n",
      "4 *6 = 24\n",
      "4 *7 = 28\n",
      "4 *8 = 32\n",
      "4 *9 = 36\n",
      "== 5단 ==\n",
      "5 *1 =  5\n",
      "5 *2 = 10\n",
      "5 *3 = 15\n",
      "5 *4 = 20\n",
      "5 *5 = 25\n",
      "5 *6 = 30\n",
      "5 *7 = 35\n",
      "5 *8 = 40\n",
      "5 *9 = 45\n",
      "== 6단 ==\n",
      "6 *1 =  6\n",
      "6 *2 = 12\n",
      "6 *3 = 18\n",
      "6 *4 = 24\n",
      "6 *5 = 30\n",
      "6 *6 = 36\n",
      "6 *7 = 42\n",
      "6 *8 = 48\n",
      "6 *9 = 54\n",
      "== 7단 ==\n",
      "7 *1 =  7\n",
      "7 *2 = 14\n",
      "7 *3 = 21\n",
      "7 *4 = 28\n",
      "7 *5 = 35\n",
      "7 *6 = 42\n",
      "7 *7 = 49\n",
      "7 *8 = 56\n",
      "7 *9 = 63\n",
      "== 8단 ==\n",
      "8 *1 =  8\n",
      "8 *2 = 16\n",
      "8 *3 = 24\n",
      "8 *4 = 32\n",
      "8 *5 = 40\n",
      "8 *6 = 48\n",
      "8 *7 = 56\n",
      "8 *8 = 64\n",
      "8 *9 = 72\n",
      "== 9단 ==\n",
      "9 *1 =  9\n",
      "9 *2 = 18\n",
      "9 *3 = 27\n",
      "9 *4 = 36\n",
      "9 *5 = 45\n",
      "9 *6 = 54\n",
      "9 *7 = 63\n",
      "9 *8 = 72\n",
      "9 *9 = 81\n"
     ]
    }
   ],
   "source": [
    "count_x = 2\n",
    "while count_x<10:\n",
    "    count_y = 1\n",
    "    print(\"== %d단 ==\"%count_x)\n",
    "    while count_y<10:\n",
    "        print(\"%d *%d = %2d\"%(count_x,count_y,count_x*count_y))\n",
    "        count_y +=1\n",
    "    count_x +=1"
   ]
  },
  {
   "cell_type": "code",
   "execution_count": null,
   "metadata": {},
   "outputs": [],
   "source": [
    "문제10"
   ]
  },
  {
   "cell_type": "code",
   "execution_count": 30,
   "metadata": {},
   "outputs": [
    {
     "name": "stdout",
     "output_type": "stream",
     "text": [
      "2*1= 2 2*2= 4 2*3= 6 2*4= 8 2*5=10 2*6=12 2*7=14 2*8=16 2*9=18\n",
      "3*1= 3 3*2= 6 3*3= 9 3*4=12 3*5=15 3*6=18 3*7=21 3*8=24 3*9=27\n",
      "4*1= 4 4*2= 8 4*3=12 4*4=16 4*5=20 4*6=24 4*7=28 4*8=32 4*9=36\n",
      "5*1= 5 5*2=10 5*3=15 5*4=20 5*5=25 5*6=30 5*7=35 5*8=40 5*9=45\n",
      "6*1= 6 6*2=12 6*3=18 6*4=24 6*5=30 6*6=36 6*7=42 6*8=48 6*9=54\n",
      "7*1= 7 7*2=14 7*3=21 7*4=28 7*5=35 7*6=42 7*7=49 7*8=56 7*9=63\n",
      "8*1= 8 8*2=16 8*3=24 8*4=32 8*5=40 8*6=48 8*7=56 8*8=64 8*9=72\n",
      "9*1= 9 9*2=18 9*3=27 9*4=36 9*5=45 9*6=54 9*7=63 9*8=72 9*9=81\n"
     ]
    }
   ],
   "source": [
    "count_x = 2\n",
    "while count_x<10:\n",
    "    count_y = 1\n",
    "    while count_y<10:\n",
    "        if count_y<9:\n",
    "            print(\"%d*%d=%2d\"%(count_x,count_y,count_x*count_y),end=' ')\n",
    "        else:\n",
    "            print(\"%d*%d=%2d\"%(count_x,count_y,count_x*count_y))\n",
    "        count_y +=1\n",
    "    count_x +=1"
   ]
  },
  {
   "cell_type": "code",
   "execution_count": null,
   "metadata": {},
   "outputs": [],
   "source": []
  }
 ],
 "metadata": {
  "kernelspec": {
   "display_name": "Python 3",
   "language": "python",
   "name": "python3"
  },
  "language_info": {
   "codemirror_mode": {
    "name": "ipython",
    "version": 3
   },
   "file_extension": ".py",
   "mimetype": "text/x-python",
   "name": "python",
   "nbconvert_exporter": "python",
   "pygments_lexer": "ipython3",
   "version": "3.8.3"
  }
 },
 "nbformat": 4,
 "nbformat_minor": 4
}
