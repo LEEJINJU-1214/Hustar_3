{
 "cells": [
  {
   "cell_type": "markdown",
   "metadata": {},
   "source": [
    "딕셔너리 1"
   ]
  },
  {
   "cell_type": "code",
   "execution_count": 11,
   "metadata": {},
   "outputs": [
    {
     "name": "stdout",
     "output_type": "stream",
     "text": [
      "1 2 10 "
     ]
    }
   ],
   "source": [
    "d = {'youn':1,'park':2,'kim':10}\n",
    "for i in d.values():\n",
    "    print(i,end=' ')"
   ]
  },
  {
   "cell_type": "code",
   "execution_count": 12,
   "metadata": {},
   "outputs": [
    {
     "name": "stdout",
     "output_type": "stream",
     "text": [
      "1 2 10 "
     ]
    }
   ],
   "source": [
    "for key in d:\n",
    "    print(d[key],end=' ')"
   ]
  },
  {
   "cell_type": "code",
   "execution_count": 14,
   "metadata": {},
   "outputs": [
    {
     "name": "stdout",
     "output_type": "stream",
     "text": [
      "1 2 10 "
     ]
    }
   ],
   "source": [
    "for item in d.items():\n",
    "    k, v = item #언팩킹\n",
    "    print(v,end= ' ')"
   ]
  },
  {
   "cell_type": "code",
   "execution_count": 15,
   "metadata": {},
   "outputs": [
    {
     "name": "stdout",
     "output_type": "stream",
     "text": [
      "1 2 10 "
     ]
    }
   ],
   "source": [
    "for k, v in d.items():\n",
    "    print(v,end= ' ')"
   ]
  },
  {
   "cell_type": "markdown",
   "metadata": {},
   "source": [
    "딕셔너리 2"
   ]
  },
  {
   "cell_type": "code",
   "execution_count": 48,
   "metadata": {
    "scrolled": true
   },
   "outputs": [
    {
     "name": "stdout",
     "output_type": "stream",
     "text": [
      "five 5\n",
      "four 4\n",
      "one 1\n",
      "three 3\n",
      "two 2\n"
     ]
    }
   ],
   "source": [
    "d={'one':1, 'two':2, 'three':3, 'four':4, 'five':5}\n",
    "keys = []\n",
    "for item in d.items():\n",
    "    k,v = item\n",
    "    keys.append(k)\n",
    "k_ = sorted(keys)\n",
    "for i in range(len(d)):\n",
    "    print(k_[i],d[k_[i]])"
   ]
  },
  {
   "cell_type": "markdown",
   "metadata": {},
   "source": [
    "딕셔너리 3"
   ]
  },
  {
   "cell_type": "code",
   "execution_count": 23,
   "metadata": {},
   "outputs": [
    {
     "name": "stdout",
     "output_type": "stream",
     "text": [
      "Enter a sentence:Python is fun!\n",
      "{'P': 1, 'y': 1, 't': 1, 'h': 1, 'o': 1, 'n': 2, ' ': 2, 'i': 1, 's': 1, 'f': 1, 'u': 1, '!': 1}\n"
     ]
    }
   ],
   "source": [
    "sent = input(\"Enter a sentence:\")\n",
    "d={}\n",
    "listsent = []\n",
    "for i in sent:\n",
    "    listsent.append(i)\n",
    "for i in sent:\n",
    "    if listsent.count(i)!=1:\n",
    "        d[i] = listsent.count(i)\n",
    "    else:\n",
    "        d[i] = 1\n",
    "print(d)\n"
   ]
  },
  {
   "cell_type": "markdown",
   "metadata": {},
   "source": [
    "실습1"
   ]
  },
  {
   "cell_type": "code",
   "execution_count": 49,
   "metadata": {},
   "outputs": [
    {
     "name": "stdout",
     "output_type": "stream",
     "text": [
      "Input an integer:123\n",
      "★\n",
      "★★\n",
      "★★★\n"
     ]
    }
   ],
   "source": [
    "num=input(\"Input an integer:\")\n",
    "\n",
    "for i in num:\n",
    "    print(\"★\"*int(i))"
   ]
  },
  {
   "cell_type": "markdown",
   "metadata": {},
   "source": [
    "실습2"
   ]
  },
  {
   "cell_type": "code",
   "execution_count": 50,
   "metadata": {},
   "outputs": [
    {
     "name": "stdout",
     "output_type": "stream",
     "text": [
      "Enter a number:1\n",
      "Enter a number:5\n",
      "Enter a number:9\n",
      "Enter a number:done\n",
      "[1.0, 5.0, 9.0]\n",
      "Average: 5.0\n",
      "Maximum: 9.0\n",
      "Minimum: 1.0\n"
     ]
    }
   ],
   "source": [
    "list_num = []\n",
    "while True:\n",
    "    input_num = input('Enter a number:')\n",
    "    if input_num=='done':\n",
    "        print(list_num)\n",
    "        print('Average:',sum(list_num)/len(list_num))\n",
    "        print('Maximum:',max(list_num))\n",
    "        print('Minimum:',min(list_num))\n",
    "        break;\n",
    "    list_num.append(float(input_num))\n"
   ]
  },
  {
   "cell_type": "code",
   "execution_count": null,
   "metadata": {},
   "outputs": [],
   "source": []
  }
 ],
 "metadata": {
  "kernelspec": {
   "display_name": "Python 3",
   "language": "python",
   "name": "python3"
  },
  "language_info": {
   "codemirror_mode": {
    "name": "ipython",
    "version": 3
   },
   "file_extension": ".py",
   "mimetype": "text/x-python",
   "name": "python",
   "nbconvert_exporter": "python",
   "pygments_lexer": "ipython3",
   "version": "3.8.5"
  }
 },
 "nbformat": 4,
 "nbformat_minor": 4
}
