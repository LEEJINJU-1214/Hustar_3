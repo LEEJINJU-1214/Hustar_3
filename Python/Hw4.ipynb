{
 "cells": [
  {
   "cell_type": "markdown",
   "metadata": {},
   "source": [
    "실습1"
   ]
  },
  {
   "cell_type": "code",
   "execution_count": 45,
   "metadata": {},
   "outputs": [
    {
     "name": "stdout",
     "output_type": "stream",
     "text": [
      "first 1\n",
      "line 3\n",
      "second 1\n",
      "third 1\n"
     ]
    }
   ],
   "source": [
    "with open('test.txt','w') as f:\n",
    "    f.write('first line\\n')\n",
    "    f.write('second line\\n')\n",
    "    f.write('third line')\n",
    "fr = open('test.txt', 'r')\n",
    "d ={}\n",
    "for line in fr:\n",
    "    text = line.split()\n",
    "    for key in text:\n",
    "        if key in d:\n",
    "            d[key]+=1\n",
    "        else:\n",
    "            d[key]=1\n",
    "for key,v in d.items():\n",
    "    print(key,d[key])\n",
    "fr.close()"
   ]
  },
  {
   "cell_type": "markdown",
   "metadata": {},
   "source": [
    "실습2"
   ]
  },
  {
   "cell_type": "code",
   "execution_count": 9,
   "metadata": {},
   "outputs": [
    {
     "name": "stdout",
     "output_type": "stream",
     "text": [
      "Enter a file name:test.txt\n",
      "FIRST LINE\n",
      "SECOND LINE\n",
      "THIRD LINE"
     ]
    }
   ],
   "source": [
    "import os\n",
    "file  = input('Enter a file name:')\n",
    "if os.path.exists(file):\n",
    "    with open(file,'r') as f:\n",
    "        while True:\n",
    "            line   = f.readline()\n",
    "            if line == '':\n",
    "                break\n",
    "            print(line.upper(), end='')\n",
    "else:\n",
    "    print('파일이 존재하지 않는다')"
   ]
  },
  {
   "cell_type": "code",
   "execution_count": null,
   "metadata": {},
   "outputs": [],
   "source": []
  },
  {
   "cell_type": "code",
   "execution_count": null,
   "metadata": {},
   "outputs": [],
   "source": []
  },
  {
   "cell_type": "markdown",
   "metadata": {},
   "source": [
    "실습3"
   ]
  },
  {
   "cell_type": "code",
   "execution_count": null,
   "metadata": {},
   "outputs": [],
   "source": []
  },
  {
   "cell_type": "markdown",
   "metadata": {},
   "source": [
    "실습4"
   ]
  },
  {
   "cell_type": "code",
   "execution_count": 17,
   "metadata": {},
   "outputs": [
    {
     "name": "stdout",
     "output_type": "stream",
     "text": [
      "201901 89 78 82.4(B)\n",
      "201902 76 84 80.8(B)\n",
      "201903 67 42 52.0(F)\n",
      "201904 66 88 79.2(B)\n",
      "201905 98 99 98.6(A)\n"
     ]
    }
   ],
   "source": [
    "#학생수 제한 X\n",
    "with open('score.txt','w') as f:\n",
    "    f.write('201901 89 78\\n')\n",
    "    f.write('201902 76 84\\n')\n",
    "    f.write('201903 67 42\\n')\n",
    "    f.write('201904 66 88\\n')\n",
    "    f.write('201905 98 99')\n",
    "def cal(x,y):\n",
    "    result = (float(x)*0.4)+(float(y)*0.6)\n",
    "    if result>89:\n",
    "        grade='(A)'\n",
    "    elif result>79:\n",
    "        grade='(B)'\n",
    "    elif result>69:\n",
    "        grade='(C)'\n",
    "    elif result>59:\n",
    "        grade='(D)'\n",
    "    else:\n",
    "        grade='(F)'\n",
    "    return str(result)+grade\n",
    "fr = open('score.txt', 'r')\n",
    "d ={}\n",
    "list_text = []\n",
    "for line in fr:\n",
    "    text = line.split()\n",
    "    list_text.append(text)\n",
    "for i in range(len(list_text)):\n",
    "    d[list_text[i][0]] = [list_text[i][1],list_text[i][2]]\n",
    "with open('report.txt','w') as f:\n",
    "    for key,v in d.items():\n",
    "        x,y = v\n",
    "        print(key,x,y,cal(x,y))\n",
    "        f.write(key+\" \"+x+\" \"+y+\" \"+cal(x,y)+'\\n')\n",
    "fr.close()"
   ]
  },
  {
   "cell_type": "code",
   "execution_count": null,
   "metadata": {},
   "outputs": [],
   "source": []
  }
 ],
 "metadata": {
  "kernelspec": {
   "display_name": "Python 3",
   "language": "python",
   "name": "python3"
  },
  "language_info": {
   "codemirror_mode": {
    "name": "ipython",
    "version": 3
   },
   "file_extension": ".py",
   "mimetype": "text/x-python",
   "name": "python",
   "nbconvert_exporter": "python",
   "pygments_lexer": "ipython3",
   "version": "3.8.3"
  }
 },
 "nbformat": 4,
 "nbformat_minor": 4
}
